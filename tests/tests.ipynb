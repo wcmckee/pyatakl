{
 "metadata": {
  "name": "",
  "signature": "sha256:c9d0fc10c83e82a2fa0d524f6f8c1247405ba419da7c23f3876be345ee452e12"
 },
 "nbformat": 3,
 "nbformat_minor": 0,
 "worksheets": [
  {
   "cells": [
    {
     "cell_type": "code",
     "collapsed": false,
     "input": [
      "import unittest\n",
      "import requests"
     ],
     "language": "python",
     "metadata": {},
     "outputs": [],
     "prompt_number": 4
    },
    {
     "cell_type": "code",
     "collapsed": false,
     "input": [
      "class ParkingTestCase(CarTestCase):\n",
      "    def test"
     ],
     "language": "python",
     "metadata": {},
     "outputs": []
    }
   ],
   "metadata": {}
  }
 ]
}