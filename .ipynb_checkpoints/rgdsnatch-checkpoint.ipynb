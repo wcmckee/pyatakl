{
 "metadata": {
  "name": "",
  "signature": "sha256:a9765ba86dde015c95a34048d1c2b46f1b340e1bd59d35918123fc730299a299"
 },
 "nbformat": 3,
 "nbformat_minor": 0,
 "worksheets": [
  {
   "cells": [
    {
     "cell_type": "markdown",
     "metadata": {},
     "source": [
      "rgdsnatch: Reddit script to get posts and data from RedditGetsDrawn and post to artcontroldrawsyou"
     ]
    },
    {
     "cell_type": "code",
     "collapsed": false,
     "input": [
      "import os\n",
      "import random\n",
      "import requests\n",
      "import re\n",
      "import json\n",
      "import praw"
     ],
     "language": "python",
     "metadata": {},
     "outputs": [],
     "prompt_number": 201
    },
    {
     "cell_type": "code",
     "collapsed": false,
     "input": [
      "os.chdir('/home/wcmckee/rgd')"
     ],
     "language": "python",
     "metadata": {},
     "outputs": [],
     "prompt_number": 202
    },
    {
     "cell_type": "code",
     "collapsed": false,
     "input": [
      "r = praw.Reddit(user_agent='rgdsnatch')"
     ],
     "language": "python",
     "metadata": {},
     "outputs": [],
     "prompt_number": 203
    },
    {
     "cell_type": "code",
     "collapsed": false,
     "input": [
      "#r.login('artcontrol', 'test123')"
     ],
     "language": "python",
     "metadata": {},
     "outputs": [],
     "prompt_number": 204
    },
    {
     "cell_type": "code",
     "collapsed": false,
     "input": [
      "rd = r.get_subreddit('redditgonemild')"
     ],
     "language": "python",
     "metadata": {},
     "outputs": [],
     "prompt_number": 205
    },
    {
     "cell_type": "code",
     "collapsed": false,
     "input": [
      "rdnewz = rd.get_new()"
     ],
     "language": "python",
     "metadata": {},
     "outputs": [],
     "prompt_number": 206
    },
    {
     "cell_type": "code",
     "collapsed": false,
     "input": [
      "rdnew = []"
     ],
     "language": "python",
     "metadata": {},
     "outputs": [],
     "prompt_number": 207
    },
    {
     "cell_type": "code",
     "collapsed": false,
     "input": [
      "for uz in rdnewz:\n",
      "    #print uz\n",
      "    rdnew.append(uz)"
     ],
     "language": "python",
     "metadata": {},
     "outputs": [],
     "prompt_number": 208
    },
    {
     "cell_type": "code",
     "collapsed": false,
     "input": [
      "#rd.get_top"
     ],
     "language": "python",
     "metadata": {},
     "outputs": [
      {
       "metadata": {},
       "output_type": "pyout",
       "prompt_number": 209,
       "text": [
        "<bound method Subreddit._sorted of Subreddit(display_name='redditgonemild')>"
       ]
      }
     ],
     "prompt_number": 209
    },
    {
     "cell_type": "code",
     "collapsed": false,
     "input": [
      "linkdict = {}"
     ],
     "language": "python",
     "metadata": {},
     "outputs": [],
     "prompt_number": 210
    },
    {
     "cell_type": "code",
     "collapsed": false,
     "input": [
      "for newa in rdnew:\n",
      "    #rint newa.url\n",
      "    #print newa.author\n",
      "    linkdict.update({str(newa.author): str(newa.url)})"
     ],
     "language": "python",
     "metadata": {},
     "outputs": [],
     "prompt_number": 211
    },
    {
     "cell_type": "code",
     "collapsed": false,
     "input": [
      "import json"
     ],
     "language": "python",
     "metadata": {},
     "outputs": [],
     "prompt_number": 212
    },
    {
     "cell_type": "code",
     "collapsed": false,
     "input": [
      "newzjson = json.dumps(linkdict)"
     ],
     "language": "python",
     "metadata": {},
     "outputs": [],
     "prompt_number": 213
    },
    {
     "cell_type": "code",
     "collapsed": false,
     "input": [
      "#newzjson"
     ],
     "language": "python",
     "metadata": {},
     "outputs": [
      {
       "metadata": {},
       "output_type": "pyout",
       "prompt_number": 214,
       "text": [
        "'{}'"
       ]
      }
     ],
     "prompt_number": 214
    },
    {
     "cell_type": "code",
     "collapsed": false,
     "input": [],
     "language": "python",
     "metadata": {},
     "outputs": [],
     "prompt_number": 214
    },
    {
     "cell_type": "code",
     "collapsed": false,
     "input": [
      "rmine = r.get_redditor('itwillbemine')\n"
     ],
     "language": "python",
     "metadata": {},
     "outputs": [],
     "prompt_number": 216
    },
    {
     "cell_type": "code",
     "collapsed": false,
     "input": [
      "#opest = open('userurl.json', 'r')\n",
      "#opest.read()\n",
      "#opest.close()"
     ],
     "language": "python",
     "metadata": {},
     "outputs": [],
     "prompt_number": 217
    },
    {
     "cell_type": "code",
     "collapsed": false,
     "input": [
      "mincom = rmine.get_comments()"
     ],
     "language": "python",
     "metadata": {},
     "outputs": [],
     "prompt_number": 218
    },
    {
     "cell_type": "code",
     "collapsed": false,
     "input": [
      "#print mincom"
     ],
     "language": "python",
     "metadata": {},
     "outputs": [
      {
       "output_type": "stream",
       "stream": "stdout",
       "text": [
        "<generator object get_content at 0x7f28c40ea0a0>\n"
       ]
      }
     ],
     "prompt_number": 219
    },
    {
     "cell_type": "code",
     "collapsed": false,
     "input": [
      "minels = []"
     ],
     "language": "python",
     "metadata": {},
     "outputs": [],
     "prompt_number": 220
    },
    {
     "cell_type": "code",
     "collapsed": false,
     "input": [
      "\n",
      "dausr = {}"
     ],
     "language": "python",
     "metadata": {},
     "outputs": [],
     "prompt_number": 227
    },
    {
     "cell_type": "code",
     "collapsed": false,
     "input": [
      "for newa in rdnew:\n",
      "    #rint newa.url\n",
      "    #print newa.author\n",
      "    linkdict.update({str(newa.author): str(newa.url)})"
     ],
     "language": "python",
     "metadata": {},
     "outputs": [],
     "prompt_number": 222
    },
    {
     "cell_type": "code",
     "collapsed": false,
     "input": [
      "for con in mincom:\n",
      "    #print con.body\n",
      "    minels.append(con)\n",
      "    dausr.update({str(con.id): str(con.body)})"
     ],
     "language": "python",
     "metadata": {},
     "outputs": [],
     "prompt_number": 228
    },
    {
     "cell_type": "code",
     "collapsed": false,
     "input": [
      "noizjson = json.dumps(dausr)"
     ],
     "language": "python",
     "metadata": {},
     "outputs": [],
     "prompt_number": 230
    },
    {
     "cell_type": "code",
     "collapsed": false,
     "input": [
      "newposts = open('userurl.json', 'a')\n",
      "newposts.write(newzjson)\n",
      "print 'file userurl.json updated'\n",
      "\n",
      "newposts.write(noizjson)\n",
      "print 'user comments updated'\n",
      "newposts.close()"
     ],
     "language": "python",
     "metadata": {},
     "outputs": [
      {
       "output_type": "stream",
       "stream": "stdout",
       "text": [
        "file userurl.json updated\n",
        "user comments\n"
       ]
      }
     ],
     "prompt_number": 231
    },
    {
     "cell_type": "code",
     "collapsed": false,
     "input": [
      "rdusr = str(con.author)\n"
     ],
     "language": "python",
     "metadata": {},
     "outputs": [],
     "prompt_number": 229
    },
    {
     "cell_type": "code",
     "collapsed": false,
     "input": [
      "minelsz = []"
     ],
     "language": "python",
     "metadata": {},
     "outputs": [],
     "prompt_number": 183
    },
    {
     "cell_type": "code",
     "collapsed": false,
     "input": [],
     "language": "python",
     "metadata": {},
     "outputs": []
    },
    {
     "cell_type": "code",
     "collapsed": false,
     "input": [
      "#for mina in minels:\n",
      "    #print mina.body\n",
      "   # minelsz.append(mina.body)"
     ],
     "language": "python",
     "metadata": {},
     "outputs": [
      {
       "output_type": "stream",
       "stream": "stdout",
       "text": [
        "Amazing job! Just incredible!\n",
        "No problem, thank you!\n",
        "Thank you for contributing! :)\n",
        "These are great, but per our rules, you are only supposed to submit art that is relevant to the OP of a thread. So whichever one is extra should not be included. Just FYI for future reference. Thanks!\n",
        "Your comment was removed for not containing art, and comments on appearance are prohibited in this sub. Please read our rules before participating.\n",
        "Welcome! I'm really glad you came by! :) These are incredible. \n",
        "So glad you're here! I loved the texture of the piece of yours that I chose - so soft and glowy and lovely! :)\n",
        "Comment removed; funtime is over.\n",
        "This conversation has taken an overwhelmingly predictable turn. &lt;cocks shotgun&gt;\n",
        "&gt; your physique definitely makes you look like a badass warrior.\n",
        "\n",
        "Thank you for contributing! Remember per our rules to please not make any comments on the appearance of submitters, no matter how neutral, offhand, or small the comment is. Thanks! :)\n",
        "\n",
        "\n",
        "Do not argue with a mod in a thread. That's the second rule you've broken.\n",
        "Filtered/manipulated images are removed. Please read our rules.\n",
        "Last warning to acknowledge the artists who have given you these gifts...\n",
        "You're awesome, too!\n",
        "\n",
        "(in case you didn't know) :D\n",
        "&lt;3 &lt;3 &lt;3\n",
        "Yay, then you're in the right place!\n",
        "Thanks for your honesty. While that technically fits our rules, please note that we prefer to see more drawing than filtering. Thanks!\n",
        "Maybe sometime they will.\n",
        "\n",
        "Oops....did I just do it again? :D\n",
        "Aaaand you were warned before. Banned it is!\n",
        "\n",
        "http://www.reddit.com/r/redditgetsdrawn/comments/23lrlx/this_is_my_favorite_picture_of_my_dad_and_i_from/\n",
        "And again:\n",
        "\n",
        "http://www.reddit.com/r/redditgetsdrawn/comments/23kaql/this_is_my_favorite_picture_of_my_dad_and_i_from/\n",
        "Deleting your posts and reposting are both against our sub rules. Be careful, or it will earn you a ban. This post was removed.\n",
        "\n",
        "http://www.reddit.com/r/redditgetsdrawn/comments/23ggti/this_is_my_favorite_picture_of_my_dad_and_i_from/\n",
        "Noice!\n",
        "Posting, deleting, reposting, frequent posting. Banned.\n",
        "\n",
        "http://www.reddit.com/r/redditgetsdrawn/comments/27jc9g/would_anyone_care_to_draw_the_moment_we_fell_in/\n",
        "\n",
        "It had not been three days at the time of the other mod's comment. We know what we're doing; thanks.\n",
        "Shhhh....you're okay.\n"
       ]
      }
     ],
     "prompt_number": 232
    },
    {
     "cell_type": "code",
     "collapsed": false,
     "input": [
      "#minelsz"
     ],
     "language": "python",
     "metadata": {},
     "outputs": [
      {
       "metadata": {},
       "output_type": "pyout",
       "prompt_number": 185,
       "text": [
        "[u'Amazing job! Just incredible!',\n",
        " u'No problem, thank you!',\n",
        " u'Thank you for contributing! :)',\n",
        " u'These are great, but per our rules, you are only supposed to submit art that is relevant to the OP of a thread. So whichever one is extra should not be included. Just FYI for future reference. Thanks!',\n",
        " u'Your comment was removed for not containing art, and comments on appearance are prohibited in this sub. Please read our rules before participating.',\n",
        " u\"Welcome! I'm really glad you came by! :) These are incredible. \",\n",
        " u\"So glad you're here! I loved the texture of the piece of yours that I chose - so soft and glowy and lovely! :)\",\n",
        " u'Comment removed; funtime is over.',\n",
        " u'This conversation has taken an overwhelmingly predictable turn. &lt;cocks shotgun&gt;',\n",
        " u'&gt; your physique definitely makes you look like a badass warrior.\\n\\nThank you for contributing! Remember per our rules to please not make any comments on the appearance of submitters, no matter how neutral, offhand, or small the comment is. Thanks! :)\\n\\n',\n",
        " u\"Do not argue with a mod in a thread. That's the second rule you've broken.\",\n",
        " u'Filtered/manipulated images are removed. Please read our rules.',\n",
        " u'Last warning to acknowledge the artists who have given you these gifts...',\n",
        " u\"You're awesome, too!\\n\\n(in case you didn't know) :D\",\n",
        " u'&lt;3 &lt;3 &lt;3',\n",
        " u\"Yay, then you're in the right place!\",\n",
        " u'Thanks for your honesty. While that technically fits our rules, please note that we prefer to see more drawing than filtering. Thanks!',\n",
        " u'Maybe sometime they will.\\n\\nOops....did I just do it again? :D',\n",
        " u'Aaaand you were warned before. Banned it is!\\n\\nhttp://www.reddit.com/r/redditgetsdrawn/comments/23lrlx/this_is_my_favorite_picture_of_my_dad_and_i_from/',\n",
        " u'And again:\\n\\nhttp://www.reddit.com/r/redditgetsdrawn/comments/23kaql/this_is_my_favorite_picture_of_my_dad_and_i_from/',\n",
        " u'Deleting your posts and reposting are both against our sub rules. Be careful, or it will earn you a ban. This post was removed.\\n\\nhttp://www.reddit.com/r/redditgetsdrawn/comments/23ggti/this_is_my_favorite_picture_of_my_dad_and_i_from/',\n",
        " u'Noice!',\n",
        " u'Posting, deleting, reposting, frequent posting. Banned.\\n\\nhttp://www.reddit.com/r/redditgetsdrawn/comments/27jc9g/would_anyone_care_to_draw_the_moment_we_fell_in/\\n',\n",
        " u\"It had not been three days at the time of the other mod's comment. We know what we're doing; thanks.\",\n",
        " u\"Shhhh....you're okay.\"]"
       ]
      }
     ],
     "prompt_number": 185
    },
    {
     "cell_type": "code",
     "collapsed": false,
     "input": [
      "#mina.body"
     ],
     "language": "python",
     "metadata": {},
     "outputs": [
      {
       "metadata": {},
       "output_type": "pyout",
       "prompt_number": 182,
       "text": [
        "u\"Shhhh....you're okay.\""
       ]
      }
     ],
     "prompt_number": 182
    },
    {
     "cell_type": "code",
     "collapsed": false,
     "input": [],
     "language": "python",
     "metadata": {},
     "outputs": []
    }
   ],
   "metadata": {}
  }
 ]
}