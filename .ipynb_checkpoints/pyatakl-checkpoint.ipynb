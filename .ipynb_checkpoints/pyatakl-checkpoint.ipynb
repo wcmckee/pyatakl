{
 "metadata": {
  "name": "",
  "signature": "sha256:51d0412501fb23cbe68a88d639605cb2fde9cb1b63de483a0331f413438b28e4"
 },
 "nbformat": 3,
 "nbformat_minor": 0,
 "worksheets": [
  {
   "cells": [
    {
     "cell_type": "code",
     "collapsed": true,
     "input": [
      "import requests\n",
      "import json\n",
      "import random"
     ],
     "language": "python",
     "metadata": {},
     "outputs": [],
     "prompt_number": 59
    },
    {
     "cell_type": "markdown",
     "metadata": {},
     "source": [
      "<h1>Python Auckland Transport</h1> "
     ]
    },
    {
     "cell_type": "code",
     "collapsed": true,
     "input": [
      "atdat = requests.get('https://api.at.govt.nz/v1/public/display/parkinglocations?api_key=433feddb-d4b9-473b-a0c2-ac982a6d78cd')"
     ],
     "language": "python",
     "metadata": {},
     "outputs": [],
     "prompt_number": 19
    },
    {
     "cell_type": "code",
     "collapsed": false,
     "input": [
      "newurl = ('https://api.at.govt.nz/v1/public/realtime/vehiclelocations')"
     ],
     "language": "python",
     "metadata": {},
     "outputs": [],
     "prompt_number": 20
    },
    {
     "cell_type": "code",
     "collapsed": false,
     "input": [
      "agency = ('gtfs/agency')"
     ],
     "language": "python",
     "metadata": {},
     "outputs": [],
     "prompt_number": 21
    },
    {
     "cell_type": "code",
     "collapsed": false,
     "input": [
      "startu = ('https://api.at.govt.nz/v1/public/')"
     ],
     "language": "python",
     "metadata": {},
     "outputs": [],
     "prompt_number": 22
    },
    {
     "cell_type": "code",
     "collapsed": false,
     "input": [
      "mergu = startu + agency"
     ],
     "language": "python",
     "metadata": {},
     "outputs": [],
     "prompt_number": 23
    },
    {
     "cell_type": "code",
     "collapsed": false,
     "input": [
      "mergu"
     ],
     "language": "python",
     "metadata": {},
     "outputs": [
      {
       "metadata": {},
       "output_type": "pyout",
       "prompt_number": 24,
       "text": [
        "'https://api.at.govt.nz/v1/public/gtfs/agency'"
       ]
      }
     ],
     "prompt_number": 24
    },
    {
     "cell_type": "code",
     "collapsed": false,
     "input": [
      "adpre = (mergu + '?api_key=433feddb-d4b9-473b-a0c2-ac982a6d78cd' )"
     ],
     "language": "python",
     "metadata": {},
     "outputs": [],
     "prompt_number": 25
    },
    {
     "cell_type": "code",
     "collapsed": false,
     "input": [
      "atoiat = requests.get('https://api.at.govt.nz/v1/public/gtfs/agency?api_key=433feddb-d4b9-473b-a0c2-ac982a6d78cd')"
     ],
     "language": "python",
     "metadata": {},
     "outputs": [],
     "prompt_number": 26
    },
    {
     "cell_type": "code",
     "collapsed": false,
     "input": [
      "atbat = requests.get('https://api.at.govt.nz/v1/public/agency?api_key=433feddb-d4b9-473b-a0c2-ac982a6d78cd')"
     ],
     "language": "python",
     "metadata": {},
     "outputs": [],
     "prompt_number": 27
    },
    {
     "cell_type": "code",
     "collapsed": false,
     "input": [
      "atbat"
     ],
     "language": "python",
     "metadata": {},
     "outputs": [
      {
       "metadata": {},
       "output_type": "pyout",
       "prompt_number": 28,
       "text": [
        "<Response [404]>"
       ]
      }
     ],
     "prompt_number": 28
    },
    {
     "cell_type": "code",
     "collapsed": true,
     "input": [
      "atext = atdat.text"
     ],
     "language": "python",
     "metadata": {},
     "outputs": [],
     "prompt_number": 34
    },
    {
     "cell_type": "code",
     "collapsed": true,
     "input": [
      "atdict = json.loads(atext)"
     ],
     "language": "python",
     "metadata": {},
     "outputs": [],
     "prompt_number": 35
    },
    {
     "cell_type": "code",
     "collapsed": true,
     "input": [
      "atres = atdict['response']"
     ],
     "language": "python",
     "metadata": {},
     "outputs": [],
     "prompt_number": 36
    },
    {
     "cell_type": "code",
     "collapsed": true,
     "input": [
      "atlen = len(atres)"
     ],
     "language": "python",
     "metadata": {},
     "outputs": [],
     "prompt_number": 37
    },
    {
     "cell_type": "code",
     "collapsed": false,
     "input": [
      "ranpark = random.randint(0, atlen)"
     ],
     "language": "python",
     "metadata": {},
     "outputs": [],
     "prompt_number": 38
    },
    {
     "cell_type": "code",
     "collapsed": false,
     "input": [],
     "language": "python",
     "metadata": {},
     "outputs": [],
     "prompt_number": 38
    },
    {
     "cell_type": "code",
     "collapsed": false,
     "input": [
      "testpark"
     ],
     "language": "python",
     "metadata": {},
     "outputs": [
      {
       "ename": "NameError",
       "evalue": "name 'testpark' is not defined",
       "output_type": "pyerr",
       "traceback": [
        "\u001b[1;31m---------------------------------------------------------------------------\u001b[0m\n\u001b[1;31mNameError\u001b[0m                                 Traceback (most recent call last)",
        "\u001b[1;32m<ipython-input-39-98633448bafb>\u001b[0m in \u001b[0;36m<module>\u001b[1;34m()\u001b[0m\n\u001b[1;32m----> 1\u001b[1;33m \u001b[0mtestpark\u001b[0m\u001b[1;33m\u001b[0m\u001b[0m\n\u001b[0m",
        "\u001b[1;31mNameError\u001b[0m: name 'testpark' is not defined"
       ]
      }
     ],
     "prompt_number": 39
    },
    {
     "cell_type": "code",
     "collapsed": true,
     "input": [
      "#mything = parks()"
     ],
     "language": "python",
     "metadata": {},
     "outputs": [],
     "prompt_number": 40
    },
    {
     "cell_type": "code",
     "collapsed": true,
     "input": [
      "#for a in mything.getparks():\n",
      " #   print a"
     ],
     "language": "python",
     "metadata": {},
     "outputs": [],
     "prompt_number": 41
    },
    {
     "cell_type": "code",
     "collapsed": true,
     "input": [
      "#blen = atres[0:atlen]"
     ],
     "language": "python",
     "metadata": {},
     "outputs": [],
     "prompt_number": 42
    },
    {
     "cell_type": "code",
     "collapsed": false,
     "input": [
      "ranitem = test.ranpark()"
     ],
     "language": "python",
     "metadata": {},
     "outputs": []
    },
    {
     "cell_type": "code",
     "collapsed": false,
     "input": [
      "thekeys = ranitem.keys()"
     ],
     "language": "python",
     "metadata": {},
     "outputs": []
    },
    {
     "cell_type": "code",
     "collapsed": false,
     "input": [
      "thekeys"
     ],
     "language": "python",
     "metadata": {},
     "outputs": []
    },
    {
     "cell_type": "code",
     "collapsed": false,
     "input": [
      "listz = []"
     ],
     "language": "python",
     "metadata": {},
     "outputs": []
    },
    {
     "cell_type": "code",
     "collapsed": false,
     "input": [
      "for kez in thekeys:\n",
      "    #print key\n",
      "    print atres[0][kez]\n",
      "    listz.append(atres[0][kez])\n",
      "    "
     ],
     "language": "python",
     "metadata": {},
     "outputs": []
    },
    {
     "cell_type": "code",
     "collapsed": true,
     "input": [
      "#dait = atdict.items()"
     ],
     "language": "python",
     "metadata": {},
     "outputs": []
    },
    {
     "cell_type": "code",
     "collapsed": false,
     "input": [
      "print listz[3]"
     ],
     "language": "python",
     "metadata": {},
     "outputs": []
    },
    {
     "cell_type": "code",
     "collapsed": false,
     "input": [
      "import geopy"
     ],
     "language": "python",
     "metadata": {},
     "outputs": []
    },
    {
     "cell_type": "code",
     "collapsed": false,
     "input": [
      "geo = geopy.GoogleV3()"
     ],
     "language": "python",
     "metadata": {},
     "outputs": []
    },
    {
     "cell_type": "code",
     "collapsed": false,
     "input": [
      "geo.geocode(listz[3])"
     ],
     "language": "python",
     "metadata": {},
     "outputs": []
    },
    {
     "cell_type": "code",
     "collapsed": false,
     "input": [
      "olenz = len(listz)"
     ],
     "language": "python",
     "metadata": {},
     "outputs": []
    },
    {
     "cell_type": "code",
     "collapsed": false,
     "input": [
      "dachoice = random.randint(0, olenz)"
     ],
     "language": "python",
     "metadata": {},
     "outputs": []
    },
    {
     "cell_type": "code",
     "collapsed": false,
     "input": [
      "dachoice"
     ],
     "language": "python",
     "metadata": {},
     "outputs": []
    },
    {
     "cell_type": "code",
     "collapsed": true,
     "input": [
      "class parks(object):\n",
      "    def getparks(self):\n",
      "        return atres\n",
      "    \n",
      "    def items(self):\n",
      "        return atres[0]\n",
      "    \n",
      "    def ranpark(self):\n",
      "        return atres[ranpark]\n",
      "    \n",
      "    def genpark(self):\n",
      "        return (geo.geocode(listz[3]))\n",
      "    \n",
      "    def parkloc(self):\n",
      "        return(atres[ranpark]['address'])\n",
      "    \n",
      "    def parkid(self):\n",
      "        return(atres[renpark]['id'])\n",
      "    \n",
      "    def parkcheck():\n",
      "        return(atres[renpark]['type'])\n",
      "    \n",
      "    def parknon(self, inpuz ):\n",
      "        return(atres[renpark][inpuz])"
     ],
     "language": "python",
     "metadata": {},
     "outputs": [],
     "prompt_number": 43
    },
    {
     "cell_type": "code",
     "collapsed": false,
     "input": [],
     "language": "python",
     "metadata": {},
     "outputs": [],
     "prompt_number": 48
    },
    {
     "cell_type": "code",
     "collapsed": false,
     "input": [
      "park = parks()"
     ],
     "language": "python",
     "metadata": {},
     "outputs": [],
     "prompt_number": 49
    },
    {
     "cell_type": "code",
     "collapsed": false,
     "input": [
      "park.genpark()"
     ],
     "language": "python",
     "metadata": {},
     "outputs": [
      {
       "ename": "NameError",
       "evalue": "global name 'geo' is not defined",
       "output_type": "pyerr",
       "traceback": [
        "\u001b[1;31m---------------------------------------------------------------------------\u001b[0m\n\u001b[1;31mNameError\u001b[0m                                 Traceback (most recent call last)",
        "\u001b[1;32m<ipython-input-50-00a81d2434e6>\u001b[0m in \u001b[0;36m<module>\u001b[1;34m()\u001b[0m\n\u001b[1;32m----> 1\u001b[1;33m \u001b[0mpark\u001b[0m\u001b[1;33m.\u001b[0m\u001b[0mgenpark\u001b[0m\u001b[1;33m(\u001b[0m\u001b[1;33m)\u001b[0m\u001b[1;33m\u001b[0m\u001b[0m\n\u001b[0m",
        "\u001b[1;32m<ipython-input-43-49fab2d5039e>\u001b[0m in \u001b[0;36mgenpark\u001b[1;34m(self)\u001b[0m\n\u001b[0;32m     10\u001b[0m \u001b[1;33m\u001b[0m\u001b[0m\n\u001b[0;32m     11\u001b[0m     \u001b[1;32mdef\u001b[0m \u001b[0mgenpark\u001b[0m\u001b[1;33m(\u001b[0m\u001b[0mself\u001b[0m\u001b[1;33m)\u001b[0m\u001b[1;33m:\u001b[0m\u001b[1;33m\u001b[0m\u001b[0m\n\u001b[1;32m---> 12\u001b[1;33m         \u001b[1;32mreturn\u001b[0m \u001b[1;33m(\u001b[0m\u001b[0mgeo\u001b[0m\u001b[1;33m.\u001b[0m\u001b[0mgeocode\u001b[0m\u001b[1;33m(\u001b[0m\u001b[0mlistz\u001b[0m\u001b[1;33m[\u001b[0m\u001b[1;36m3\u001b[0m\u001b[1;33m]\u001b[0m\u001b[1;33m)\u001b[0m\u001b[1;33m)\u001b[0m\u001b[1;33m\u001b[0m\u001b[0m\n\u001b[0m\u001b[0;32m     13\u001b[0m \u001b[1;33m\u001b[0m\u001b[0m\n\u001b[0;32m     14\u001b[0m     \u001b[1;32mdef\u001b[0m \u001b[0mparkloc\u001b[0m\u001b[1;33m(\u001b[0m\u001b[0mself\u001b[0m\u001b[1;33m)\u001b[0m\u001b[1;33m:\u001b[0m\u001b[1;33m\u001b[0m\u001b[0m\n",
        "\u001b[1;31mNameError\u001b[0m: global name 'geo' is not defined"
       ]
      }
     ],
     "prompt_number": 50
    },
    {
     "cell_type": "code",
     "collapsed": false,
     "input": [
      "park.parkloc()\n",
      "\n",
      "park.parknon()"
     ],
     "language": "python",
     "metadata": {},
     "outputs": [
      {
       "ename": "TypeError",
       "evalue": "parknon() takes exactly 2 arguments (1 given)",
       "output_type": "pyerr",
       "traceback": [
        "\u001b[1;31m---------------------------------------------------------------------------\u001b[0m\n\u001b[1;31mTypeError\u001b[0m                                 Traceback (most recent call last)",
        "\u001b[1;32m<ipython-input-56-f8f2cbf9611c>\u001b[0m in \u001b[0;36m<module>\u001b[1;34m()\u001b[0m\n\u001b[0;32m      1\u001b[0m \u001b[0mpark\u001b[0m\u001b[1;33m.\u001b[0m\u001b[0mparkloc\u001b[0m\u001b[1;33m(\u001b[0m\u001b[1;33m)\u001b[0m\u001b[1;33m\u001b[0m\u001b[0m\n\u001b[0;32m      2\u001b[0m \u001b[1;33m\u001b[0m\u001b[0m\n\u001b[1;32m----> 3\u001b[1;33m \u001b[0mpark\u001b[0m\u001b[1;33m.\u001b[0m\u001b[0mparknon\u001b[0m\u001b[1;33m(\u001b[0m\u001b[1;33m)\u001b[0m\u001b[1;33m\u001b[0m\u001b[0m\n\u001b[0m",
        "\u001b[1;31mTypeError\u001b[0m: parknon() takes exactly 2 arguments (1 given)"
       ]
      }
     ],
     "prompt_number": 56
    },
    {
     "cell_type": "code",
     "collapsed": false,
     "input": [
      "park.parkid()"
     ],
     "language": "python",
     "metadata": {},
     "outputs": [
      {
       "ename": "NameError",
       "evalue": "global name 'renpark' is not defined",
       "output_type": "pyerr",
       "traceback": [
        "\u001b[1;31m---------------------------------------------------------------------------\u001b[0m\n\u001b[1;31mNameError\u001b[0m                                 Traceback (most recent call last)",
        "\u001b[1;32m<ipython-input-52-e63029c430d8>\u001b[0m in \u001b[0;36m<module>\u001b[1;34m()\u001b[0m\n\u001b[1;32m----> 1\u001b[1;33m \u001b[0mpark\u001b[0m\u001b[1;33m.\u001b[0m\u001b[0mparkid\u001b[0m\u001b[1;33m(\u001b[0m\u001b[1;33m)\u001b[0m\u001b[1;33m\u001b[0m\u001b[0m\n\u001b[0m",
        "\u001b[1;32m<ipython-input-43-49fab2d5039e>\u001b[0m in \u001b[0;36mparkid\u001b[1;34m(self)\u001b[0m\n\u001b[0;32m     16\u001b[0m \u001b[1;33m\u001b[0m\u001b[0m\n\u001b[0;32m     17\u001b[0m     \u001b[1;32mdef\u001b[0m \u001b[0mparkid\u001b[0m\u001b[1;33m(\u001b[0m\u001b[0mself\u001b[0m\u001b[1;33m)\u001b[0m\u001b[1;33m:\u001b[0m\u001b[1;33m\u001b[0m\u001b[0m\n\u001b[1;32m---> 18\u001b[1;33m         \u001b[1;32mreturn\u001b[0m\u001b[1;33m(\u001b[0m\u001b[0matres\u001b[0m\u001b[1;33m[\u001b[0m\u001b[0mrenpark\u001b[0m\u001b[1;33m]\u001b[0m\u001b[1;33m[\u001b[0m\u001b[1;34m'id'\u001b[0m\u001b[1;33m]\u001b[0m\u001b[1;33m)\u001b[0m\u001b[1;33m\u001b[0m\u001b[0m\n\u001b[0m\u001b[0;32m     19\u001b[0m \u001b[1;33m\u001b[0m\u001b[0m\n\u001b[0;32m     20\u001b[0m     \u001b[1;32mdef\u001b[0m \u001b[0mparkcheck\u001b[0m\u001b[1;33m(\u001b[0m\u001b[1;33m)\u001b[0m\u001b[1;33m:\u001b[0m\u001b[1;33m\u001b[0m\u001b[0m\n",
        "\u001b[1;31mNameError\u001b[0m: global name 'renpark' is not defined"
       ]
      }
     ],
     "prompt_number": 52
    },
    {
     "cell_type": "code",
     "collapsed": false,
     "input": [
      "test.geopark()"
     ],
     "language": "python",
     "metadata": {},
     "outputs": []
    },
    {
     "cell_type": "code",
     "collapsed": false,
     "input": [
      "geo.geocode(listz[3])"
     ],
     "language": "python",
     "metadata": {},
     "outputs": []
    },
    {
     "cell_type": "code",
     "collapsed": false,
     "input": [
      "listz.sort()"
     ],
     "language": "python",
     "metadata": {},
     "outputs": []
    },
    {
     "cell_type": "code",
     "collapsed": false,
     "input": [
      "listz"
     ],
     "language": "python",
     "metadata": {},
     "outputs": []
    },
    {
     "cell_type": "code",
     "collapsed": true,
     "input": [
      "#atdict.viewkeys()"
     ],
     "language": "python",
     "metadata": {},
     "outputs": []
    },
    {
     "cell_type": "code",
     "collapsed": true,
     "input": [
      "#atrespon = atdict['response']"
     ],
     "language": "python",
     "metadata": {},
     "outputs": []
    },
    {
     "cell_type": "code",
     "collapsed": true,
     "input": [],
     "language": "python",
     "metadata": {},
     "outputs": []
    },
    {
     "cell_type": "code",
     "collapsed": true,
     "input": [
      "#savdict = open('/home/wcmckee/pyatakl/tests/presets/carparks.json', 'w')\n",
      "#savdict.write(str(atdict))"
     ],
     "language": "python",
     "metadata": {},
     "outputs": []
    },
    {
     "cell_type": "code",
     "collapsed": true,
     "input": [
      "#dait"
     ],
     "language": "python",
     "metadata": {},
     "outputs": []
    },
    {
     "cell_type": "code",
     "collapsed": true,
     "input": [],
     "language": "python",
     "metadata": {},
     "outputs": []
    },
    {
     "cell_type": "code",
     "collapsed": true,
     "input": [
      "#atdict.values()"
     ],
     "language": "python",
     "metadata": {},
     "outputs": []
    },
    {
     "cell_type": "code",
     "collapsed": true,
     "input": [
      "#for d in blen:\n",
      "#    print d['address']"
     ],
     "language": "python",
     "metadata": {},
     "outputs": []
    },
    {
     "cell_type": "code",
     "collapsed": true,
     "input": [
      "#print atext"
     ],
     "language": "python",
     "metadata": {},
     "outputs": []
    },
    {
     "cell_type": "code",
     "collapsed": true,
     "input": [],
     "language": "python",
     "metadata": {},
     "outputs": []
    },
    {
     "cell_type": "code",
     "collapsed": true,
     "input": [
      "#atke"
     ],
     "language": "python",
     "metadata": {},
     "outputs": []
    },
    {
     "cell_type": "code",
     "collapsed": true,
     "input": [
      "#atkey.name"
     ],
     "language": "python",
     "metadata": {},
     "outputs": []
    },
    {
     "cell_type": "code",
     "collapsed": true,
     "input": [],
     "language": "python",
     "metadata": {},
     "outputs": []
    },
    {
     "cell_type": "code",
     "collapsed": false,
     "input": [
      "getdispl = ('http://api.at.govt.nz/v1/public/realtime/vehiclelocations?api_key=433feddb-d4b9-473b-a0c2-ac982a6d78cd')"
     ],
     "language": "python",
     "metadata": {},
     "outputs": [],
     "prompt_number": 61
    },
    {
     "cell_type": "code",
     "collapsed": false,
     "input": [
      "getres = requests.get(getdispl)"
     ],
     "language": "python",
     "metadata": {},
     "outputs": [],
     "prompt_number": 62
    },
    {
     "cell_type": "code",
     "collapsed": false,
     "input": [
      "gettx = getres.text"
     ],
     "language": "python",
     "metadata": {},
     "outputs": [],
     "prompt_number": 66
    },
    {
     "cell_type": "code",
     "collapsed": false,
     "input": [
      "pajson = json.loads(gettx)"
     ],
     "language": "python",
     "metadata": {},
     "outputs": [],
     "prompt_number": 69
    },
    {
     "cell_type": "code",
     "collapsed": false,
     "input": [
      "pajson.keys()"
     ],
     "language": "python",
     "metadata": {},
     "outputs": [
      {
       "metadata": {},
       "output_type": "pyout",
       "prompt_number": 74,
       "text": [
        "[u'status', u'response', u'error']"
       ]
      }
     ],
     "prompt_number": 74
    },
    {
     "cell_type": "code",
     "collapsed": false,
     "input": [
      "patze = pajson['response']"
     ],
     "language": "python",
     "metadata": {},
     "outputs": [],
     "prompt_number": 76
    },
    {
     "cell_type": "code",
     "collapsed": false,
     "input": [
      "patze.items()"
     ],
     "language": "python",
     "metadata": {},
     "outputs": [
      {
       "metadata": {},
       "output_type": "pyout",
       "prompt_number": 81,
       "text": [
        "[(u'header',\n",
        "  {u'gtfs_realtime_version': u'1.0',\n",
        "   u'incrementality': 1,\n",
        "   u'timestamp': 1401503400.594}),\n",
        " (u'entity',\n",
        "  [{u'id': u'bc0c2bb5-c17d-a6f3-03cd-0f29d73a1114',\n",
        "    u'is_deleted': False,\n",
        "    u'vehicle': {u'position': {u'latitude': -36.926135,\n",
        "      u'longitude': 174.79969},\n",
        "     u'timestamp': 1401503370,\n",
        "     u'trip': {u'route_id': u'0802UE3444',\n",
        "      u'schedule_relationship': 0,\n",
        "      u'trip_id': u'0802UE344413451582534'},\n",
        "     u'vehicle': {u'id': u'15b3efc48534eb538be2d7ad5fb6090f99bfcf984f18169029dd945b520c68c5'}}},\n",
        "   {u'id': u'23123abe-5d2e-f8d3-1518-cdf630def653',\n",
        "    u'is_deleted': False,\n",
        "    u'vehicle': {u'position': {u'latitude': -36.873113,\n",
        "      u'longitude': 174.59485},\n",
        "     u'timestamp': 1401503370,\n",
        "     u'trip': {u'route_id': u'0872GW3196',\n",
        "      u'schedule_relationship': 0,\n",
        "      u'trip_id': u'0872GW319613301889020'},\n",
        "     u'vehicle': {u'id': u'72ea88b3638ee6d8e16676cf7272c5808309a9389434cfaada2a7c232e23ea8b'}}},\n",
        "   {u'id': u'3d03855f-3d7a-c980-18ce-d845623d6df7',\n",
        "    u'is_deleted': False,\n",
        "    u'vehicle': {u'position': {u'latitude': -36.912305,\n",
        "      u'longitude': 174.63546},\n",
        "     u'timestamp': 1401503370,\n",
        "     u'trip': {u'route_id': u'1541GW4897',\n",
        "      u'schedule_relationship': 0,\n",
        "      u'trip_id': u'1541GW489714202509453'},\n",
        "     u'vehicle': {u'id': u'ae10ebfa82740a21b94103c7e5df940ee5e9e51f7b6894ac36ce783d72229b73'}}},\n",
        "   {u'id': u'd175352e-f379-b39d-638c-489a2c21ac5f',\n",
        "    u'is_deleted': False,\n",
        "    u'vehicle': {u'position': {u'latitude': -36.893089,\n",
        "      u'longitude': 174.69605},\n",
        "     u'timestamp': 1401503370,\n",
        "     u'trip': {u'route_id': u'1631GW5258',\n",
        "      u'schedule_relationship': 0,\n",
        "      u'trip_id': u'1631GW525813502687383'},\n",
        "     u'vehicle': {u'id': u'adf08a6ce2be6f8671e13498863b3e70bd258a7f2b33ca94b3c1cf295fb775ba'}}},\n",
        "   {u'id': u'b865cd0b-90fc-c85d-d74b-de7703d3ee99',\n",
        "    u'is_deleted': False,\n",
        "    u'vehicle': {u'position': {u'latitude': -36.866149,\n",
        "      u'longitude': 174.73094},\n",
        "     u'timestamp': 1401503370,\n",
        "     u'trip': {u'route_id': u'1981UE5766',\n",
        "      u'schedule_relationship': 0,\n",
        "      u'trip_id': u'1981UE576613502083468'},\n",
        "     u'vehicle': {u'id': u'e09a03a5179f557b666888ec77b181576a2a06a41741b4973b6eedd98a65a304'}}},\n",
        "   {u'id': u'0633203f-d64c-dd5b-5706-6b77bb37e0a7',\n",
        "    u'is_deleted': False,\n",
        "    u'vehicle': {u'position': {u'latitude': -36.888752,\n",
        "      u'longitude': 174.71086},\n",
        "     u'timestamp': 1401503370,\n",
        "     u'trip': {u'route_id': u'2212GW5820',\n",
        "      u'schedule_relationship': 0,\n",
        "      u'trip_id': u'2212GW58201355863864'},\n",
        "     u'vehicle': {u'id': u'af2ecf50ecd29892de1794f057affe7fabc23e71124d046a6ea166b0d3cfd7b4'}}},\n",
        "   {u'id': u'320a244d-4228-0b4c-1505-15ac61480b90',\n",
        "    u'is_deleted': False,\n",
        "    u'vehicle': {u'position': {u'latitude': -36.955384,\n",
        "      u'longitude': 174.7855},\n",
        "     u'timestamp': 1401503370,\n",
        "     u'trip': {u'route_id': u'3481WP5412',\n",
        "      u'schedule_relationship': 0,\n",
        "      u'trip_id': u'3481WP541214002652554'},\n",
        "     u'vehicle': {u'id': u'2549a0630c44ab511a6f17a1f75e9d7296833347e9f2d278aa8fcdfbe19a717b'}}},\n",
        "   {u'id': u'6caf8c63-8087-603d-2871-123303c1e65f',\n",
        "    u'is_deleted': False,\n",
        "    u'vehicle': {u'position': {u'latitude': -36.975121,\n",
        "      u'longitude': 174.78451},\n",
        "     u'timestamp': 1401503370,\n",
        "     u'trip': {u'route_id': u'3804PAC5631',\n",
        "      u'schedule_relationship': 0,\n",
        "      u'trip_id': u'3804PAC56311410844158'},\n",
        "     u'vehicle': {u'id': u'52e6c07794026b2ca881d2f4394691bbb471d1cb69b7e4933ea7b9dc11f84563'}}},\n",
        "   {u'id': u'fc121914-5909-ccdf-556a-09d83dc13d6e',\n",
        "    u'is_deleted': False,\n",
        "    u'vehicle': {u'position': {u'latitude': -36.933205,\n",
        "      u'longitude': 174.92007},\n",
        "     u'timestamp': 1401503370,\n",
        "     u'trip': {u'route_id': u'5002HE5585',\n",
        "      u'schedule_relationship': 0,\n",
        "      u'trip_id': u'5002HE558513251462976'},\n",
        "     u'vehicle': {u'id': u'17c4aa61a66552f1e082d78b6e9328bb51d5fe7150fe088e0ef2f783c834d57a'}}},\n",
        "   {u'id': u'6ed377c5-787c-4bc9-819e-4e78352b9969',\n",
        "    u'is_deleted': False,\n",
        "    u'vehicle': {u'position': {u'latitude': -36.853174,\n",
        "      u'longitude': 174.8002},\n",
        "     u'timestamp': 1401503370,\n",
        "     u'trip': {u'route_id': u'7172ML5597',\n",
        "      u'schedule_relationship': 0,\n",
        "      u'trip_id': u'7172ML559714252566018'},\n",
        "     u'vehicle': {u'id': u'07a15a2d3653ea978e6e0f0d3111889d76e761382bdecba1c93b00e7da35b81d'}}},\n",
        "   {u'id': u'e0766d34-e351-fd4f-517a-c208de397ee2',\n",
        "    u'is_deleted': False,\n",
        "    u'vehicle': {u'position': {u'latitude': -36.869931,\n",
        "      u'longitude': 174.70986},\n",
        "     u'timestamp': 1401503370,\n",
        "     u'trip': {u'route_id': u'7211LNK5208',\n",
        "      u'schedule_relationship': 0,\n",
        "      u'trip_id': u'7211LNK520814002354565'},\n",
        "     u'vehicle': {u'id': u'1f0e9461176a3f584dcd1460e590d4cbd32267b112d3e6331cba7d60434b6696'}}},\n",
        "   {u'id': u'b3ebfc6b-8e2f-c735-7209-6493aea8d2f1',\n",
        "    u'is_deleted': False,\n",
        "    u'vehicle': {u'position': {u'latitude': -36.870769,\n",
        "      u'longitude': 174.85104},\n",
        "     u'timestamp': 1401503370,\n",
        "     u'trip': {u'route_id': u'7452ML2143',\n",
        "      u'schedule_relationship': 0,\n",
        "      u'trip_id': u'7452ML21431410748773'},\n",
        "     u'vehicle': {u'id': u'8ba78ec063780d4becb8eb202dc5063b8f0ed7573bd5e95b28e064e545aec3fb'}}},\n",
        "   {u'id': u'ff7d0c33-a07e-0f9d-2555-1bf78364423c',\n",
        "    u'is_deleted': False,\n",
        "    u'vehicle': {u'position': {u'latitude': -36.771804,\n",
        "      u'longitude': 174.75508},\n",
        "     u'timestamp': 1401503370,\n",
        "     u'trip': {u'route_id': u'8039RT5417',\n",
        "      u'schedule_relationship': 0,\n",
        "      u'trip_id': u'8039RT54171420356763'},\n",
        "     u'vehicle': {u'id': u'4762159b99bf4da97e9b05b54582161428b6c53ba3e59fb731c9a5cb8024016e'}}},\n",
        "   {u'id': u'7202a511-be8b-147a-0912-d2efd77d2b92',\n",
        "    u'is_deleted': False,\n",
        "    u'vehicle': {u'position': {u'latitude': -36.77389, u'longitude': 174.7696},\n",
        "     u'timestamp': 1401503370,\n",
        "     u'trip': {u'route_id': u'8392NS5152',\n",
        "      u'schedule_relationship': 0,\n",
        "      u'trip_id': u'8392NS515214052154999'},\n",
        "     u'vehicle': {u'id': u'cdc31a47e85e8e68c99dbc8c3bd7752f6562f890d3d2440b41912a406ade4686'}}},\n",
        "   {u'id': u'18b9f4f7-d530-65f6-0187-399b4265fb55',\n",
        "    u'is_deleted': False,\n",
        "    u'vehicle': {u'position': {u'latitude': -36.728906,\n",
        "      u'longitude': 174.75044},\n",
        "     u'timestamp': 1401503370,\n",
        "     u'trip': {u'route_id': u'8801RT4851',\n",
        "      u'schedule_relationship': 0,\n",
        "      u'trip_id': u'8801RT485114051709506'},\n",
        "     u'vehicle': {u'id': u'7d98df0ca106ff42b6203aea127ac9ba2ef8e3becf93a333b000f72a04fe3809'}}},\n",
        "   {u'id': u'd95acb85-5f7c-ea22-cd11-03c1eb1d565f',\n",
        "    u'is_deleted': False,\n",
        "    u'vehicle': {u'position': {u'latitude': -36.90922,\n",
        "      u'longitude': 174.67338},\n",
        "     u'timestamp': 1401503370,\n",
        "     u'trip': {u'route_id': u'2242GW5826',\n",
        "      u'schedule_relationship': 0,\n",
        "      u'trip_id': u'2242GW582613401147010'},\n",
        "     u'vehicle': {u'id': u'1fed138a5babe239812f87e7c2dff7ce06f5f42723c3ae03cae6f7137dbabc47'}}},\n",
        "   {u'id': u'08e294f7-b0c7-5905-fd59-4243bd353245',\n",
        "    u'is_deleted': False,\n",
        "    u'vehicle': {u'position': {u'latitude': -36.916717,\n",
        "      u'longitude': 174.7116},\n",
        "     u'timestamp': 1401503370,\n",
        "     u'trip': {u'route_id': u'2491ML5829',\n",
        "      u'schedule_relationship': 0,\n",
        "      u'trip_id': u'2491ML582914151321124'},\n",
        "     u'vehicle': {u'id': u'4ebc5f936a638db2543c879276924040143c8ea50604c8bbc896bf9a656eaaa3'}}},\n",
        "   {u'id': u'b174af96-d351-8e98-cd03-bb894a27de10',\n",
        "    u'is_deleted': False,\n",
        "    u'vehicle': {u'position': {u'latitude': -36.865845,\n",
        "      u'longitude': 174.76119},\n",
        "     u'timestamp': 1401503370,\n",
        "     u'trip': {u'route_id': u'3001AIR4864',\n",
        "      u'schedule_relationship': 0,\n",
        "      u'trip_id': u'3001AIR48641400284442'},\n",
        "     u'vehicle': {u'id': u'b7a1722a7c98f14c5ef719adbd3426159e885b69c8bf5fd452ca84b4eb4e0a7f'}}},\n",
        "   {u'id': u'0c6d1c61-4028-c402-7236-07c22be7a3db',\n",
        "    u'is_deleted': False,\n",
        "    u'vehicle': {u'position': {u'latitude': -36.941195,\n",
        "      u'longitude': 174.7862},\n",
        "     u'timestamp': 1401503370,\n",
        "     u'trip': {u'route_id': u'3051ML5016',\n",
        "      u'schedule_relationship': 0,\n",
        "      u'trip_id': u'3051ML501614101849296'},\n",
        "     u'vehicle': {u'id': u'92ed846af58846c020690beb858a613d3ed2fc1d2911936f34a0fcb9c4efe023'}}},\n",
        "   {u'id': u'7740f4f7-a82a-fe86-d421-b543bd5585d6',\n",
        "    u'is_deleted': False,\n",
        "    u'vehicle': {u'position': {u'latitude': -36.965877,\n",
        "      u'longitude': 174.82622},\n",
        "     u'timestamp': 1401503370,\n",
        "     u'trip': {u'route_id': u'3282WP5407',\n",
        "      u'schedule_relationship': 0,\n",
        "      u'trip_id': u'3282WP540713403168692'},\n",
        "     u'vehicle': {u'id': u'1e96e023e36985a74d16ac77f7dad49fc4ee21a5974c4b0d307801e5deb921e8'}}},\n",
        "   {u'id': u'2445184e-cfd6-78e2-1c5e-f980f8313f29',\n",
        "    u'is_deleted': False,\n",
        "    u'vehicle': {u'position': {u'latitude': -36.940637,\n",
        "      u'longitude': 174.78942},\n",
        "     u'timestamp': 1401503370,\n",
        "     u'trip': {u'route_id': u'3345WP4126',\n",
        "      u'schedule_relationship': 0,\n",
        "      u'trip_id': u'3345WP41261405575893'},\n",
        "     u'vehicle': {u'id': u'8a8e559e67d83e50e2bd2cd6e7ddb2eb9fbffe146dd4aaaf4ac8f279fb810141'}}},\n",
        "   {u'id': u'98eceb5d-e6f6-e59d-a0d1-70b1996356a1',\n",
        "    u'is_deleted': False,\n",
        "    u'vehicle': {u'position': {u'latitude': -36.911812,\n",
        "      u'longitude': 174.76937},\n",
        "     u'timestamp': 1401503370,\n",
        "     u'trip': {u'route_id': u'3482WP5413',\n",
        "      u'schedule_relationship': 0,\n",
        "      u'trip_id': u'3482WP541314102625083'},\n",
        "     u'vehicle': {u'id': u'9d3f6f50b4c664fa1d21a388e900649bd9cc77d55af9b7998776c61f03e8045b'}}},\n",
        "   {u'id': u'7ccc388a-6a06-0570-e3c6-798c0b6b1096',\n",
        "    u'is_deleted': False,\n",
        "    u'vehicle': {u'position': {u'latitude': -36.908415,\n",
        "      u'longitude': 174.79861},\n",
        "     u'timestamp': 1401503370,\n",
        "     u'trip': {u'route_id': u'3921ML5189',\n",
        "      u'schedule_relationship': 0,\n",
        "      u'trip_id': u'3921ML518914151125591'},\n",
        "     u'vehicle': {u'id': u'a7bb851d8566974d9e2324518fd48312b1410978e5ed8b128d143048d54877f9'}}},\n",
        "   {u'id': u'e608cf86-bd29-dd6d-9c3a-e83332abd4e0',\n",
        "    u'is_deleted': False,\n",
        "    u'vehicle': {u'position': {u'latitude': -36.972633,\n",
        "      u'longitude': 174.83333},\n",
        "     u'timestamp': 1401503370,\n",
        "     u'trip': {u'route_id': u'4284WP4796',\n",
        "      u'schedule_relationship': 0,\n",
        "      u'trip_id': u'4284WP47961420524074'},\n",
        "     u'vehicle': {u'id': u'44a12faee254180ff9d1ad6f4ae947632ac5b7edac0b9fefe58bcd2982be33c2'}}},\n",
        "   {u'id': u'40de92b8-9136-d23d-4a27-9d061d5bb220',\n",
        "    u'is_deleted': False,\n",
        "    u'vehicle': {u'position': {u'latitude': -37.033991,\n",
        "      u'longitude': 174.86875},\n",
        "     u'timestamp': 1401503370,\n",
        "     u'trip': {u'route_id': u'4542WP5243',\n",
        "      u'schedule_relationship': 0,\n",
        "      u'trip_id': u'4542WP52431410981265'},\n",
        "     u'vehicle': {u'id': u'0836fb4fb81b736ad875ca2decfe7a61ad963fd80e4b7cbcdba5e38bedf8a0bb'}}},\n",
        "   {u'id': u'c2a0ddda-25bd-0d7c-ae33-3f040967a3da',\n",
        "    u'is_deleted': False,\n",
        "    u'vehicle': {u'position': {u'latitude': -37.017903,\n",
        "      u'longitude': 174.91454},\n",
        "     u'timestamp': 1401503370,\n",
        "     u'trip': {u'route_id': u'4661HE5519',\n",
        "      u'schedule_relationship': 0,\n",
        "      u'trip_id': u'4661HE55191425494572'},\n",
        "     u'vehicle': {u'id': u'98f1741e630591c47aa03de8e56941231688d6830812c994de6a21a80056dcb5'}}},\n",
        "   {u'id': u'381740a7-a619-be0e-f306-28997423cf25',\n",
        "    u'is_deleted': False,\n",
        "    u'vehicle': {u'position': {u'latitude': -36.899028,\n",
        "      u'longitude': 174.80368},\n",
        "     u'timestamp': 1401503370,\n",
        "     u'trip': {u'route_id': u'4711WP5834',\n",
        "      u'schedule_relationship': 0,\n",
        "      u'trip_id': u'4711WP583413103286880'},\n",
        "     u'vehicle': {u'id': u'fc687eb3bb90997f89b6e92a74029377d007691fa461362482a74380393669cc'}}},\n",
        "   {u'id': u'2693433a-7d6e-28fc-eddb-e1076f99161d',\n",
        "    u'is_deleted': False,\n",
        "    u'vehicle': {u'position': {u'latitude': -36.894092,\n",
        "      u'longitude': 174.90349},\n",
        "     u'timestamp': 1401503370,\n",
        "     u'trip': {u'route_id': u'5520HE5708',\n",
        "      u'schedule_relationship': 0,\n",
        "      u'trip_id': u'5520HE57081415547686'},\n",
        "     u'vehicle': {u'id': u'8d56cb8f51c488f9f27943c61df53ef0e6ef776393e61baddde76405276ae2d0'}}},\n",
        "   {u'id': u'676a497c-06f9-c7d9-65e2-7c0f0719fdc7',\n",
        "    u'is_deleted': False,\n",
        "    u'vehicle': {u'position': {u'latitude': -36.871976,\n",
        "      u'longitude': 174.80498},\n",
        "     u'timestamp': 1401503370,\n",
        "     u'trip': {u'route_id': u'6062ML5416',\n",
        "      u'schedule_relationship': 0,\n",
        "      u'trip_id': u'6062ML54161405403295'},\n",
        "     u'vehicle': {u'id': u'38a4d79f84f6f524d1e9725f85d1385dd25e779366f24f669a1427461a8c483a'}}},\n",
        "   {u'id': u'30525a02-f953-1242-cc14-ef244d43c08d',\n",
        "    u'is_deleted': False,\n",
        "    u'vehicle': {u'position': {u'latitude': -36.859969,\n",
        "      u'longitude': 174.82902},\n",
        "     u'timestamp': 1401503371,\n",
        "     u'trip': {u'route_id': u'7712ML5637',\n",
        "      u'schedule_relationship': 0,\n",
        "      u'trip_id': u'7712ML56371415680783'},\n",
        "     u'vehicle': {u'id': u'652add8061254cda3ab384c6fefba9e0ef01439fc3ddc0d2adc88121aa35b5c3'}}},\n",
        "   {u'id': u'0cbf744f-1de2-0f38-0d2e-35eb5759c09f',\n",
        "    u'is_deleted': False,\n",
        "    u'vehicle': {u'position': {u'latitude': -36.774495,\n",
        "      u'longitude': 174.77229},\n",
        "     u'timestamp': 1401503371,\n",
        "     u'trip': {u'route_id': u'8391NS5098',\n",
        "      u'schedule_relationship': 0,\n",
        "      u'trip_id': u'8391NS509813472156810'},\n",
        "     u'vehicle': {u'id': u'da3aec7855fe89521e76854fdadf445965c0d672d96c8585806baf0f2a56d886'}}},\n",
        "   {u'id': u'26390367-0f8f-b901-0e93-7e4971aa6830',\n",
        "    u'is_deleted': False,\n",
        "    u'vehicle': {u'position': {u'latitude': -36.752711,\n",
        "      u'longitude': 174.7503},\n",
        "     u'timestamp': 1401503371,\n",
        "     u'trip': {u'route_id': u'8791NS5102',\n",
        "      u'schedule_relationship': 0,\n",
        "      u'trip_id': u'8791NS510214002004439'},\n",
        "     u'vehicle': {u'id': u'6b7235393758b7e9d440b0b96f250527e82473fecf4011be637d30ea9d5ea62a'}}},\n",
        "   {u'id': u'c1e857d3-fdba-8336-b3ed-6ede629a1b20',\n",
        "    u'is_deleted': False,\n",
        "    u'vehicle': {u'position': {u'latitude': -36.701289,\n",
        "      u'longitude': 174.73833},\n",
        "     u'timestamp': 1401503371,\n",
        "     u'trip': {u'route_id': u'8862RT4725',\n",
        "      u'schedule_relationship': 0,\n",
        "      u'trip_id': u'8862RT47251400781652'},\n",
        "     u'vehicle': {u'id': u'e79538ac532251d99176ec648c1186f01281923ead3f47e7e3819a6d0ec2bc47'}}},\n",
        "   {u'id': u'54755e96-24b4-4dfc-6496-fdd1911427a9',\n",
        "    u'is_deleted': False,\n",
        "    u'vehicle': {u'position': {u'latitude': -36.890404,\n",
        "      u'longitude': 174.90871},\n",
        "     u'timestamp': 1401503380,\n",
        "     u'trip': {u'route_id': u'5529HE5691',\n",
        "      u'schedule_relationship': 0,\n",
        "      u'trip_id': u'5529HE56911420756540'},\n",
        "     u'vehicle': {u'id': u'e0b232b78d1d2cccf3d77c62d95f7eec9914385c38b567e832eabb44ed662e7e'}}},\n",
        "   {u'id': u'd8f319aa-0a12-2389-0da7-1c1dd97df024',\n",
        "    u'is_deleted': False,\n",
        "    u'vehicle': {u'position': {u'latitude': -36.721819,\n",
        "      u'longitude': 174.74398},\n",
        "     u'timestamp': 1401503380,\n",
        "     u'trip': {u'route_id': u'8583NS5100',\n",
        "      u'schedule_relationship': 0,\n",
        "      u'trip_id': u'8583NS510014201810477'},\n",
        "     u'vehicle': {u'id': u'fc84d8de6e10f152fb6c1fd065b10998c9f2c8f686e9cc362d5d023f92de3382'}}},\n",
        "   {u'id': u'c3d69424-b6bb-69f0-29fc-020b9780d951',\n",
        "    u'is_deleted': False,\n",
        "    u'vehicle': {u'position': {u'latitude': -36.751434,\n",
        "      u'longitude': 174.70336},\n",
        "     u'timestamp': 1401503380,\n",
        "     u'trip': {u'route_id': u'9571BH5248',\n",
        "      u'schedule_relationship': 0,\n",
        "      u'trip_id': u'9571BH52481405714453'},\n",
        "     u'vehicle': {u'id': u'8a0ee1114087b103d9e31d9d7ff688dfc998a80258f6e1ab1f1ecb8694e09a9b'}}},\n",
        "   {u'id': u'aa2c4794-9d9f-c599-b9ee-327500e4b87c',\n",
        "    u'is_deleted': False,\n",
        "    u'vehicle': {u'position': {u'latitude': -36.875621,\n",
        "      u'longitude': 174.82767},\n",
        "     u'timestamp': 1401503380,\n",
        "     u'trip': {u'route_id': u'0073ML5757',\n",
        "      u'schedule_relationship': 0,\n",
        "      u'trip_id': u'0073ML575714152836864'},\n",
        "     u'vehicle': {u'id': u'006922591d3ac7a8e20f2fdf2d0f327dfc3b04d199407f8714ee5426500a8bd6'}}},\n",
        "   {u'id': u'2aa4a838-9b94-e9b2-b539-bddb41ff447d',\n",
        "    u'is_deleted': False,\n",
        "    u'vehicle': {u'position': {u'latitude': -36.890701,\n",
        "      u'longitude': 174.65592},\n",
        "     u'timestamp': 1401503380,\n",
        "     u'trip': {u'route_id': u'1154GW5203',\n",
        "      u'schedule_relationship': 0,\n",
        "      u'trip_id': u'1154GW52031420354051'},\n",
        "     u'vehicle': {u'id': u'725774d265e9996f58172abe5f9a2c86063c0eaab4b7c5693ec76e57f4263053'}}}])]"
       ]
      }
     ],
     "prompt_number": 81
    },
    {
     "cell_type": "code",
     "collapsed": false,
     "input": [],
     "language": "python",
     "metadata": {},
     "outputs": []
    }
   ],
   "metadata": {}
  }
 ]
}