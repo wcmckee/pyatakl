{
 "metadata": {
  "name": "",
  "signature": "sha256:80b92f52477b98e547615c77356a41c5a3d5f86791ca84a21a011d8f9b2692d0"
 },
 "nbformat": 3,
 "nbformat_minor": 0,
 "worksheets": [
  {
   "cells": [
    {
     "cell_type": "code",
     "collapsed": true,
     "input": [
      "import requests\n",
      "import json\n",
      "import random"
     ],
     "language": "python",
     "metadata": {},
     "outputs": [],
     "prompt_number": 216
    },
    {
     "cell_type": "markdown",
     "metadata": {},
     "source": [
      "<h1>Python Auckland Transport</h1> \n",
      "\n",
      "This was created during the Hack Auckland: Auckland Transport event in Auckland.\n",
      "The first day was spent visiting the vendors and having a play with bitcoin.\n",
      "2nd day was more productive with this python code being typed.\n",
      "My plan was to use data from the Auckland Motorcams to detect crashes or events happening on the road. I really should of said this when I got up and talked in front of people about my plan for the event - instead I mentioned the camera feed and how I would like to improve it with more relatient information - including gps of the cameras. "
     ]
    },
    {
     "cell_type": "code",
     "collapsed": true,
     "input": [
      "atdat = requests.get('https://api.at.govt.nz/v1/public/display/parkinglocations?api_key=433feddb-d4b9-473b-a0c2-ac982a6d78cd')\n"
     ],
     "language": "python",
     "metadata": {},
     "outputs": [],
     "prompt_number": 217
    },
    {
     "cell_type": "code",
     "collapsed": true,
     "input": [
      "atext = atdat.text"
     ],
     "language": "python",
     "metadata": {},
     "outputs": [],
     "prompt_number": 218
    },
    {
     "cell_type": "code",
     "collapsed": true,
     "input": [
      "atdict = json.loads(atext)"
     ],
     "language": "python",
     "metadata": {},
     "outputs": [],
     "prompt_number": 219
    },
    {
     "cell_type": "code",
     "collapsed": true,
     "input": [
      "atres = atdict['response']"
     ],
     "language": "python",
     "metadata": {},
     "outputs": [],
     "prompt_number": 220
    },
    {
     "cell_type": "code",
     "collapsed": true,
     "input": [
      "atlen = len(atres)"
     ],
     "language": "python",
     "metadata": {},
     "outputs": [],
     "prompt_number": 221
    },
    {
     "cell_type": "code",
     "collapsed": false,
     "input": [
      "ranpark = random.randint(0, atlen)"
     ],
     "language": "python",
     "metadata": {},
     "outputs": [],
     "prompt_number": 222
    },
    {
     "cell_type": "code",
     "collapsed": true,
     "input": [
      "mything = parks()"
     ],
     "language": "python",
     "metadata": {},
     "outputs": [],
     "prompt_number": 223
    },
    {
     "cell_type": "code",
     "collapsed": true,
     "input": [
      "for a in mything.getparks():\n",
      "    print a.keys()"
     ],
     "language": "python",
     "metadata": {},
     "outputs": [
      {
       "output_type": "stream",
       "stream": "stdout",
       "text": [
        "[u'mobilitySpaces', u'name', u'longitude', u'address', u'latitude', u'type', u'id']\n",
        "[u'mobilitySpaces', u'name', u'longitude', u'address', u'latitude', u'type', u'id']\n",
        "[u'mobilitySpaces', u'name', u'longitude', u'address', u'latitude', u'type', u'id']\n",
        "[u'mobilitySpaces', u'name', u'longitude', u'address', u'latitude', u'type', u'id']\n",
        "[u'mobilitySpaces', u'name', u'longitude', u'address', u'latitude', u'type', u'id']\n",
        "[u'mobilitySpaces', u'name', u'longitude', u'address', u'latitude', u'type', u'id']\n",
        "[u'mobilitySpaces', u'name', u'longitude', u'address', u'latitude', u'type', u'id']\n",
        "[u'mobilitySpaces', u'name', u'longitude', u'address', u'latitude', u'type', u'id']\n",
        "[u'mobilitySpaces', u'name', u'longitude', u'address', u'latitude', u'type', u'id']\n",
        "[u'mobilitySpaces', u'name', u'longitude', u'address', u'latitude', u'type', u'id']\n",
        "[u'mobilitySpaces', u'name', u'longitude', u'address', u'latitude', u'type', u'id']\n",
        "[u'mobilitySpaces', u'name', u'longitude', u'address', u'latitude', u'type', u'id']\n",
        "[u'mobilitySpaces', u'name', u'longitude', u'address', u'latitude', u'type', u'id']\n",
        "[u'mobilitySpaces', u'name', u'longitude', u'address', u'latitude', u'type', u'id']\n",
        "[u'mobilitySpaces', u'name', u'longitude', u'address', u'latitude', u'type', u'id']\n",
        "[u'mobilitySpaces', u'name', u'longitude', u'address', u'latitude', u'type', u'id']\n",
        "[u'mobilitySpaces', u'name', u'longitude', u'address', u'latitude', u'type', u'id']\n",
        "[u'mobilitySpaces', u'name', u'longitude', u'address', u'latitude', u'type', u'id']\n",
        "[u'mobilitySpaces', u'name', u'longitude', u'address', u'latitude', u'type', u'id']\n",
        "[u'mobilitySpaces', u'name', u'longitude', u'address', u'latitude', u'type', u'id']\n",
        "[u'mobilitySpaces', u'name', u'longitude', u'address', u'latitude', u'type', u'id']\n",
        "[u'mobilitySpaces', u'name', u'longitude', u'address', u'latitude', u'type', u'id']\n",
        "[u'mobilitySpaces', u'name', u'longitude', u'address', u'latitude', u'type', u'id']\n",
        "[u'mobilitySpaces', u'name', u'longitude', u'address', u'latitude', u'type', u'id']\n",
        "[u'mobilitySpaces', u'name', u'longitude', u'address', u'latitude', u'type', u'id']\n",
        "[u'mobilitySpaces', u'name', u'longitude', u'address', u'latitude', u'type', u'id']\n",
        "[u'mobilitySpaces', u'name', u'longitude', u'address', u'latitude', u'type', u'id']\n",
        "[u'mobilitySpaces', u'name', u'longitude', u'address', u'latitude', u'type', u'id']\n",
        "[u'mobilitySpaces', u'name', u'longitude', u'address', u'latitude', u'type', u'id']\n",
        "[u'mobilitySpaces', u'name', u'longitude', u'address', u'latitude', u'type', u'id']\n",
        "[u'mobilitySpaces', u'name', u'longitude', u'address', u'latitude', u'type', u'id']\n",
        "[u'mobilitySpaces', u'name', u'longitude', u'address', u'latitude', u'type', u'id']\n",
        "[u'mobilitySpaces', u'name', u'longitude', u'address', u'latitude', u'type', u'id']\n",
        "[u'mobilitySpaces', u'name', u'longitude', u'address', u'latitude', u'type', u'id']\n",
        "[u'mobilitySpaces', u'name', u'longitude', u'address', u'latitude', u'type', u'id']\n",
        "[u'mobilitySpaces', u'name', u'longitude', u'address', u'latitude', u'type', u'id']\n",
        "[u'mobilitySpaces', u'name', u'longitude', u'address', u'latitude', u'type', u'id']\n",
        "[u'mobilitySpaces', u'name', u'longitude', u'address', u'latitude', u'type', u'id']\n",
        "[u'mobilitySpaces', u'name', u'longitude', u'address', u'latitude', u'type', u'id']\n",
        "[u'mobilitySpaces', u'name', u'longitude', u'address', u'latitude', u'type', u'id']\n",
        "[u'mobilitySpaces', u'name', u'longitude', u'address', u'latitude', u'type', u'id']\n",
        "[u'mobilitySpaces', u'name', u'longitude', u'address', u'latitude', u'type', u'id']\n",
        "[u'mobilitySpaces', u'name', u'longitude', u'address', u'latitude', u'type', u'id']\n",
        "[u'mobilitySpaces', u'name', u'longitude', u'address', u'latitude', u'type', u'id']\n",
        "[u'mobilitySpaces', u'name', u'longitude', u'address', u'latitude', u'type', u'id']\n",
        "[u'mobilitySpaces', u'name', u'longitude', u'address', u'latitude', u'type', u'id']\n",
        "[u'mobilitySpaces', u'name', u'longitude', u'address', u'latitude', u'type', u'id']\n",
        "[u'mobilitySpaces', u'name', u'longitude', u'address', u'latitude', u'type', u'id']\n",
        "[u'mobilitySpaces', u'name', u'longitude', u'address', u'latitude', u'type', u'id']\n",
        "[u'mobilitySpaces', u'name', u'longitude', u'address', u'latitude', u'type', u'id']\n",
        "[u'mobilitySpaces', u'name', u'longitude', u'address', u'latitude', u'type', u'id']\n",
        "[u'mobilitySpaces', u'name', u'longitude', u'address', u'latitude', u'type', u'id']\n",
        "[u'mobilitySpaces', u'name', u'longitude', u'address', u'latitude', u'type', u'id']\n",
        "[u'mobilitySpaces', u'name', u'longitude', u'address', u'latitude', u'type', u'id']\n",
        "[u'mobilitySpaces', u'name', u'longitude', u'address', u'latitude', u'type', u'id']\n",
        "[u'mobilitySpaces', u'name', u'longitude', u'address', u'latitude', u'type', u'id']\n",
        "[u'mobilitySpaces', u'name', u'longitude', u'address', u'latitude', u'type', u'id']\n",
        "[u'mobilitySpaces', u'name', u'longitude', u'address', u'latitude', u'type', u'id']\n",
        "[u'mobilitySpaces', u'name', u'longitude', u'address', u'latitude', u'type', u'id']\n",
        "[u'mobilitySpaces', u'name', u'longitude', u'address', u'latitude', u'type', u'id']\n",
        "[u'mobilitySpaces', u'name', u'longitude', u'address', u'latitude', u'type', u'id']\n",
        "[u'mobilitySpaces', u'name', u'longitude', u'address', u'latitude', u'type', u'id']\n",
        "[u'mobilitySpaces', u'name', u'longitude', u'address', u'latitude', u'type', u'id']\n",
        "[u'mobilitySpaces', u'name', u'longitude', u'address', u'latitude', u'type', u'id']\n",
        "[u'mobilitySpaces', u'name', u'longitude', u'address', u'latitude', u'type', u'id']\n",
        "[u'mobilitySpaces', u'name', u'longitude', u'address', u'latitude', u'type', u'id']\n",
        "[u'mobilitySpaces', u'name', u'longitude', u'address', u'latitude', u'type', u'id']\n",
        "[u'mobilitySpaces', u'name', u'longitude', u'address', u'latitude', u'type', u'id']\n",
        "[u'mobilitySpaces', u'name', u'longitude', u'address', u'latitude', u'type', u'id']\n",
        "[u'mobilitySpaces', u'name', u'longitude', u'address', u'latitude', u'type', u'id']\n",
        "[u'mobilitySpaces', u'name', u'longitude', u'address', u'latitude', u'type', u'id']\n",
        "[u'mobilitySpaces', u'name', u'longitude', u'address', u'latitude', u'type', u'id']\n",
        "[u'mobilitySpaces', u'name', u'longitude', u'address', u'latitude', u'type', u'id']\n",
        "[u'mobilitySpaces', u'name', u'longitude', u'address', u'latitude', u'type', u'id']\n",
        "[u'mobilitySpaces', u'name', u'longitude', u'address', u'latitude', u'type', u'id']\n",
        "[u'mobilitySpaces', u'name', u'longitude', u'address', u'latitude', u'type', u'id']\n",
        "[u'mobilitySpaces', u'name', u'longitude', u'address', u'latitude', u'type', u'id']\n",
        "[u'mobilitySpaces', u'name', u'longitude', u'address', u'latitude', u'type', u'id']\n",
        "[u'mobilitySpaces', u'name', u'longitude', u'address', u'latitude', u'type', u'id']\n",
        "[u'mobilitySpaces', u'name', u'longitude', u'address', u'latitude', u'type', u'id']\n",
        "[u'mobilitySpaces', u'name', u'longitude', u'address', u'latitude', u'type', u'id']\n",
        "[u'mobilitySpaces', u'name', u'longitude', u'address', u'latitude', u'type', u'id']\n",
        "[u'mobilitySpaces', u'name', u'longitude', u'address', u'latitude', u'type', u'id']\n",
        "[u'mobilitySpaces', u'name', u'longitude', u'address', u'latitude', u'type', u'id']\n",
        "[u'mobilitySpaces', u'name', u'longitude', u'address', u'latitude', u'type', u'id']\n",
        "[u'mobilitySpaces', u'name', u'longitude', u'address', u'latitude', u'type', u'id']\n",
        "[u'mobilitySpaces', u'name', u'longitude', u'address', u'latitude', u'type', u'id']\n",
        "[u'mobilitySpaces', u'name', u'longitude', u'address', u'latitude', u'type', u'id']\n",
        "[u'mobilitySpaces', u'name', u'longitude', u'address', u'latitude', u'type', u'id']\n",
        "[u'mobilitySpaces', u'name', u'longitude', u'address', u'latitude', u'type', u'id']\n",
        "[u'mobilitySpaces', u'name', u'longitude', u'address', u'latitude', u'type', u'id']\n",
        "[u'mobilitySpaces', u'name', u'longitude', u'address', u'latitude', u'type', u'id']\n",
        "[u'mobilitySpaces', u'name', u'longitude', u'address', u'latitude', u'type', u'id']\n",
        "[u'mobilitySpaces', u'name', u'longitude', u'address', u'latitude', u'type', u'id']\n",
        "[u'mobilitySpaces', u'name', u'longitude', u'address', u'latitude', u'type', u'id']\n",
        "[u'mobilitySpaces', u'name', u'longitude', u'address', u'latitude', u'type', u'id']\n",
        "[u'mobilitySpaces', u'name', u'longitude', u'address', u'latitude', u'type', u'id']\n",
        "[u'mobilitySpaces', u'name', u'longitude', u'address', u'latitude', u'type', u'id']\n",
        "[u'mobilitySpaces', u'name', u'longitude', u'address', u'latitude', u'type', u'id']\n",
        "[u'mobilitySpaces', u'name', u'longitude', u'address', u'latitude', u'type', u'id']\n",
        "[u'mobilitySpaces', u'name', u'longitude', u'address', u'latitude', u'type', u'id']\n",
        "[u'mobilitySpaces', u'name', u'longitude', u'address', u'latitude', u'type', u'id']\n",
        "[u'mobilitySpaces', u'name', u'longitude', u'address', u'latitude', u'type', u'id']\n",
        "[u'mobilitySpaces', u'name', u'longitude', u'address', u'latitude', u'type', u'id']\n",
        "[u'mobilitySpaces', u'name', u'longitude', u'address', u'latitude', u'type', u'id']\n",
        "[u'mobilitySpaces', u'name', u'longitude', u'address', u'latitude', u'type', u'id']\n",
        "[u'mobilitySpaces', u'name', u'longitude', u'address', u'latitude', u'type', u'id']\n",
        "[u'mobilitySpaces', u'name', u'longitude', u'address', u'latitude', u'type', u'id']\n",
        "[u'mobilitySpaces', u'name', u'longitude', u'address', u'latitude', u'type', u'id']\n",
        "[u'mobilitySpaces', u'name', u'longitude', u'address', u'latitude', u'type', u'id']\n",
        "[u'mobilitySpaces', u'name', u'longitude', u'address', u'latitude', u'type', u'id']\n",
        "[u'mobilitySpaces', u'name', u'longitude', u'address', u'latitude', u'type', u'id']\n",
        "[u'mobilitySpaces', u'name', u'longitude', u'address', u'latitude', u'type', u'id']\n",
        "[u'mobilitySpaces', u'name', u'longitude', u'address', u'latitude', u'type', u'id']\n",
        "[u'mobilitySpaces', u'name', u'longitude', u'address', u'latitude', u'type', u'id']\n",
        "[u'mobilitySpaces', u'name', u'longitude', u'address', u'latitude', u'type', u'id']\n",
        "[u'mobilitySpaces', u'name', u'longitude', u'address', u'latitude', u'type', u'id']\n",
        "[u'mobilitySpaces', u'name', u'longitude', u'address', u'latitude', u'type', u'id']\n",
        "[u'mobilitySpaces', u'name', u'longitude', u'address', u'latitude', u'type', u'id']\n",
        "[u'mobilitySpaces', u'name', u'longitude', u'address', u'latitude', u'type', u'id']\n",
        "[u'mobilitySpaces', u'name', u'longitude', u'address', u'latitude', u'type', u'id']\n",
        "[u'mobilitySpaces', u'name', u'longitude', u'address', u'latitude', u'type', u'id']\n",
        "[u'mobilitySpaces', u'name', u'longitude', u'address', u'latitude', u'type', u'id']\n",
        "[u'mobilitySpaces', u'name', u'longitude', u'address', u'latitude', u'type', u'id']\n",
        "[u'mobilitySpaces', u'name', u'longitude', u'address', u'latitude', u'type', u'id']\n",
        "[u'mobilitySpaces', u'name', u'longitude', u'address', u'latitude', u'type', u'id']\n",
        "[u'mobilitySpaces', u'name', u'longitude', u'address', u'latitude', u'type', u'id']\n",
        "[u'mobilitySpaces', u'name', u'longitude', u'address', u'latitude', u'type', u'id']\n",
        "[u'mobilitySpaces', u'name', u'longitude', u'address', u'latitude', u'type', u'id']\n",
        "[u'mobilitySpaces', u'name', u'longitude', u'address', u'latitude', u'type', u'id']\n",
        "[u'mobilitySpaces', u'name', u'longitude', u'address', u'latitude', u'type', u'id']\n",
        "[u'mobilitySpaces', u'name', u'longitude', u'address', u'latitude', u'type', u'id']\n",
        "[u'mobilitySpaces', u'name', u'longitude', u'address', u'latitude', u'type', u'id']\n",
        "[u'mobilitySpaces', u'name', u'longitude', u'address', u'latitude', u'type', u'id']\n"
       ]
      }
     ],
     "prompt_number": 256
    },
    {
     "cell_type": "code",
     "collapsed": true,
     "input": [
      "blen = atres[0:atlen]"
     ],
     "language": "python",
     "metadata": {},
     "outputs": [],
     "prompt_number": 226
    },
    {
     "cell_type": "code",
     "collapsed": false,
     "input": [
      "ranitem = test.ranpark()"
     ],
     "language": "python",
     "metadata": {},
     "outputs": [
      {
       "ename": "NameError",
       "evalue": "name 'test' is not defined",
       "output_type": "pyerr",
       "traceback": [
        "\u001b[1;31m---------------------------------------------------------------------------\u001b[0m\n\u001b[1;31mNameError\u001b[0m                                 Traceback (most recent call last)",
        "\u001b[1;32m<ipython-input-227-6f3741d7b4ae>\u001b[0m in \u001b[0;36m<module>\u001b[1;34m()\u001b[0m\n\u001b[1;32m----> 1\u001b[1;33m \u001b[0mranitem\u001b[0m \u001b[1;33m=\u001b[0m \u001b[0mtest\u001b[0m\u001b[1;33m.\u001b[0m\u001b[0mranpark\u001b[0m\u001b[1;33m(\u001b[0m\u001b[1;33m)\u001b[0m\u001b[1;33m\u001b[0m\u001b[0m\n\u001b[0m",
        "\u001b[1;31mNameError\u001b[0m: name 'test' is not defined"
       ]
      }
     ],
     "prompt_number": 227
    },
    {
     "cell_type": "code",
     "collapsed": false,
     "input": [
      "thekeys = ranitem.keys()"
     ],
     "language": "python",
     "metadata": {},
     "outputs": [
      {
       "ename": "NameError",
       "evalue": "name 'ranitem' is not defined",
       "output_type": "pyerr",
       "traceback": [
        "\u001b[1;31m---------------------------------------------------------------------------\u001b[0m\n\u001b[1;31mNameError\u001b[0m                                 Traceback (most recent call last)",
        "\u001b[1;32m<ipython-input-229-47ff3b95afa8>\u001b[0m in \u001b[0;36m<module>\u001b[1;34m()\u001b[0m\n\u001b[1;32m----> 1\u001b[1;33m \u001b[0mthekeys\u001b[0m \u001b[1;33m=\u001b[0m \u001b[0mranitem\u001b[0m\u001b[1;33m.\u001b[0m\u001b[0mkeys\u001b[0m\u001b[1;33m(\u001b[0m\u001b[1;33m)\u001b[0m\u001b[1;33m\u001b[0m\u001b[0m\n\u001b[0m",
        "\u001b[1;31mNameError\u001b[0m: name 'ranitem' is not defined"
       ]
      }
     ],
     "prompt_number": 229
    },
    {
     "cell_type": "code",
     "collapsed": false,
     "input": [
      "thekeys"
     ],
     "language": "python",
     "metadata": {},
     "outputs": [
      {
       "ename": "NameError",
       "evalue": "name 'thekeys' is not defined",
       "output_type": "pyerr",
       "traceback": [
        "\u001b[1;31m---------------------------------------------------------------------------\u001b[0m\n\u001b[1;31mNameError\u001b[0m                                 Traceback (most recent call last)",
        "\u001b[1;32m<ipython-input-230-e1199d08c6f9>\u001b[0m in \u001b[0;36m<module>\u001b[1;34m()\u001b[0m\n\u001b[1;32m----> 1\u001b[1;33m \u001b[0mthekeys\u001b[0m\u001b[1;33m\u001b[0m\u001b[0m\n\u001b[0m",
        "\u001b[1;31mNameError\u001b[0m: name 'thekeys' is not defined"
       ]
      }
     ],
     "prompt_number": 230
    },
    {
     "cell_type": "code",
     "collapsed": false,
     "input": [
      "listz = []"
     ],
     "language": "python",
     "metadata": {},
     "outputs": [],
     "prompt_number": 231
    },
    {
     "cell_type": "code",
     "collapsed": false,
     "input": [
      "for kez in thekeys:\n",
      "    #print key\n",
      "    print atres[0][kez]\n",
      "    listz.append(atres[0][kez])\n",
      "    "
     ],
     "language": "python",
     "metadata": {},
     "outputs": [
      {
       "ename": "NameError",
       "evalue": "name 'thekeys' is not defined",
       "output_type": "pyerr",
       "traceback": [
        "\u001b[1;31m---------------------------------------------------------------------------\u001b[0m\n\u001b[1;31mNameError\u001b[0m                                 Traceback (most recent call last)",
        "\u001b[1;32m<ipython-input-257-d1a82652515b>\u001b[0m in \u001b[0;36m<module>\u001b[1;34m()\u001b[0m\n\u001b[1;32m----> 1\u001b[1;33m \u001b[1;32mfor\u001b[0m \u001b[0mkez\u001b[0m \u001b[1;32min\u001b[0m \u001b[0mthekeys\u001b[0m\u001b[1;33m:\u001b[0m\u001b[1;33m\u001b[0m\u001b[0m\n\u001b[0m\u001b[0;32m      2\u001b[0m     \u001b[1;31m#print key\u001b[0m\u001b[1;33m\u001b[0m\u001b[1;33m\u001b[0m\u001b[0m\n\u001b[0;32m      3\u001b[0m     \u001b[1;32mprint\u001b[0m \u001b[0matres\u001b[0m\u001b[1;33m[\u001b[0m\u001b[1;36m0\u001b[0m\u001b[1;33m]\u001b[0m\u001b[1;33m[\u001b[0m\u001b[0mkez\u001b[0m\u001b[1;33m]\u001b[0m\u001b[1;33m\u001b[0m\u001b[0m\n\u001b[0;32m      4\u001b[0m     \u001b[0mlistz\u001b[0m\u001b[1;33m.\u001b[0m\u001b[0mappend\u001b[0m\u001b[1;33m(\u001b[0m\u001b[0matres\u001b[0m\u001b[1;33m[\u001b[0m\u001b[1;36m0\u001b[0m\u001b[1;33m]\u001b[0m\u001b[1;33m[\u001b[0m\u001b[0mkez\u001b[0m\u001b[1;33m]\u001b[0m\u001b[1;33m)\u001b[0m\u001b[1;33m\u001b[0m\u001b[0m\n\u001b[0;32m      5\u001b[0m \u001b[1;33m\u001b[0m\u001b[0m\n",
        "\u001b[1;31mNameError\u001b[0m: name 'thekeys' is not defined"
       ]
      }
     ],
     "prompt_number": 257
    },
    {
     "cell_type": "code",
     "collapsed": true,
     "input": [
      "#dait = atdict.items()"
     ],
     "language": "python",
     "metadata": {},
     "outputs": [],
     "prompt_number": 233
    },
    {
     "cell_type": "code",
     "collapsed": false,
     "input": [
      "print listz[3]"
     ],
     "language": "python",
     "metadata": {},
     "outputs": [
      {
       "ename": "IndexError",
       "evalue": "list index out of range",
       "output_type": "pyerr",
       "traceback": [
        "\u001b[1;31m---------------------------------------------------------------------------\u001b[0m\n\u001b[1;31mIndexError\u001b[0m                                Traceback (most recent call last)",
        "\u001b[1;32m<ipython-input-234-bfc80ca98828>\u001b[0m in \u001b[0;36m<module>\u001b[1;34m()\u001b[0m\n\u001b[1;32m----> 1\u001b[1;33m \u001b[1;32mprint\u001b[0m \u001b[0mlistz\u001b[0m\u001b[1;33m[\u001b[0m\u001b[1;36m3\u001b[0m\u001b[1;33m]\u001b[0m\u001b[1;33m\u001b[0m\u001b[0m\n\u001b[0m",
        "\u001b[1;31mIndexError\u001b[0m: list index out of range"
       ]
      }
     ],
     "prompt_number": 234
    },
    {
     "cell_type": "code",
     "collapsed": false,
     "input": [
      "import geopy"
     ],
     "language": "python",
     "metadata": {},
     "outputs": [],
     "prompt_number": 235
    },
    {
     "cell_type": "code",
     "collapsed": false,
     "input": [
      "geo = geopy.GoogleV3()"
     ],
     "language": "python",
     "metadata": {},
     "outputs": [],
     "prompt_number": 236
    },
    {
     "cell_type": "code",
     "collapsed": false,
     "input": [
      "geo.geocode(listz[3])"
     ],
     "language": "python",
     "metadata": {},
     "outputs": [
      {
       "ename": "IndexError",
       "evalue": "list index out of range",
       "output_type": "pyerr",
       "traceback": [
        "\u001b[1;31m---------------------------------------------------------------------------\u001b[0m\n\u001b[1;31mIndexError\u001b[0m                                Traceback (most recent call last)",
        "\u001b[1;32m<ipython-input-237-4f20533607d8>\u001b[0m in \u001b[0;36m<module>\u001b[1;34m()\u001b[0m\n\u001b[1;32m----> 1\u001b[1;33m \u001b[0mgeo\u001b[0m\u001b[1;33m.\u001b[0m\u001b[0mgeocode\u001b[0m\u001b[1;33m(\u001b[0m\u001b[0mlistz\u001b[0m\u001b[1;33m[\u001b[0m\u001b[1;36m3\u001b[0m\u001b[1;33m]\u001b[0m\u001b[1;33m)\u001b[0m\u001b[1;33m\u001b[0m\u001b[0m\n\u001b[0m",
        "\u001b[1;31mIndexError\u001b[0m: list index out of range"
       ]
      }
     ],
     "prompt_number": 237
    },
    {
     "cell_type": "code",
     "collapsed": false,
     "input": [
      "olenz = len(listz)"
     ],
     "language": "python",
     "metadata": {},
     "outputs": [],
     "prompt_number": 238
    },
    {
     "cell_type": "code",
     "collapsed": false,
     "input": [
      "dachoice = random.randint(0, olenz)"
     ],
     "language": "python",
     "metadata": {},
     "outputs": [],
     "prompt_number": 239
    },
    {
     "cell_type": "code",
     "collapsed": false,
     "input": [
      "dachoice"
     ],
     "language": "python",
     "metadata": {},
     "outputs": [
      {
       "metadata": {},
       "output_type": "pyout",
       "prompt_number": 240,
       "text": [
        "0"
       ]
      }
     ],
     "prompt_number": 240
    },
    {
     "cell_type": "code",
     "collapsed": true,
     "input": [
      "class parks(object):\n",
      "    def getparks(self):\n",
      "        return atres\n",
      "    \n",
      "    def items(self):\n",
      "        return atres[0]\n",
      "    \n",
      "    def ranpark(self):\n",
      "        return atres[ranpark]\n",
      "    \n",
      "    def genpark(self):\n",
      "        return (geo.geocode(listz[3]))\n",
      "    \n",
      "    def parkloc(self):\n",
      "        return(atres[ranpark]['address'])\n",
      "    \n",
      "    def parkid(self):\n",
      "        return(atres[renpark]['id'])\n",
      "    \n",
      "    def parkcheck():\n",
      "        return(atres[renpark]['type'])\n",
      "    \n",
      "    def parknon(self, inpuz ):\n",
      "        return(atres[renpark][inpuz])"
     ],
     "language": "python",
     "metadata": {},
     "outputs": [],
     "prompt_number": 241
    },
    {
     "cell_type": "code",
     "collapsed": false,
     "input": [],
     "language": "python",
     "metadata": {},
     "outputs": [],
     "prompt_number": 241
    },
    {
     "cell_type": "code",
     "collapsed": false,
     "input": [
      "park = parks()"
     ],
     "language": "python",
     "metadata": {},
     "outputs": [],
     "prompt_number": 242
    },
    {
     "cell_type": "code",
     "collapsed": false,
     "input": [
      "park.genpark()"
     ],
     "language": "python",
     "metadata": {},
     "outputs": [
      {
       "ename": "IndexError",
       "evalue": "list index out of range",
       "output_type": "pyerr",
       "traceback": [
        "\u001b[1;31m---------------------------------------------------------------------------\u001b[0m\n\u001b[1;31mIndexError\u001b[0m                                Traceback (most recent call last)",
        "\u001b[1;32m<ipython-input-243-00a81d2434e6>\u001b[0m in \u001b[0;36m<module>\u001b[1;34m()\u001b[0m\n\u001b[1;32m----> 1\u001b[1;33m \u001b[0mpark\u001b[0m\u001b[1;33m.\u001b[0m\u001b[0mgenpark\u001b[0m\u001b[1;33m(\u001b[0m\u001b[1;33m)\u001b[0m\u001b[1;33m\u001b[0m\u001b[0m\n\u001b[0m",
        "\u001b[1;32m<ipython-input-241-49fab2d5039e>\u001b[0m in \u001b[0;36mgenpark\u001b[1;34m(self)\u001b[0m\n\u001b[0;32m     10\u001b[0m \u001b[1;33m\u001b[0m\u001b[0m\n\u001b[0;32m     11\u001b[0m     \u001b[1;32mdef\u001b[0m \u001b[0mgenpark\u001b[0m\u001b[1;33m(\u001b[0m\u001b[0mself\u001b[0m\u001b[1;33m)\u001b[0m\u001b[1;33m:\u001b[0m\u001b[1;33m\u001b[0m\u001b[0m\n\u001b[1;32m---> 12\u001b[1;33m         \u001b[1;32mreturn\u001b[0m \u001b[1;33m(\u001b[0m\u001b[0mgeo\u001b[0m\u001b[1;33m.\u001b[0m\u001b[0mgeocode\u001b[0m\u001b[1;33m(\u001b[0m\u001b[0mlistz\u001b[0m\u001b[1;33m[\u001b[0m\u001b[1;36m3\u001b[0m\u001b[1;33m]\u001b[0m\u001b[1;33m)\u001b[0m\u001b[1;33m)\u001b[0m\u001b[1;33m\u001b[0m\u001b[0m\n\u001b[0m\u001b[0;32m     13\u001b[0m \u001b[1;33m\u001b[0m\u001b[0m\n\u001b[0;32m     14\u001b[0m     \u001b[1;32mdef\u001b[0m \u001b[0mparkloc\u001b[0m\u001b[1;33m(\u001b[0m\u001b[0mself\u001b[0m\u001b[1;33m)\u001b[0m\u001b[1;33m:\u001b[0m\u001b[1;33m\u001b[0m\u001b[0m\n",
        "\u001b[1;31mIndexError\u001b[0m: list index out of range"
       ]
      }
     ],
     "prompt_number": 243
    },
    {
     "cell_type": "code",
     "collapsed": false,
     "input": [
      "park.parkloc()\n",
      "\n",
      "park.parknon()"
     ],
     "language": "python",
     "metadata": {},
     "outputs": [
      {
       "ename": "TypeError",
       "evalue": "parknon() takes exactly 2 arguments (1 given)",
       "output_type": "pyerr",
       "traceback": [
        "\u001b[1;31m---------------------------------------------------------------------------\u001b[0m\n\u001b[1;31mTypeError\u001b[0m                                 Traceback (most recent call last)",
        "\u001b[1;32m<ipython-input-244-f8f2cbf9611c>\u001b[0m in \u001b[0;36m<module>\u001b[1;34m()\u001b[0m\n\u001b[0;32m      1\u001b[0m \u001b[0mpark\u001b[0m\u001b[1;33m.\u001b[0m\u001b[0mparkloc\u001b[0m\u001b[1;33m(\u001b[0m\u001b[1;33m)\u001b[0m\u001b[1;33m\u001b[0m\u001b[0m\n\u001b[0;32m      2\u001b[0m \u001b[1;33m\u001b[0m\u001b[0m\n\u001b[1;32m----> 3\u001b[1;33m \u001b[0mpark\u001b[0m\u001b[1;33m.\u001b[0m\u001b[0mparknon\u001b[0m\u001b[1;33m(\u001b[0m\u001b[1;33m)\u001b[0m\u001b[1;33m\u001b[0m\u001b[0m\n\u001b[0m",
        "\u001b[1;31mTypeError\u001b[0m: parknon() takes exactly 2 arguments (1 given)"
       ]
      }
     ],
     "prompt_number": 244
    },
    {
     "cell_type": "code",
     "collapsed": false,
     "input": [
      "park.parkid()"
     ],
     "language": "python",
     "metadata": {},
     "outputs": [
      {
       "ename": "NameError",
       "evalue": "global name 'renpark' is not defined",
       "output_type": "pyerr",
       "traceback": [
        "\u001b[1;31m---------------------------------------------------------------------------\u001b[0m\n\u001b[1;31mNameError\u001b[0m                                 Traceback (most recent call last)",
        "\u001b[1;32m<ipython-input-245-e63029c430d8>\u001b[0m in \u001b[0;36m<module>\u001b[1;34m()\u001b[0m\n\u001b[1;32m----> 1\u001b[1;33m \u001b[0mpark\u001b[0m\u001b[1;33m.\u001b[0m\u001b[0mparkid\u001b[0m\u001b[1;33m(\u001b[0m\u001b[1;33m)\u001b[0m\u001b[1;33m\u001b[0m\u001b[0m\n\u001b[0m",
        "\u001b[1;32m<ipython-input-241-49fab2d5039e>\u001b[0m in \u001b[0;36mparkid\u001b[1;34m(self)\u001b[0m\n\u001b[0;32m     16\u001b[0m \u001b[1;33m\u001b[0m\u001b[0m\n\u001b[0;32m     17\u001b[0m     \u001b[1;32mdef\u001b[0m \u001b[0mparkid\u001b[0m\u001b[1;33m(\u001b[0m\u001b[0mself\u001b[0m\u001b[1;33m)\u001b[0m\u001b[1;33m:\u001b[0m\u001b[1;33m\u001b[0m\u001b[0m\n\u001b[1;32m---> 18\u001b[1;33m         \u001b[1;32mreturn\u001b[0m\u001b[1;33m(\u001b[0m\u001b[0matres\u001b[0m\u001b[1;33m[\u001b[0m\u001b[0mrenpark\u001b[0m\u001b[1;33m]\u001b[0m\u001b[1;33m[\u001b[0m\u001b[1;34m'id'\u001b[0m\u001b[1;33m]\u001b[0m\u001b[1;33m)\u001b[0m\u001b[1;33m\u001b[0m\u001b[0m\n\u001b[0m\u001b[0;32m     19\u001b[0m \u001b[1;33m\u001b[0m\u001b[0m\n\u001b[0;32m     20\u001b[0m     \u001b[1;32mdef\u001b[0m \u001b[0mparkcheck\u001b[0m\u001b[1;33m(\u001b[0m\u001b[1;33m)\u001b[0m\u001b[1;33m:\u001b[0m\u001b[1;33m\u001b[0m\u001b[0m\n",
        "\u001b[1;31mNameError\u001b[0m: global name 'renpark' is not defined"
       ]
      }
     ],
     "prompt_number": 245
    },
    {
     "cell_type": "code",
     "collapsed": false,
     "input": [
      "test.geopark()"
     ],
     "language": "python",
     "metadata": {},
     "outputs": [
      {
       "ename": "NameError",
       "evalue": "name 'test' is not defined",
       "output_type": "pyerr",
       "traceback": [
        "\u001b[1;31m---------------------------------------------------------------------------\u001b[0m\n\u001b[1;31mNameError\u001b[0m                                 Traceback (most recent call last)",
        "\u001b[1;32m<ipython-input-246-e35d55737c03>\u001b[0m in \u001b[0;36m<module>\u001b[1;34m()\u001b[0m\n\u001b[1;32m----> 1\u001b[1;33m \u001b[0mtest\u001b[0m\u001b[1;33m.\u001b[0m\u001b[0mgeopark\u001b[0m\u001b[1;33m(\u001b[0m\u001b[1;33m)\u001b[0m\u001b[1;33m\u001b[0m\u001b[0m\n\u001b[0m",
        "\u001b[1;31mNameError\u001b[0m: name 'test' is not defined"
       ]
      }
     ],
     "prompt_number": 246
    },
    {
     "cell_type": "code",
     "collapsed": false,
     "input": [
      "geo.geocode(listz[3])"
     ],
     "language": "python",
     "metadata": {},
     "outputs": [
      {
       "ename": "IndexError",
       "evalue": "list index out of range",
       "output_type": "pyerr",
       "traceback": [
        "\u001b[1;31m---------------------------------------------------------------------------\u001b[0m\n\u001b[1;31mIndexError\u001b[0m                                Traceback (most recent call last)",
        "\u001b[1;32m<ipython-input-247-4f20533607d8>\u001b[0m in \u001b[0;36m<module>\u001b[1;34m()\u001b[0m\n\u001b[1;32m----> 1\u001b[1;33m \u001b[0mgeo\u001b[0m\u001b[1;33m.\u001b[0m\u001b[0mgeocode\u001b[0m\u001b[1;33m(\u001b[0m\u001b[0mlistz\u001b[0m\u001b[1;33m[\u001b[0m\u001b[1;36m3\u001b[0m\u001b[1;33m]\u001b[0m\u001b[1;33m)\u001b[0m\u001b[1;33m\u001b[0m\u001b[0m\n\u001b[0m",
        "\u001b[1;31mIndexError\u001b[0m: list index out of range"
       ]
      }
     ],
     "prompt_number": 247
    },
    {
     "cell_type": "code",
     "collapsed": false,
     "input": [
      "listz.sort()"
     ],
     "language": "python",
     "metadata": {},
     "outputs": [],
     "prompt_number": 248
    },
    {
     "cell_type": "code",
     "collapsed": false,
     "input": [
      "listz"
     ],
     "language": "python",
     "metadata": {},
     "outputs": [
      {
       "metadata": {},
       "output_type": "pyout",
       "prompt_number": 249,
       "text": [
        "[]"
       ]
      }
     ],
     "prompt_number": 249
    },
    {
     "cell_type": "code",
     "collapsed": true,
     "input": [
      "#atdict.viewkeys()"
     ],
     "language": "python",
     "metadata": {},
     "outputs": []
    },
    {
     "cell_type": "code",
     "collapsed": true,
     "input": [
      "#atrespon = atdict['response']"
     ],
     "language": "python",
     "metadata": {},
     "outputs": []
    },
    {
     "cell_type": "code",
     "collapsed": true,
     "input": [],
     "language": "python",
     "metadata": {},
     "outputs": []
    },
    {
     "cell_type": "code",
     "collapsed": true,
     "input": [
      "#savdict = open('/home/wcmckee/pyatakl/tests/presets/carparks.json', 'w')\n",
      "#savdict.write(str(atdict))"
     ],
     "language": "python",
     "metadata": {},
     "outputs": []
    },
    {
     "cell_type": "code",
     "collapsed": true,
     "input": [
      "#dait"
     ],
     "language": "python",
     "metadata": {},
     "outputs": []
    },
    {
     "cell_type": "code",
     "collapsed": true,
     "input": [],
     "language": "python",
     "metadata": {},
     "outputs": []
    },
    {
     "cell_type": "code",
     "collapsed": true,
     "input": [
      "#atdict.values()"
     ],
     "language": "python",
     "metadata": {},
     "outputs": []
    },
    {
     "cell_type": "code",
     "collapsed": true,
     "input": [
      "#for d in blen:\n",
      "#    print d['address']"
     ],
     "language": "python",
     "metadata": {},
     "outputs": []
    },
    {
     "cell_type": "code",
     "collapsed": true,
     "input": [
      "#print atext"
     ],
     "language": "python",
     "metadata": {},
     "outputs": []
    },
    {
     "cell_type": "code",
     "collapsed": true,
     "input": [],
     "language": "python",
     "metadata": {},
     "outputs": []
    },
    {
     "cell_type": "code",
     "collapsed": true,
     "input": [
      "#atke"
     ],
     "language": "python",
     "metadata": {},
     "outputs": []
    },
    {
     "cell_type": "code",
     "collapsed": true,
     "input": [
      "#atkey.name"
     ],
     "language": "python",
     "metadata": {},
     "outputs": []
    },
    {
     "cell_type": "code",
     "collapsed": true,
     "input": [],
     "language": "python",
     "metadata": {},
     "outputs": []
    },
    {
     "cell_type": "code",
     "collapsed": false,
     "input": [
      "getdispl = ('http://api.at.govt.nz/v1/public/realtime/vehiclelocations?api_key=433feddb-d4b9-473b-a0c2-ac982a6d78cd')"
     ],
     "language": "python",
     "metadata": {},
     "outputs": [],
     "prompt_number": 258
    },
    {
     "cell_type": "code",
     "collapsed": false,
     "input": [
      "getres = requests.get(getdispl)"
     ],
     "language": "python",
     "metadata": {},
     "outputs": [],
     "prompt_number": 259
    },
    {
     "cell_type": "code",
     "collapsed": false,
     "input": [
      "gettx = getres.text"
     ],
     "language": "python",
     "metadata": {},
     "outputs": [],
     "prompt_number": 260
    },
    {
     "cell_type": "code",
     "collapsed": false,
     "input": [
      "pajson = json.loads(gettx)"
     ],
     "language": "python",
     "metadata": {},
     "outputs": [],
     "prompt_number": 261
    },
    {
     "cell_type": "code",
     "collapsed": false,
     "input": [
      "patza = pajson.keys()"
     ],
     "language": "python",
     "metadata": {},
     "outputs": [],
     "prompt_number": 262
    },
    {
     "cell_type": "code",
     "collapsed": false,
     "input": [
      "pajson.keys()"
     ],
     "language": "python",
     "metadata": {},
     "outputs": [
      {
       "metadata": {},
       "output_type": "pyout",
       "prompt_number": 263,
       "text": [
        "[u'status', u'response', u'error']"
       ]
      }
     ],
     "prompt_number": 263
    },
    {
     "cell_type": "code",
     "collapsed": false,
     "input": [
      "for i in pajson:\n",
      "    print i"
     ],
     "language": "python",
     "metadata": {},
     "outputs": [
      {
       "output_type": "stream",
       "stream": "stdout",
       "text": [
        "status\n",
        "response\n",
        "error\n"
       ]
      }
     ],
     "prompt_number": 264
    },
    {
     "cell_type": "code",
     "collapsed": false,
     "input": [
      "patze = pajson['response']['entity'][0]"
     ],
     "language": "python",
     "metadata": {},
     "outputs": [],
     "prompt_number": 265
    },
    {
     "cell_type": "code",
     "collapsed": false,
     "input": [
      "patze"
     ],
     "language": "python",
     "metadata": {},
     "outputs": [
      {
       "metadata": {},
       "output_type": "pyout",
       "prompt_number": 266,
       "text": [
        "{u'id': u'7c308d21-5b25-b35e-7e59-e02488961f80',\n",
        " u'is_deleted': False,\n",
        " u'vehicle': {u'position': {u'latitude': -36.921086, u'longitude': 174.80408},\n",
        "  u'timestamp': 1401509340,\n",
        "  u'trip': {u'route_id': u'0096UE5501',\n",
        "   u'schedule_relationship': 0,\n",
        "   u'trip_id': u'0096UE550115301537377'},\n",
        "  u'vehicle': {u'id': u'2aaf041d53ddcf209811f0f8f4302dee7d0fad1671e4eaf6f525766af355fef3'}}}"
       ]
      }
     ],
     "prompt_number": 266
    },
    {
     "cell_type": "code",
     "collapsed": false,
     "input": [
      "paveh = patze['vehicle']"
     ],
     "language": "python",
     "metadata": {},
     "outputs": [],
     "prompt_number": 267
    },
    {
     "cell_type": "code",
     "collapsed": false,
     "input": [
      "pala = paveh['position']"
     ],
     "language": "python",
     "metadata": {},
     "outputs": [],
     "prompt_number": 268
    },
    {
     "cell_type": "code",
     "collapsed": false,
     "input": [
      "print pala"
     ],
     "language": "python",
     "metadata": {},
     "outputs": [
      {
       "output_type": "stream",
       "stream": "stdout",
       "text": [
        "{u'latitude': -36.921086, u'longitude': 174.80408}\n"
       ]
      }
     ],
     "prompt_number": 269
    },
    {
     "cell_type": "code",
     "collapsed": false,
     "input": [
      "palat = pala['latitude'] "
     ],
     "language": "python",
     "metadata": {},
     "outputs": [],
     "prompt_number": 270
    },
    {
     "cell_type": "code",
     "collapsed": false,
     "input": [
      "palat"
     ],
     "language": "python",
     "metadata": {},
     "outputs": [
      {
       "metadata": {},
       "output_type": "pyout",
       "prompt_number": 271,
       "text": [
        "-36.921086"
       ]
      }
     ],
     "prompt_number": 271
    },
    {
     "cell_type": "code",
     "collapsed": false,
     "input": [
      "palong = pala['longitude']"
     ],
     "language": "python",
     "metadata": {},
     "outputs": [],
     "prompt_number": 272
    },
    {
     "cell_type": "code",
     "collapsed": false,
     "input": [
      "palong"
     ],
     "language": "python",
     "metadata": {},
     "outputs": [
      {
       "metadata": {},
       "output_type": "pyout",
       "prompt_number": 273,
       "text": [
        "174.80408"
       ]
      }
     ],
     "prompt_number": 273
    },
    {
     "cell_type": "code",
     "collapsed": false,
     "input": [
      "class busdata(object):\n",
      "    \n",
      "    def latdata(self):\n",
      "        return palat\n",
      "    def longdata(self):\n",
      "        return palong\n",
      "    "
     ],
     "language": "python",
     "metadata": {},
     "outputs": [],
     "prompt_number": 274
    },
    {
     "cell_type": "code",
     "collapsed": false,
     "input": [
      "busdata = busdata()"
     ],
     "language": "python",
     "metadata": {},
     "outputs": [],
     "prompt_number": 275
    },
    {
     "cell_type": "code",
     "collapsed": false,
     "input": [
      "busdata.longdata()"
     ],
     "language": "python",
     "metadata": {},
     "outputs": [
      {
       "metadata": {},
       "output_type": "pyout",
       "prompt_number": 276,
       "text": [
        "174.80408"
       ]
      }
     ],
     "prompt_number": 276
    },
    {
     "cell_type": "code",
     "collapsed": false,
     "input": [
      "longdatas = str(busdata.longdata())"
     ],
     "language": "python",
     "metadata": {},
     "outputs": [],
     "prompt_number": 277
    },
    {
     "cell_type": "code",
     "collapsed": false,
     "input": [
      "longdatas"
     ],
     "language": "python",
     "metadata": {},
     "outputs": [
      {
       "metadata": {},
       "output_type": "pyout",
       "prompt_number": 278,
       "text": [
        "'174.80408'"
       ]
      }
     ],
     "prompt_number": 278
    },
    {
     "cell_type": "code",
     "collapsed": false,
     "input": [
      "latdatas = str(busdata.latdata())"
     ],
     "language": "python",
     "metadata": {},
     "outputs": [],
     "prompt_number": 279
    },
    {
     "cell_type": "code",
     "collapsed": false,
     "input": [
      "latdatas"
     ],
     "language": "python",
     "metadata": {},
     "outputs": [
      {
       "metadata": {},
       "output_type": "pyout",
       "prompt_number": 280,
       "text": [
        "'-36.921086'"
       ]
      }
     ],
     "prompt_number": 280
    },
    {
     "cell_type": "code",
     "collapsed": false,
     "input": [
      "busdata.latdata()"
     ],
     "language": "python",
     "metadata": {},
     "outputs": [
      {
       "metadata": {},
       "output_type": "pyout",
       "prompt_number": 281,
       "text": [
        "-36.921086"
       ]
      }
     ],
     "prompt_number": 281
    },
    {
     "cell_type": "code",
     "collapsed": false,
     "input": [
      "bothdata"
     ],
     "language": "python",
     "metadata": {},
     "outputs": [
      {
       "metadata": {},
       "output_type": "pyout",
       "prompt_number": 282,
       "text": [
        "-73.85227"
       ]
      }
     ],
     "prompt_number": 282
    },
    {
     "cell_type": "code",
     "collapsed": false,
     "input": [
      "from geopy.geocoders import GoogleV3\n",
      "geolocator = GoogleV3()\n"
     ],
     "language": "python",
     "metadata": {},
     "outputs": [],
     "prompt_number": 284
    },
    {
     "cell_type": "code",
     "collapsed": false,
     "input": [
      "address, (longdatas, longitude) = geolocator.reverse(longdatas, latdatas)\n",
      "print(address, latitude, longitude)"
     ],
     "language": "python",
     "metadata": {},
     "outputs": [
      {
       "ename": "TypeError",
       "evalue": "'NoneType' object is not iterable",
       "output_type": "pyerr",
       "traceback": [
        "\u001b[1;31m---------------------------------------------------------------------------\u001b[0m\n\u001b[1;31mTypeError\u001b[0m                                 Traceback (most recent call last)",
        "\u001b[1;32m<ipython-input-285-05aa9ec69da8>\u001b[0m in \u001b[0;36m<module>\u001b[1;34m()\u001b[0m\n\u001b[1;32m----> 1\u001b[1;33m \u001b[0maddress\u001b[0m\u001b[1;33m,\u001b[0m \u001b[1;33m(\u001b[0m\u001b[0mlongdatas\u001b[0m\u001b[1;33m,\u001b[0m \u001b[0mlongitude\u001b[0m\u001b[1;33m)\u001b[0m \u001b[1;33m=\u001b[0m \u001b[0mgeolocator\u001b[0m\u001b[1;33m.\u001b[0m\u001b[0mreverse\u001b[0m\u001b[1;33m(\u001b[0m\u001b[0mlongdatas\u001b[0m\u001b[1;33m,\u001b[0m \u001b[0mlatdatas\u001b[0m\u001b[1;33m)\u001b[0m\u001b[1;33m\u001b[0m\u001b[0m\n\u001b[0m\u001b[0;32m      2\u001b[0m \u001b[1;32mprint\u001b[0m\u001b[1;33m(\u001b[0m\u001b[0maddress\u001b[0m\u001b[1;33m,\u001b[0m \u001b[0mlatitude\u001b[0m\u001b[1;33m,\u001b[0m \u001b[0mlongitude\u001b[0m\u001b[1;33m)\u001b[0m\u001b[1;33m\u001b[0m\u001b[0m\n",
        "\u001b[1;31mTypeError\u001b[0m: 'NoneType' object is not iterable"
       ]
      }
     ],
     "prompt_number": 285
    },
    {
     "cell_type": "code",
     "collapsed": false,
     "input": [
      "print geolocator.reverse(longdatas, latdatas)"
     ],
     "language": "python",
     "metadata": {},
     "outputs": [
      {
       "output_type": "stream",
       "stream": "stdout",
       "text": [
        "None\n"
       ]
      }
     ],
     "prompt_number": 287
    },
    {
     "cell_type": "code",
     "collapsed": false,
     "input": [
      "print geolocator.geocode(latdatas, longdatas)"
     ],
     "language": "python",
     "metadata": {},
     "outputs": [
      {
       "output_type": "stream",
       "stream": "stdout",
       "text": [
        "None\n"
       ]
      }
     ],
     "prompt_number": 289
    },
    {
     "cell_type": "code",
     "collapsed": false,
     "input": [
      "for d in geolocator.geocode(busdata.latdata(), busdata.longdata()):\n",
      "    print d"
     ],
     "language": "python",
     "metadata": {},
     "outputs": [
      {
       "ename": "TypeError",
       "evalue": "'NoneType' object is not iterable",
       "output_type": "pyerr",
       "traceback": [
        "\u001b[1;31m---------------------------------------------------------------------------\u001b[0m\n\u001b[1;31mTypeError\u001b[0m                                 Traceback (most recent call last)",
        "\u001b[1;32m<ipython-input-293-38ca564243f7>\u001b[0m in \u001b[0;36m<module>\u001b[1;34m()\u001b[0m\n\u001b[1;32m----> 1\u001b[1;33m \u001b[1;32mfor\u001b[0m \u001b[0md\u001b[0m \u001b[1;32min\u001b[0m \u001b[0mgeolocator\u001b[0m\u001b[1;33m.\u001b[0m\u001b[0mgeocode\u001b[0m\u001b[1;33m(\u001b[0m\u001b[0mbusdata\u001b[0m\u001b[1;33m.\u001b[0m\u001b[0mlatdata\u001b[0m\u001b[1;33m(\u001b[0m\u001b[1;33m)\u001b[0m\u001b[1;33m,\u001b[0m \u001b[0mbusdata\u001b[0m\u001b[1;33m.\u001b[0m\u001b[0mlongdata\u001b[0m\u001b[1;33m(\u001b[0m\u001b[1;33m)\u001b[0m\u001b[1;33m)\u001b[0m\u001b[1;33m:\u001b[0m\u001b[1;33m\u001b[0m\u001b[0m\n\u001b[0m\u001b[0;32m      2\u001b[0m     \u001b[1;32mprint\u001b[0m \u001b[0md\u001b[0m\u001b[1;33m\u001b[0m\u001b[0m\n",
        "\u001b[1;31mTypeError\u001b[0m: 'NoneType' object is not iterable"
       ]
      }
     ],
     "prompt_number": 293
    },
    {
     "cell_type": "code",
     "collapsed": false,
     "input": [
      "testgeo = geolocator.geocode(-36.921086, 174.80408)"
     ],
     "language": "python",
     "metadata": {},
     "outputs": [],
     "prompt_number": 298
    },
    {
     "cell_type": "code",
     "collapsed": false,
     "input": [
      "print testgeo"
     ],
     "language": "python",
     "metadata": {},
     "outputs": [
      {
       "output_type": "stream",
       "stream": "stdout",
       "text": [
        "None\n"
       ]
      }
     ],
     "prompt_number": 300
    },
    {
     "cell_type": "code",
     "collapsed": false,
     "input": [],
     "language": "python",
     "metadata": {},
     "outputs": []
    }
   ],
   "metadata": {}
  }
 ]
}