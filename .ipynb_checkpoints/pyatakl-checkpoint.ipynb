{
 "metadata": {
  "name": "",
  "signature": "sha256:013cd042783a7c72a4120c7d0120448de6f6db2029635e25d09c7421d77d7d52"
 },
 "nbformat": 3,
 "nbformat_minor": 0,
 "worksheets": [
  {
   "cells": [
    {
     "cell_type": "code",
     "collapsed": false,
     "input": [
      "import requests\n",
      "import json"
     ],
     "language": "python",
     "metadata": {},
     "outputs": [],
     "prompt_number": 35
    },
    {
     "cell_type": "code",
     "collapsed": false,
     "input": [],
     "language": "python",
     "metadata": {},
     "outputs": [],
     "prompt_number": 60
    },
    {
     "cell_type": "code",
     "collapsed": false,
     "input": [
      "atdat = requests.get('https://api.at.govt.nz/v1/public/display/parkinglocations?api_key=433feddb-d4b9-473b-a0c2-ac982a6d78cd')"
     ],
     "language": "python",
     "metadata": {},
     "outputs": [],
     "prompt_number": 61
    },
    {
     "cell_type": "code",
     "collapsed": false,
     "input": [
      "atext = atdat.text"
     ],
     "language": "python",
     "metadata": {},
     "outputs": [],
     "prompt_number": 62
    },
    {
     "cell_type": "code",
     "collapsed": false,
     "input": [
      "atdict = json.loads(atext)"
     ],
     "language": "python",
     "metadata": {},
     "outputs": [],
     "prompt_number": 63
    },
    {
     "cell_type": "code",
     "collapsed": false,
     "input": [
      "atres = atdict['response']"
     ],
     "language": "python",
     "metadata": {},
     "outputs": [],
     "prompt_number": 64
    },
    {
     "cell_type": "code",
     "collapsed": false,
     "input": [
      "atlen = len(atres)"
     ],
     "language": "python",
     "metadata": {},
     "outputs": [],
     "prompt_number": 65
    },
    {
     "cell_type": "code",
     "collapsed": false,
     "input": [],
     "language": "python",
     "metadata": {},
     "outputs": []
    },
    {
     "cell_type": "code",
     "collapsed": false,
     "input": [
      "blen = atres[0:atlen]"
     ],
     "language": "python",
     "metadata": {},
     "outputs": [],
     "prompt_number": 73
    },
    {
     "cell_type": "code",
     "collapsed": false,
     "input": [
      "for d in blen:\n",
      "    print d['address']"
     ],
     "language": "python",
     "metadata": {},
     "outputs": [
      {
       "output_type": "stream",
       "stream": "stdout",
       "text": [
        " Beach Road Te Atatu North Auckland\n",
        "5 City Rd Grafton Auckland\n",
        " Harbour View Road Te Atatu Penisula Auckland\n",
        "6 Burleigh St Grafton Auckland\n",
        " McLeod Road Te Atatu South Auckland\n",
        " Glenmall Place Glen Eden Auckland\n",
        "24 Mercury Lane CBD Auckland\n",
        " Matipo Road Te Atatu Peninsula Auckland\n",
        " Mayoral Drive CBD Auckland\n",
        " Old Te Atatu Road Te Atatu Peninsula Auckland\n",
        "30 Princes Street CBD Auckland\n",
        " South Titirangi Road Titirangi Auckland\n",
        "18 Ronwood Avenue Manukau Auckland\n",
        "72-100 Fanshaw Street CBD Auckland\n",
        " Granville Road Royal Heights Auckland\n",
        "45 Airedale Street CBD Auckland\n",
        " Henderson Valley Road Henderson Auckland\n",
        " Henderson Park Henderson Auckland\n",
        " Waipareira Avenue Lincoln Auckland\n",
        " Withers Road Glen Eden Auckland\n",
        "24 Wellesley St W Auckland Auckland\n",
        " Titirangi Road Titirangi Auckland\n",
        " Clearwater Cove , Royal Heights Auckland\n",
        "31 Customs Street West CBD Auckland\n",
        "1 Greys Avenue CBD Auckland\n",
        " Titirangi Road Titirangi Auckland\n",
        " Taikata Road Te Atatu Peninsula Auckland\n",
        "22 Symonds St CBD Auckland\n",
        "21 Federal Street CBD Auckland\n",
        "100-102 Customs Street West CBD Auckland\n",
        "34 Airedale St CBD Auckland\n",
        "2 Chancery St CBD Auckland\n",
        "123 Pakenham St W CBD Auckland\n",
        "20 Upper Queen St Auckland Auckland\n",
        " West Coast Road Glen Eden Auckland\n",
        " 64 CBD Auckland\n",
        " Ratanui Street Henderson Auckland\n",
        " Edmonton Road Henderson Auckland\n",
        " Robertson Road Ranui Auckland\n",
        "9 Wolfe Street CBD Auckland\n",
        "30 Kitchener Street CBD Auckland\n",
        "22 Princes Street CBD Auckland\n",
        "112 Parnell Rd Parnell Auckland\n",
        "7 Elliott St CBD Auckland\n",
        " La Rosa Street Green Bay Auckland\n",
        "2 Daldy St CBD Auckland\n",
        " Sel Peacock Driven Henderson Auckland\n",
        " Binstead Road Kelston Auckland\n",
        "16 Eden Crescent CBD Auckland\n",
        " Totara Avenue New Lynn Auckland\n",
        " Swanson Road Henderson Auckland\n",
        "30 Kitchener Street CBD Auckland\n",
        " Whatipu Road Huia Auckland\n",
        " Beaubank Road  Kelston Beaubank Road  Kelston Auckland\n",
        "72-100 Fanshaw Street CBD Auckland\n",
        " Central Park Drive Henderson Auckland\n",
        "2 Kitchener Street CBD Auckland\n",
        "182 Federal St CBD Auckland\n",
        "65 Federal Street CBD Auckland\n",
        "48 Market Place CBD Auckland\n",
        "57 Anzac Avenue CBD Auckland\n",
        "11 St Paul Street CBD Auckland\n",
        " Marine Parade Piha Auckland\n",
        " Marine Parade Piha Auckland\n",
        " Essex Street Henderson Auckland\n",
        " Turner Street CBD Auckland\n",
        "125 Customs Street West CBD Auckland\n",
        "9-11 Symonds St CBD Auckland\n",
        " Great North Road Henderson Auckland\n",
        "30 Kitchener Street CBD Auckland\n",
        " Te Pai Place Lincoln Auckland\n",
        "26-46 Te Taou Crescent CBD Auckland\n",
        " Anzac Street Takapuna, Auckland\n",
        " Tyler Street CBD Auckland\n",
        " Glendale Road Glen Eden Auckland\n",
        "52-60 Federal Street CDB Auckland\n",
        "51 High Street CBD Auckland\n",
        " Don Buck Road Massey Auckland\n",
        "24 Mercury Lane CBD Auckland\n",
        "20 Greys Ave Auckland Auckland\n",
        " Parrs Cross Road Glen Eden Auckland\n",
        " Great North Road New Lynn Auckland\n",
        "360 Queen Street CBD Auckland\n",
        "31 Customs Street West CBD Auckland\n",
        "1 Greys Avenue CBD Auckland\n",
        " Taitoki Street Te Atatu Peninsula Auckland\n",
        "33 Wyndham Street CBD Auckland\n",
        "126 Beach Rd Auckland Auckland\n",
        " Don Buck Road Massey Auckland\n",
        "70 The Strand Parnell Auckland\n",
        " Huia Road Titirangi Auckland\n",
        " Willerton Avenue New Lynn Auckland\n",
        " Parliament Street CBD Auckland\n",
        " Neil Avenue Te Atatu Peninsula Auckland\n",
        "18 Ronwood Avenue Manukau Auckland\n",
        " Atkinson Road Titirangi Auckland\n",
        " Atkinson Road Titirangi Auckland\n",
        " Henderson Valley Road Henderson Auckland\n",
        " Te Atatu Road Te Atatu Peninsula Auckland\n",
        " Wilsher Road Henderson Auckland\n",
        " Te Atatu Road Te Atatu Peninsula Auckland\n",
        " Moselle Avenue Lincoln Auckland\n",
        " Edmonton Road Te Atatu South Auckland\n",
        "18 Ronwood Avenue Manukau Auckland\n",
        "24 Mercury Lane CBD Auckland\n",
        " Red Hills Road Massey Auckland\n",
        " Alderman Drive Henderson Auckland\n",
        "1 Greys Avenue CBD Auckland\n",
        "12-42 Ngaoho Pl Parnell Auckland\n",
        " West Coast Road Glen Eden Auckland\n",
        " Hugh Brown Drive New Lynn Auckland\n",
        "21 St Paul Street CBD Auckland\n",
        "72-100 Fanshaw Street CBD Auckland\n",
        "31 Customs Street West CBD Auckland\n",
        "30 McCrae Way New Lynn Auckland\n",
        "14 Trading Place Henderson Auckland\n",
        "7-9 Oceanview Rd Oneroa Auckland\n",
        "22 Beresford Square CBD Auckland\n",
        "1429 Sandspit Rd Sandspit Auckland\n",
        "4 Bakehouse Lane  Orewa Orewa\n",
        "18 Bakehouse Lane Orewa Orewa\n",
        "15 Florence Street Orewa Orewa\n",
        "4 Hillary Square Orewa Orewa\n",
        " Keith Morris Lane Orewa Orewa\n",
        "40 Orewa Square Orewa Orewa\n",
        "15 Tamariki Avenue Orewa Orewa\n",
        " Tamariki Avenue Orewa Orewa\n",
        "332  Hibiscus Coast Highway Orewa Orewa\n",
        "12 Shortland Street CBD Auckland\n",
        " Rutland Street Auckland Auckland\n",
        " Hobson Street Auckland Auckland\n",
        " Customs Street West Auckland Auckland\n",
        "32 Mokoia Road Birkenhead Birkenhead\n",
        "204 Hinemoa Street Birkenhead Birkenhead\n"
       ]
      }
     ],
     "prompt_number": 82
    },
    {
     "cell_type": "code",
     "collapsed": false,
     "input": [
      "print atext"
     ],
     "language": "python",
     "metadata": {},
     "outputs": [
      {
       "output_type": "stream",
       "stream": "stdout",
       "text": [
        "{\"status\":\"OK\",\"response\":[{\"id\":\"2\",\"name\":\"Beach Road Carpark, Te Atatu North\",\"address\":\" Beach Road Te Atatu North Auckland\",\"mobilitySpaces\":0,\"type\":\"all\",\"latitude\":-36.828734,\"longitude\":174.656176},{\"id\":\"3\",\"name\":\"Outside 5-7 City Road\",\"address\":\"5 City Rd Grafton Auckland\",\"mobilitySpaces\":0,\"type\":\"motorcycle\",\"latitude\":-36.856949,\"longitude\":174.7639059},{\"id\":\"4\",\"name\":\"Harbour View Road Carpark, Te Atatu Penisula\",\"address\":\" Harbour View Road Te Atatu Penisula Auckland\",\"mobilitySpaces\":0,\"type\":\"all\",\"latitude\":-36.839193,\"longitude\":174.66168},{\"id\":\"5\",\"name\":\"Burleigh Street, Grafton (Corner Burleigh and Khyber Pass Road)\",\"address\":\"6 Burleigh St Grafton Auckland\",\"mobilitySpaces\":0,\"type\":\"all\",\"latitude\":-36.8649142,\"longitude\":174.7625287},{\"id\":\"6\",\"name\":\"McLeod Road Carpark, Te Atatu South\",\"address\":\" McLeod Road Te Atatu South Auckland\",\"mobilitySpaces\":0,\"type\":\"all\",\"latitude\":-36.875892,\"longitude\":174.655774},{\"id\":\"8\",\"name\":\"Glenmall Place Carpark, Glen Eden (Mobility, P45, P125, LZ\",\"address\":\" Glenmall Place Glen Eden Auckland\",\"mobilitySpaces\":0,\"type\":\"all\",\"latitude\":-36.911239,\"longitude\":174.651997},{\"id\":\"9\",\"name\":\"Multi-storey carpark with 570 spaces for both public and leaseholder parking.  Includes 6 Mobility parking spaces. \",\"address\":\"24 Mercury Lane CBD Auckland\",\"mobilitySpaces\":6,\"type\":\"mobility\",\"latitude\":-36.8589093,\"longitude\":174.7594077},{\"id\":\"10\",\"name\":\"Matipo Road Carpark, Te Atatu Peninsula\",\"address\":\" Matipo Road Te Atatu Peninsula Auckland\",\"mobilitySpaces\":0,\"type\":\"all\",\"latitude\":-36.837484,\"longitude\":174.642153},{\"id\":\"11\",\"name\":\"On street mobility parking opposite the Open Polytechnic at 120 Mayoral Drive\",\"address\":\" Mayoral Drive CBD Auckland\",\"mobilitySpaces\":1,\"type\":\"mobility\",\"latitude\":-36.853726,\"longitude\":174.76451},{\"id\":\"12\",\"name\":\"Old Te Atatu Road Carpark, Te Atatu Peninsula\",\"address\":\" Old Te Atatu Road Te Atatu Peninsula Auckland\",\"mobilitySpaces\":0,\"type\":\"all\",\"latitude\":-36.84893,\"longitude\":174.651021},{\"id\":\"13\",\"name\":\"On street mobility parking outside the Maidement Art Centre\",\"address\":\"30 Princes Street CBD Auckland\",\"mobilitySpaces\":3,\"type\":\"mobility\",\"latitude\":-36.851495,\"longitude\":174.768538},{\"id\":\"14\",\"name\":\"South Titirangi Road Carpark, Titirangi (Mobililty)\",\"address\":\" South Titirangi Road Titirangi Auckland\",\"mobilitySpaces\":0,\"type\":\"all\",\"latitude\":-36.938865,\"longitude\":174.655945},{\"id\":\"15\",\"name\":\"Multi-storey parking facility with 676 spaces on eight levels. Includes 15 Mobility parking spaces on the ground level. \",\"address\":\"18 Ronwood Avenue Manukau Auckland\",\"mobilitySpaces\":15,\"type\":\"all\",\"latitude\":-36.991016,\"longitude\":174.877815},{\"id\":\"16\",\"name\":\"Multi-storey carpark with 509 spaces for public and leaseholder parking.  Includes motorcycle parking\",\"address\":\"72-100 Fanshaw Street CBD Auckland\",\"mobilitySpaces\":0,\"type\":\"motorcycle\",\"latitude\":-36.8459021,\"longitude\":174.7598652},{\"id\":\"17\",\"name\":\"Granville Road Carpark, Royal Heights\",\"address\":\" Granville Road Royal Heights Auckland\",\"mobilitySpaces\":0,\"type\":\"all\",\"latitude\":-36.828674,\"longitude\":174.628286},{\"id\":\"18\",\"name\":\"On street mobility parking\",\"address\":\"45 Airedale Street CBD Auckland\",\"mobilitySpaces\":2,\"type\":\"mobility\",\"latitude\":-36.854895,\"longitude\":174.764762},{\"id\":\"20\",\"name\":\"Henderson Valley Road, Henderson\",\"address\":\" Henderson Valley Road Henderson Auckland\",\"mobilitySpaces\":0,\"type\":\"all\",\"latitude\":-36.894187,\"longitude\":174.616538},{\"id\":\"21\",\"name\":\"Henderson Park, Henderson\",\"address\":\" Henderson Park Henderson Auckland\",\"mobilitySpaces\":0,\"type\":\"all\",\"latitude\":-36.878807,\"longitude\":174.625255},{\"id\":\"22\",\"name\":\"Waipareira Avenue Carpark (Mobility), Lincoln\",\"address\":\" Waipareira Avenue Lincoln Auckland\",\"mobilitySpaces\":0,\"type\":\"all\",\"latitude\":-36.865017,\"longitude\":174.633173},{\"id\":\"23\",\"name\":\"Withers Road Carpark, Glen Eden\",\"address\":\" Withers Road Glen Eden Auckland\",\"mobilitySpaces\":0,\"type\":\"all\",\"latitude\":-36.926616,\"longitude\":174.643081},{\"id\":\"24\",\"name\":\"Bledisloe\",\"address\":\"24 Wellesley St W Auckland Auckland\",\"mobilitySpaces\":0,\"type\":\"all\",\"latitude\":-36.8508833,\"longitude\":174.7632388},{\"id\":\"25\",\"name\":\"Titirangi Road Carpark, Titirangi\",\"address\":\" Titirangi Road Titirangi Auckland\",\"mobilitySpaces\":0,\"type\":\"all\",\"latitude\":-36.938091,\"longitude\":174.656181},{\"id\":\"26\",\"name\":\"Clearwater Cove Carpark, Royal Heights\",\"address\":\" Clearwater Cove , Royal Heights Auckland\",\"mobilitySpaces\":0,\"type\":\"all\",\"latitude\":-36.810603,\"longitude\":174.645184},{\"id\":\"27\",\"name\":\"Multi-storey parking facility on the corner of Lower Hobson Street and Customs Street West.  Includes motorcycle parking\",\"address\":\"31 Customs Street West CBD Auckland\",\"mobilitySpaces\":0,\"type\":\"motorcycle\",\"latitude\":-36.8439069,\"longitude\":174.7642207},{\"id\":\"28\",\"name\":\"Multi storey parking facility under Aotea square. Includes 21 Mobility parking spaces. \",\"address\":\"1 Greys Avenue CBD Auckland\",\"mobilitySpaces\":21,\"type\":\"all\",\"latitude\":-36.853072,\"longitude\":174.762515},{\"id\":\"29\",\"name\":\"Titirangi Road Carpark, Titirangi\",\"address\":\" Titirangi Road Titirangi Auckland\",\"mobilitySpaces\":0,\"type\":\"all\",\"latitude\":-36.938134,\"longitude\":174.655441},{\"id\":\"30\",\"name\":\"Taikata Road Carpark, Te Atatu Peninsula\",\"address\":\" Taikata Road Te Atatu Peninsula Auckland\",\"mobilitySpaces\":0,\"type\":\"all\",\"latitude\":-36.836561,\"longitude\":174.638983},{\"id\":\"31\",\"name\":\"Outside 20-26 Symonds Street\",\"address\":\"22 Symonds St CBD Auckland\",\"mobilitySpaces\":0,\"type\":\"motorcycle\",\"latitude\":-36.853223,\"longitude\":174.7696247},{\"id\":\"32\",\"name\":\"On street mobility parking on corner of Federal and Swanson Street\",\"address\":\"21 Federal Street CBD Auckland\",\"mobilitySpaces\":1,\"type\":\"mobility\",\"latitude\":-36.84553,\"longitude\":174.763762},{\"id\":\"33\",\"name\":\"On Street mobility parking outside Auckland Tepid Baths.  \",\"address\":\"100-102 Customs Street West CBD Auckland\",\"mobilitySpaces\":2,\"type\":\"mobility\",\"latitude\":-36.843747,\"longitude\":174.763149},{\"id\":\"34\",\"name\":\"Outside 34 Airdale Street\",\"address\":\"34 Airedale St CBD Auckland\",\"mobilitySpaces\":0,\"type\":\"motorcycle\",\"latitude\":-36.8546386,\"longitude\":174.7648333},{\"id\":\"35\",\"name\":\"Outside 2-8 Chancery Street\",\"address\":\"2 Chancery St CBD Auckland\",\"mobilitySpaces\":0,\"type\":\"motorcycle\",\"latitude\":-36.8476481,\"longitude\":174.7671923},{\"id\":\"36\",\"name\":\"Outside 117- 139 Pakenham Street West\",\"address\":\"123 Pakenham St W CBD Auckland\",\"mobilitySpaces\":0,\"type\":\"motorcycle\",\"latitude\":-36.843373,\"longitude\":174.7562491},{\"id\":\"37\",\"name\":\"Upper Queen Street,(opposite Cross Street)\",\"address\":\"20 Upper Queen St Auckland Auckland\",\"mobilitySpaces\":0,\"type\":\"all\",\"latitude\":-36.8589737,\"longitude\":174.7615222},{\"id\":\"38\",\"name\":\"West Coast Road Carpark, Glen Eden\",\"address\":\" West Coast Road Glen Eden Auckland\",\"mobilitySpaces\":0,\"type\":\"all\",\"latitude\":-36.910222,\"longitude\":174.652512},{\"id\":\"39\",\"name\":\"On street mobility parking near Myers Park\",\"address\":\" 64 CBD Auckland\",\"mobilitySpaces\":2,\"type\":\"mobility\",\"latitude\":-36.854233,\"longitude\":174.761174},{\"id\":\"40\",\"name\":\"Ratanui Street Carpark (Mobility), Henderson\",\"address\":\" Ratanui Street Henderson Auckland\",\"mobilitySpaces\":0,\"type\":\"all\",\"latitude\":-36.879194,\"longitude\":174.632591},{\"id\":\"41\",\"name\":\"Edmonton Road Carpark, Henderson\",\"address\":\" Edmonton Road Henderson Auckland\",\"mobilitySpaces\":0,\"type\":\"all\",\"latitude\":-36.878235,\"longitude\":174.634761},{\"id\":\"42\",\"name\":\"Robertson Road Carpark, Ranui\",\"address\":\" Robertson Road Ranui Auckland\",\"mobilitySpaces\":0,\"type\":\"all\",\"latitude\":-36.866566,\"longitude\":174.600456},{\"id\":\"43\",\"name\":\"On street mobility parking\",\"address\":\"9 Wolfe Street CBD Auckland\",\"mobilitySpaces\":1,\"type\":\"mobility\",\"latitude\":-36.844975,\"longitude\":174.764319},{\"id\":\"44\",\"name\":\"Multi-storey carpark building with 850 spaces on twenty levels.  Includes 6 Mobility parking spaces. \",\"address\":\"30 Kitchener Street CBD Auckland\",\"mobilitySpaces\":6,\"type\":\"all\",\"latitude\":-36.8489848,\"longitude\":174.766856},{\"id\":\"45\",\"name\":\"On street mobility parking outside Auckland University Clock Tower\",\"address\":\"22 Princes Street CBD Auckland\",\"mobilitySpaces\":1,\"type\":\"mobility\",\"latitude\":-36.850084,\"longitude\":174.769182},{\"id\":\"47\",\"name\":\"112 Parnell Road (Entrance off Garfield street) \u200b\",\"address\":\"112 Parnell Rd Parnell Auckland\",\"mobilitySpaces\":0,\"type\":\"all\",\"latitude\":-36.852955,\"longitude\":174.7790622},{\"id\":\"48\",\"name\":\"Cnr Elliot & Victoria Streets, Auckland\",\"address\":\"7 Elliott St CBD Auckland\",\"mobilitySpaces\":0,\"type\":\"motorcycle\",\"latitude\":-36.8492861,\"longitude\":174.7640473},{\"id\":\"49\",\"name\":\"La Rosa Street Carpark, Green Bay\",\"address\":\" La Rosa Street Green Bay Auckland\",\"mobilitySpaces\":0,\"type\":\"all\",\"latitude\":-36.9304,\"longitude\":174.67526},{\"id\":\"50\",\"name\":\"Opposite 2 Daldy Street\",\"address\":\"2 Daldy St CBD Auckland\",\"mobilitySpaces\":0,\"type\":\"motorcycle\",\"latitude\":-36.8451709,\"longitude\":174.7539487},{\"id\":\"51\",\"name\":\"Sel Peacock Drive (Mobility), Henderson\",\"address\":\" Sel Peacock Driven Henderson Auckland\",\"mobilitySpaces\":0,\"type\":\"all\",\"latitude\":-36.879194,\"longitude\":174.632591},{\"id\":\"52\",\"name\":\"Binstead Road Carpark, Kelston\",\"address\":\" Binstead Road Kelston Auckland\",\"mobilitySpaces\":0,\"type\":\"all\",\"latitude\":-36.901476,\"longitude\":174.681416},{\"id\":\"53\",\"name\":\"Outside 16-18 Eden Crescent \",\"address\":\"16 Eden Crescent CBD Auckland\",\"mobilitySpaces\":0,\"type\":\"motorcycle\",\"latitude\":-36.8481902,\"longitude\":174.7720016},{\"id\":\"54\",\"name\":\"Totara Avenue Carpark, New Lynn (Mobility, P240)\",\"address\":\" Totara Avenue New Lynn Auckland\",\"mobilitySpaces\":0,\"type\":\"all\",\"latitude\":-36.910003,\"longitude\":174.68134},{\"id\":\"55\",\"name\":\"Swanson Road Carpark, Henderson\",\"address\":\" Swanson Road Henderson Auckland\",\"mobilitySpaces\":0,\"type\":\"all\",\"latitude\":-36.872744,\"longitude\":174.620967},{\"id\":\"56\",\"name\":\"Multi-storey carpark building with 850 spaces on twenty levels.  Includes motorcycle parking\",\"address\":\"30 Kitchener Street CBD Auckland\",\"mobilitySpaces\":0,\"type\":\"motorcycle\",\"latitude\":-36.8489848,\"longitude\":174.766856},{\"id\":\"57\",\"name\":\"Whatipu Road Carpark, Huia\",\"address\":\" Whatipu Road Huia Auckland\",\"mobilitySpaces\":0,\"type\":\"all\",\"latitude\":-37.016732,\"longitude\":174.553378},{\"id\":\"58\",\"name\":\"Beaubank Road Carpark, Kelston\",\"address\":\" Beaubank Road  Kelston Beaubank Road  Kelston Auckland\",\"mobilitySpaces\":0,\"type\":\"all\",\"latitude\":-36.896336,\"longitude\":174.671824},{\"id\":\"59\",\"name\":\"Multi-storey carpark with 509 spaces for public and leaseholder parking.  Includes 4 Mobility parking spaces. \",\"address\":\"72-100 Fanshaw Street CBD Auckland\",\"mobilitySpaces\":4,\"type\":\"mobility\",\"latitude\":-36.8459021,\"longitude\":174.7598652},{\"id\":\"60\",\"name\":\"Central Park Drive Carpark, Henderson\",\"address\":\" Central Park Drive Henderson Auckland\",\"mobilitySpaces\":0,\"type\":\"all\",\"latitude\":-36.86321,\"longitude\":174.636338},{\"id\":\"61\",\"name\":\"On street mobility parking near the Auckland Art Gallery\",\"address\":\"2 Kitchener Street CBD Auckland\",\"mobilitySpaces\":2,\"type\":\"mobility\",\"latitude\":-36.850649,\"longitude\":174.766161},{\"id\":\"62\",\"name\":\"Cnr Federal & Wellesley Streets, Auckland\",\"address\":\"182 Federal St CBD Auckland\",\"mobilitySpaces\":0,\"type\":\"motorcycle\",\"latitude\":-36.8504856,\"longitude\":174.7617902},{\"id\":\"63\",\"name\":\"On street mobility parking outside 65 Federal Street\",\"address\":\"65 Federal Street CBD Auckland\",\"mobilitySpaces\":1,\"type\":\"mobility\",\"latitude\":-36.847672,\"longitude\":174.762814},{\"id\":\"64\",\"name\":\"On street mobility parking outside 48 Market Place\",\"address\":\"48 Market Place CBD Auckland\",\"mobilitySpaces\":1,\"type\":\"mobility\",\"latitude\":-36.843579,\"longitude\":174.761774},{\"id\":\"65\",\"name\":\"On street mobility parking, outside the New Zealand Customs building\",\"address\":\"57 Anzac Avenue CBD Auckland\",\"mobilitySpaces\":2,\"type\":\"mobility\",\"latitude\":-36.847314,\"longitude\":174.772383},{\"id\":\"66\",\"name\":\"11 St Paul Street, Auckland, New Zealand\",\"address\":\"11 St Paul Street CBD Auckland\",\"mobilitySpaces\":0,\"type\":\"motorcycle\",\"latitude\":-36.8539462,\"longitude\":174.7673425},{\"id\":\"67\",\"name\":\"Marine Parade South (North Carpark), Piha (Mobility)\",\"address\":\" Marine Parade Piha Auckland\",\"mobilitySpaces\":0,\"type\":\"all\",\"latitude\":-36.955628,\"longitude\":174.468373},{\"id\":\"68\",\"name\":\"Marine Parade South (South Carpark), Piha\",\"address\":\" Marine Parade Piha Auckland\",\"mobilitySpaces\":0,\"type\":\"all\",\"latitude\":-36.957587,\"longitude\":174.468142},{\"id\":\"69\",\"name\":\"Essex Street Carpark, Henderson\",\"address\":\" Essex Street Henderson Auckland\",\"mobilitySpaces\":0,\"type\":\"all\",\"latitude\":-36.87171,\"longitude\":174.642915},{\"id\":\"70\",\"name\":\"On street mobility parking, opposite Auckland International YHA\",\"address\":\" Turner Street CBD Auckland\",\"mobilitySpaces\":2,\"type\":\"mobility\",\"latitude\":-36.855519,\"longitude\":174.763256},{\"id\":\"71\",\"name\":\"On street mobility parking outside 125 Customs Street West\",\"address\":\"125 Customs Street West CBD Auckland\",\"mobilitySpaces\":1,\"type\":\"mobility\",\"latitude\":-36.84382,\"longitude\":174.760361},{\"id\":\"72\",\"name\":\"Outside 9 -11 Symonds Street\",\"address\":\"9-11 Symonds St CBD Auckland\",\"mobilitySpaces\":0,\"type\":\"motorcycle\",\"latitude\":-36.8522447,\"longitude\":174.7697629},{\"id\":\"73\",\"name\":\"Great North Road (426) Carpark, Henderson\",\"address\":\" Great North Road Henderson Auckland\",\"mobilitySpaces\":0,\"type\":\"all\",\"latitude\":-36.87171,\"longitude\":174.642915},{\"id\":\"74\",\"name\":\"Multi-storey carpark building with 850 spaces on twenty levels.  Includes 6 Mobility parking spaces. \",\"address\":\"30 Kitchener Street CBD Auckland\",\"mobilitySpaces\":6,\"type\":\"mobility\",\"latitude\":-36.8489848,\"longitude\":174.766856},{\"id\":\"76\",\"name\":\"Te Pai Place Carpark, Lincoln\",\"address\":\" Te Pai Place Lincoln Auckland\",\"mobilitySpaces\":0,\"type\":\"all\",\"latitude\":-36.862047,\"longitude\":174.632884},{\"id\":\"77\",\"name\":\"On street mobility parking beside the old Grand Central Station, next to Vector Arena.\",\"address\":\"26-46 Te Taou Crescent CBD Auckland\",\"mobilitySpaces\":5,\"type\":\"mobility\",\"latitude\":-36.848544,\"longitude\":174.776416},{\"id\":\"78\",\"name\":\"Anzac Street, Takapuna. Includes 8 Mobility parking spaces.\",\"address\":\" Anzac Street Takapuna, Auckland\",\"mobilitySpaces\":0,\"type\":\"all\",\"latitude\":-36.786656,\"longitude\":174.77127},{\"id\":\"79\",\"name\":\"On street mobility parking, halfway down Tyler Street.\",\"address\":\" Tyler Street CBD Auckland\",\"mobilitySpaces\":1,\"type\":\"mobility\",\"latitude\":-36.844474,\"longitude\":174.770004},{\"id\":\"80\",\"name\":\"Glendale Road Carpark, Glen Eden\",\"address\":\" Glendale Road Glen Eden Auckland\",\"mobilitySpaces\":0,\"type\":\"all\",\"latitude\":-36.9204,\"longitude\":174.649508},{\"id\":\"81\",\"name\":\"On street mobility parking outside 60 Federal Street\",\"address\":\"52-60 Federal Street CDB Auckland\",\"mobilitySpaces\":2,\"type\":\"mobility\",\"latitude\":-36.847889,\"longitude\":174.762807},{\"id\":\"82\",\"name\":\"On street mobility parking outside 51 High Street\",\"address\":\"51 High Street CBD Auckland\",\"mobilitySpaces\":1,\"type\":\"mobility\",\"latitude\":-36.848418,\"longitude\":174.766358},{\"id\":\"88\",\"name\":\"Don Buck Road Carpark, Massey\",\"address\":\" Don Buck Road Massey Auckland\",\"mobilitySpaces\":0,\"type\":\"all\",\"latitude\":-36.834427,\"longitude\":174.603058},{\"id\":\"90\",\"name\":\"Multi-storey carpark with 570 spaces for both public and leaseholder parking.  Includes motorcycle parking\",\"address\":\"24 Mercury Lane CBD Auckland\",\"mobilitySpaces\":0,\"type\":\"motorcycle\",\"latitude\":-36.8589093,\"longitude\":174.7594077},{\"id\":\"91\",\"name\":\"Greys Ave\u200b (opposite the Civic Building)\",\"address\":\"20 Greys Ave Auckland Auckland\",\"mobilitySpaces\":0,\"type\":\"all\",\"latitude\":-36.8528506,\"longitude\":174.7630503},{\"id\":\"92\",\"name\":\"Parrs Cross Road Carpark, Glen Eden/Oratia\",\"address\":\" Parrs Cross Road Glen Eden Auckland\",\"mobilitySpaces\":0,\"type\":\"all\",\"latitude\":-36.906675,\"longitude\":174.627723},{\"id\":\"93\",\"name\":\"Great North Road (3072) Carpark, New Lynn (Mobility, P120, P180, LZ)\",\"address\":\" Great North Road New Lynn Auckland\",\"mobilitySpaces\":0,\"type\":\"all\",\"latitude\":-36.908669,\"longitude\":174.682869},{\"id\":\"94\",\"name\":\"On street mobility parking opposite the Town Hall\",\"address\":\"360 Queen Street CBD Auckland\",\"mobilitySpaces\":3,\"type\":\"mobility\",\"latitude\":-36.852541,\"longitude\":174.763875},{\"id\":\"95\",\"name\":\"Multi-storey parking facility on the corner of Lower Hobson Street and Customs Street West.  Includes 9 Mobility parking spaces. \",\"address\":\"31 Customs Street West CBD Auckland\",\"mobilitySpaces\":9,\"type\":\"all\",\"latitude\":-36.8439069,\"longitude\":174.7642207},{\"id\":\"96\",\"name\":\"Multi storey parking facility under Aotea square. Includes 21 Mobility parking spaces. \",\"address\":\"1 Greys Avenue CBD Auckland\",\"mobilitySpaces\":21,\"type\":\"mobility\",\"latitude\":-36.853072,\"longitude\":174.762515},{\"id\":\"97\",\"name\":\"Taitoki Street Carpark, Te Atatu Peninsula\",\"address\":\" Taitoki Street Te Atatu Peninsula Auckland\",\"mobilitySpaces\":0,\"type\":\"all\",\"latitude\":-36.855158,\"longitude\":174.647405},{\"id\":\"98\",\"name\":\"On street mobility parking near St Patricks Church.\",\"address\":\"33 Wyndham Street CBD Auckland\",\"mobilitySpaces\":1,\"type\":\"mobility\",\"latitude\":-36.846787,\"longitude\":174.763832},{\"id\":\"99\",\"name\":\" Railway station, Beach Road,(Opposite Tai Ping Supermarket)\",\"address\":\"126 Beach Rd Auckland Auckland\",\"mobilitySpaces\":0,\"type\":\"all\",\"latitude\":-36.8482474,\"longitude\":174.7746586},{\"id\":\"100\",\"name\":\"Don Buck Road Carpark (P60), Massey\",\"address\":\" Don Buck Road Massey Auckland\",\"mobilitySpaces\":0,\"type\":\"all\",\"latitude\":-36.836016,\"longitude\":174.60228},{\"id\":\"101\",\"name\":\"Corner of The Strand and St Georges Bay Rd Parnell\\r\\n(Opposite Saatchi & Saatchi)\",\"address\":\"70 The Strand Parnell Auckland\",\"mobilitySpaces\":0,\"type\":\"all\",\"latitude\":-36.8495918,\"longitude\":174.7813795},{\"id\":\"102\",\"name\":\"Huia Road Carpark, Titirangi\",\"address\":\" Huia Road Titirangi Auckland\",\"mobilitySpaces\":0,\"type\":\"all\",\"latitude\":-36.949007,\"longitude\":174.641781},{\"id\":\"103\",\"name\":\"Willerton Avenue Carpark, New Lynn\",\"address\":\" Willerton Avenue New Lynn Auckland\",\"mobilitySpaces\":0,\"type\":\"all\",\"latitude\":-36.918028,\"longitude\":174.674769},{\"id\":\"104\",\"name\":\"On street mobility parking Beside the Auckland High Court on the corner of Parliament Street and Waterloo Quadrant.\",\"address\":\" Parliament Street CBD Auckland\",\"mobilitySpaces\":2,\"type\":\"mobility\",\"latitude\":-36.849366,\"longitude\":174.771821},{\"id\":\"105\",\"name\":\"Neil Avenue Carpark, Te Atatu Peninsula\",\"address\":\" Neil Avenue Te Atatu Peninsula Auckland\",\"mobilitySpaces\":0,\"type\":\"all\",\"latitude\":-36.838506,\"longitude\":174.646236},{\"id\":\"106\",\"name\":\"Multi-storey parking facility with 676 spaces on eight levels. Includes motorcycle parking\",\"address\":\"18 Ronwood Avenue Manukau Auckland\",\"mobilitySpaces\":0,\"type\":\"motorcycle\",\"latitude\":-36.991016,\"longitude\":174.877815},{\"id\":\"107\",\"name\":\"Atkinson Road Carpark, Titirangi\",\"address\":\" Atkinson Road Titirangi Auckland\",\"mobilitySpaces\":0,\"type\":\"all\",\"latitude\":-36.924105,\"longitude\":174.655522},{\"id\":\"108\",\"name\":\"Atkinson Road Carpark, Titirangi\",\"address\":\" Atkinson Road Titirangi Auckland\",\"mobilitySpaces\":0,\"type\":\"all\",\"latitude\":-36.927017,\"longitude\":174.655049},{\"id\":\"109\",\"name\":\"Henderson Valley Road Carpark, Henderson\",\"address\":\" Henderson Valley Road Henderson Auckland\",\"mobilitySpaces\":0,\"type\":\"all\",\"latitude\":-36.878702,\"longitude\":174.629772},{\"id\":\"110\",\"name\":\"Te Atatu Road Carpark, Te Atatu Peninsula\",\"address\":\" Te Atatu Road Te Atatu Peninsula Auckland\",\"mobilitySpaces\":0,\"type\":\"all\",\"latitude\":-36.841509,\"longitude\":174.651855},{\"id\":\"112\",\"name\":\"Wilsher Road Carpark, Henderson\",\"address\":\" Wilsher Road Henderson Auckland\",\"mobilitySpaces\":0,\"type\":\"all\",\"latitude\":-36.878807,\"longitude\":174.625255},{\"id\":\"113\",\"name\":\"Te Atatu Road Carpark, Te Atatu Peninsula\",\"address\":\" Te Atatu Road Te Atatu Peninsula Auckland\",\"mobilitySpaces\":0,\"type\":\"all\",\"latitude\":-36.840558,\"longitude\":174.651576},{\"id\":\"114\",\"name\":\"Moselle Avenue Carpark (Mobility), Lincoln\",\"address\":\" Moselle Avenue Lincoln Auckland\",\"mobilitySpaces\":0,\"type\":\"all\",\"latitude\":-36.864442,\"longitude\":174.629686},{\"id\":\"115\",\"name\":\"Edmonton Road Carpark, Te Atatu South\",\"address\":\" Edmonton Road Te Atatu South Auckland\",\"mobilitySpaces\":0,\"type\":\"all\",\"latitude\":-36.866002,\"longitude\":174.645313},{\"id\":\"116\",\"name\":\"Multi-storey parking facility with 676 spaces on eight levels. Includes 15 Mobility parking spaces on the ground level. \",\"address\":\"18 Ronwood Avenue Manukau Auckland\",\"mobilitySpaces\":15,\"type\":\"mobility\",\"latitude\":-36.991016,\"longitude\":174.877815},{\"id\":\"117\",\"name\":\"Multi-storey carpark with 570 spaces for both public and leaseholder parking.  Includes 6 Mobility parking spaces. \",\"address\":\"24 Mercury Lane CBD Auckland\",\"mobilitySpaces\":6,\"type\":\"all\",\"latitude\":-36.8589093,\"longitude\":174.7594077},{\"id\":\"118\",\"name\":\"Red Hills Road Carpark, Massey\",\"address\":\" Red Hills Road Massey Auckland\",\"mobilitySpaces\":0,\"type\":\"all\",\"latitude\":-36.837502,\"longitude\":174.598779},{\"id\":\"119\",\"name\":\"Alderman Drive Carpark, Henderson\",\"address\":\" Alderman Drive Henderson Auckland\",\"mobilitySpaces\":0,\"type\":\"all\",\"latitude\":-36.877651,\"longitude\":174.634976},{\"id\":\"121\",\"name\":\"Multi storey parking facility under Aotea square. Includes motorcycle parking\",\"address\":\"1 Greys Avenue CBD Auckland\",\"mobilitySpaces\":0,\"type\":\"motorcycle\",\"latitude\":-36.853072,\"longitude\":174.762515},{\"id\":\"122\",\"name\":\"Ngaoho Place\u200b\",\"address\":\"12-42 Ngaoho Pl Parnell Auckland\",\"mobilitySpaces\":0,\"type\":\"all\",\"latitude\":-36.8493662,\"longitude\":174.7768046},{\"id\":\"123\",\"name\":\"West Coast Road Carpark, Glen Eden\",\"address\":\" West Coast Road Glen Eden Auckland\",\"mobilitySpaces\":0,\"type\":\"all\",\"latitude\":-36.909999,\"longitude\":174.651724},{\"id\":\"124\",\"name\":\"Hugh Brown Drive Carpark, New Lynn\",\"address\":\" Hugh Brown Drive New Lynn Auckland\",\"mobilitySpaces\":0,\"type\":\"all\",\"latitude\":-36.906947,\"longitude\":174.681201},{\"id\":\"125\",\"name\":\"On street mobility parking outside AUT (AUckland University of Technology) D Block.\",\"address\":\"21 St Paul Street CBD Auckland\",\"mobilitySpaces\":4,\"type\":\"mobility\",\"latitude\":-36.8539,\"longitude\":174.766939},{\"id\":\"126\",\"name\":\"Multi-storey carpark with 509 spaces for public and leaseholder parking.  Includes 4 Mobility parking spaces. \",\"address\":\"72-100 Fanshaw Street CBD Auckland\",\"mobilitySpaces\":4,\"type\":\"all\",\"latitude\":-36.8459021,\"longitude\":174.7598652},{\"id\":\"127\",\"name\":\"Multi-storey parking facility on the corner of Lower Hobson Street and Customs Street West.  Includes 9 Mobility parking spaces. \",\"address\":\"31 Customs Street West CBD Auckland\",\"mobilitySpaces\":9,\"type\":\"mobility\",\"latitude\":-36.8439069,\"longitude\":174.7642207},{\"id\":\"128\",\"name\":\"Multi-storey pay and display parking facility under Totara Medical Centre. Three levels with 70 parking spaces and 4 mobility spaces on each level. The first level is reserved for visitors to the Totara Medical Centre. Limited motorcycle parking in designated areas.\\r\\n\",\"address\":\"30 McCrae Way New Lynn Auckland\",\"mobilitySpaces\":12,\"type\":\"all\",\"latitude\":-36.909199,\"longitude\":174.68318},{\"id\":\"129\",\"name\":\"Henderson library/Unitec car park\",\"address\":\"14 Trading Place Henderson Auckland\",\"mobilitySpaces\":7,\"type\":\"all\",\"latitude\":-36.878711,\"longitude\":174.633626},{\"id\":\"130\",\"name\":\"Matiatia car park (Waiheke Island)\",\"address\":\"7-9 Oceanview Rd Oneroa Auckland\",\"mobilitySpaces\":12,\"type\":\"all\",\"latitude\":-36.781143,\"longitude\":174.993854},{\"id\":\"131\",\"name\":\"Beresford Square car park\",\"address\":\"22 Beresford Square CBD Auckland\",\"mobilitySpaces\":0,\"type\":\"all\",\"latitude\":-36.856566,\"longitude\":174.757762},{\"id\":\"132\",\"name\":\"Sandspit Road, Sandspit, off State Highway 1\",\"address\":\"1429 Sandspit Rd Sandspit Auckland\",\"mobilitySpaces\":0,\"type\":\"all\",\"latitude\":-36.390447,\"longitude\":174.728553},{\"id\":\"133\",\"name\":\"On street P180 angle park with drop kerb access \",\"address\":\"4 Bakehouse Lane  Orewa Orewa\",\"mobilitySpaces\":1,\"type\":\"mobility\",\"latitude\":-36.586509,\"longitude\":174.695507},{\"id\":\"134\",\"name\":\"On street P180 angle park with drop kerb \",\"address\":\"18 Bakehouse Lane Orewa Orewa\",\"mobilitySpaces\":1,\"type\":\"mobility\",\"latitude\":-36.587053,\"longitude\":174.695738},{\"id\":\"135\",\"name\":\"On street P180 angle space located in Hillary Square North, outside the Red Cross Shop .\",\"address\":\"15 Florence Street Orewa Orewa\",\"mobilitySpaces\":1,\"type\":\"mobility\",\"latitude\":-36.585012,\"longitude\":174.693935},{\"id\":\"136\",\"name\":\"Located in Hillary Square South , two P180 angle parks with central drop kerb \",\"address\":\"4 Hillary Square Orewa Orewa\",\"mobilitySpaces\":2,\"type\":\"mobility\",\"latitude\":-36.585656,\"longitude\":174.694118},{\"id\":\"137\",\"name\":\"Opposite Unichem P180 angle park with drop kerb\",\"address\":\" Keith Morris Lane Orewa Orewa\",\"mobilitySpaces\":1,\"type\":\"mobility\",\"latitude\":-36.587054,\"longitude\":174.693725},{\"id\":\"138\",\"name\":\"P180 angle parks with drop kerb\",\"address\":\"40 Orewa Square Orewa Orewa\",\"mobilitySpaces\":3,\"type\":\"mobility\",\"latitude\":-36.585777,\"longitude\":174.694971},{\"id\":\"139\",\"name\":\"P180 angle park with drop kerb on passenger side, located outside the Nautilus Building\",\"address\":\"15 Tamariki Avenue Orewa Orewa\",\"mobilitySpaces\":1,\"type\":\"mobility\",\"latitude\":-36.58773,\"longitude\":174.694302},{\"id\":\"140\",\"name\":\"P180 angle park with ramp access to footpath, located outside Care Chemist.\",\"address\":\" Tamariki Avenue Orewa Orewa\",\"mobilitySpaces\":1,\"type\":\"mobility\",\"latitude\":-36.587261,\"longitude\":174.696377},{\"id\":\"141\",\"name\":\"\",\"address\":\"332  Hibiscus Coast Highway Orewa Orewa\",\"mobilitySpaces\":0,\"type\":\"motorcycle\",\"latitude\":-36.58664,\"longitude\":174.696311},{\"id\":\"142\",\"name\":\"P180 parallel spaces with ramp access\",\"address\":\"12 Shortland Street CBD Auckland\",\"mobilitySpaces\":2,\"type\":\"mobility\",\"latitude\":-36.846451,\"longitude\":174.766696},{\"id\":\"143\",\"name\":\"Outside Auckland Library P120 parallel spaces on flush surface\",\"address\":\" Rutland Street Auckland Auckland\",\"mobilitySpaces\":3,\"type\":\"mobility\",\"latitude\":-36.852113,\"longitude\":174.765236},{\"id\":\"144\",\"name\":\"P180 parallel spaces outside of Pizza Hut near corner of Kingston Street.\",\"address\":\" Hobson Street Auckland Auckland\",\"mobilitySpaces\":2,\"type\":\"mobility\",\"latitude\":-36.847386,\"longitude\":174.762036},{\"id\":\"145\",\"name\":\"Opposite 110. P120 Angle next to public toilet.\",\"address\":\" Customs Street West Auckland Auckland\",\"mobilitySpaces\":1,\"type\":\"mobility\",\"latitude\":-36.843338,\"longitude\":174.760973},{\"id\":\"146\",\"name\":\"P120 angle parks with kerb cutting for access\",\"address\":\"32 Mokoia Road Birkenhead Birkenhead\",\"mobilitySpaces\":2,\"type\":\"mobility\",\"latitude\":-36.812137,\"longitude\":174.725061},{\"id\":\"148\",\"name\":\"Not time restricted parallel parks outside of the Library. Other mobility spaces are available on Rawene Road and underneath the library during library hours. \",\"address\":\"204 Hinemoa Street Birkenhead Birkenhead\",\"mobilitySpaces\":2,\"type\":\"mobility\",\"latitude\":-36.81272,\"longitude\":174.726859}],\"error\":null}\n"
       ]
      }
     ],
     "prompt_number": 34
    },
    {
     "cell_type": "code",
     "collapsed": false,
     "input": [],
     "language": "python",
     "metadata": {},
     "outputs": [
      {
       "metadata": {},
       "output_type": "pyout",
       "prompt_number": 26,
       "text": [
        "''"
       ]
      }
     ],
     "prompt_number": 26
    },
    {
     "cell_type": "code",
     "collapsed": false,
     "input": [
      "atke"
     ],
     "language": "python",
     "metadata": {},
     "outputs": [
      {
       "metadata": {},
       "output_type": "pyout",
       "prompt_number": 13,
       "text": [
        "''"
       ]
      }
     ],
     "prompt_number": 13
    },
    {
     "cell_type": "code",
     "collapsed": false,
     "input": [
      "atkey.name"
     ],
     "language": "python",
     "metadata": {},
     "outputs": [
      {
       "metadata": {},
       "output_type": "pyout",
       "prompt_number": 24,
       "text": [
        "'key'"
       ]
      }
     ],
     "prompt_number": 24
    },
    {
     "cell_type": "code",
     "collapsed": false,
     "input": [],
     "language": "python",
     "metadata": {},
     "outputs": []
    }
   ],
   "metadata": {}
  }
 ]
}