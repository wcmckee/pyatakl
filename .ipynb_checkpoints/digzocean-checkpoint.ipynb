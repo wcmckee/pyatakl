{
 "metadata": {
  "name": "",
  "signature": "sha256:9d49d4e3120885070e8d6ef231e0f9cde107b942821fa60cd6af114bb1ef309f"
 },
 "nbformat": 3,
 "nbformat_minor": 0,
 "worksheets": [
  {
   "cells": [
    {
     "cell_type": "code",
     "collapsed": false,
     "input": [
      "digital ocean server setup and installing ipython notebook, and run website on web server. \n",
      "choose os you want, choose images you want. launch. "
     ],
     "language": "python",
     "metadata": {},
     "outputs": [
      {
       "ename": "SyntaxError",
       "evalue": "invalid syntax (<ipython-input-1-b41e48ee1e12>, line 1)",
       "output_type": "pyerr",
       "traceback": [
        "\u001b[1;36m  File \u001b[1;32m\"<ipython-input-1-b41e48ee1e12>\"\u001b[1;36m, line \u001b[1;32m1\u001b[0m\n\u001b[1;33m    digital ocean server setup and installing ipython notebook, and run website on web server.\u001b[0m\n\u001b[1;37m                ^\u001b[0m\n\u001b[1;31mSyntaxError\u001b[0m\u001b[1;31m:\u001b[0m invalid syntax\n"
       ]
      }
     ],
     "prompt_number": 1
    },
    {
     "cell_type": "markdown",
     "metadata": {},
     "source": [
      "user logs into digital ocean, chooses one of my snapshots (need to make snapshots of stuff i like.\n",
      "Makes server, runs script to install software. tick box on software you want. \n",
      "\n"
     ]
    }
   ],
   "metadata": {}
  }
 ]
}