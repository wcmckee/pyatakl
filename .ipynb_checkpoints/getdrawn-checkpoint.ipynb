{
 "metadata": {
  "name": "",
  "signature": "sha256:e4b1d341eb1d9e02234a78cb9dbb824818d6a507a2b19b5fbe7255eda7164690"
 },
 "nbformat": 3,
 "nbformat_minor": 0,
 "worksheets": [
  {
   "cells": [
    {
     "cell_type": "code",
     "collapsed": false,
     "input": [
      "import praw"
     ],
     "language": "python",
     "metadata": {},
     "outputs": [],
     "prompt_number": 38
    },
    {
     "cell_type": "code",
     "collapsed": false,
     "input": [
      "r = praw.Reddit(user_agent='redditgetsdrawn blog post')"
     ],
     "language": "python",
     "metadata": {},
     "outputs": [],
     "prompt_number": 39
    },
    {
     "cell_type": "code",
     "collapsed": false,
     "input": [
      "subs = r.get_subreddit('redditgetsdrawn').get_new(limit=5)"
     ],
     "language": "python",
     "metadata": {},
     "outputs": [],
     "prompt_number": 40
    },
    {
     "cell_type": "code",
     "collapsed": false,
     "input": [
      "[str(x) for x in subs]"
     ],
     "language": "python",
     "metadata": {},
     "outputs": [
      {
       "metadata": {},
       "output_type": "pyout",
       "prompt_number": 41,
       "text": [
        "['3 :: Can you guys draw my favourite picture of my dad and I ?',\n",
        " '2 :: Anyone fancy drawing one these pics of my miserable mug. Thanks muchly!',\n",
        " '4 :: Can someone draw my dogs for me, please? Sorry for quality.',\n",
        " '3 :: My \"Come Hither\" face with flowers and ribbons in my hair. Who wants to ...',\n",
        " '4 :: Took this before my dive last night. Could you draw me doing my favorite...']"
       ]
      }
     ],
     "prompt_number": 41
    },
    {
     "cell_type": "code",
     "collapsed": false,
     "input": [
      "subs"
     ],
     "language": "python",
     "metadata": {},
     "outputs": [
      {
       "metadata": {},
       "output_type": "pyout",
       "prompt_number": 42,
       "text": [
        "<generator object get_content at 0x1e7d370>"
       ]
      }
     ],
     "prompt_number": 42
    },
    {
     "cell_type": "code",
     "collapsed": false,
     "input": [],
     "language": "python",
     "metadata": {},
     "outputs": [],
     "prompt_number": 42
    },
    {
     "cell_type": "code",
     "collapsed": false,
     "input": [
      "rd = r.get_subreddit('redditgetsdrawn')"
     ],
     "language": "python",
     "metadata": {},
     "outputs": [],
     "prompt_number": 43
    },
    {
     "cell_type": "code",
     "collapsed": false,
     "input": [
      "rd"
     ],
     "language": "python",
     "metadata": {},
     "outputs": [
      {
       "metadata": {},
       "output_type": "pyout",
       "prompt_number": 44,
       "text": [
        "Subreddit(display_name='redditgetsdrawn')"
       ]
      }
     ],
     "prompt_number": 44
    },
    {
     "cell_type": "code",
     "collapsed": false,
     "input": [
      "rd.description"
     ],
     "language": "python",
     "metadata": {},
     "outputs": [
      {
       "metadata": {},
       "output_type": "pyout",
       "prompt_number": 45,
       "text": [
        "u\"This a community for redditors who want to get drawn, and redditors who want to draw them! Post a photo of yourself or a loved one, and we'll draw you!\\n\\n* **Please see our [WIKI PAGE](http://www.reddit.com/r/redditgetsdrawn/wiki/index) for a complete list of sub rules.** Reading this page is essential for those who want to participate in this community. \\n\\n* Parent comments are for artistic contributions only. **Non-artistic comments will be removed.**\\n\\n###[MODEL ROULETTE](http://www.reddit.com/r/redditgetsdrawn/random)\\n\\n**Like what you see here?** Check out our [Facebook page](https://www.facebook.com/redditgetsdrawn) for more pieces from some of our best artists!\\n\\n**Related subreddits:**\\n\\n* [Artist Lounge (RGD's Discussion Page)](http://www.reddit.com/r/ArtistLounge/)\\n* [Anime Sketch](http://www.reddit.com/r/animesketch)\\n* [Art](http://www.reddit.com/r/art)\\n* [Caricatures](http://www.reddit.com/r/caricatures)\\n* [Daily Draw](http://www.reddit.com/r/dailydraw)\\n* [Digital Painting](http://www.reddit.com/r/digitalpainting)\\n* [Draw For Me](http://www.reddit.com/r/drawforme)\\n* [Drawing](http://www.reddit.com/r/drawing)\\n* [I Drew A Picture](http://www.reddit.com/r/idap)\\n* [Sketch Daily](http://www.reddit.com/r/sketchdaily)\\n* [Reddit Gets Drawn Badly](http://www.reddit.com/r/redditgetsdrawnbadly)\\n* [Comic Book Art](http://www.reddit.com/r/comicbookart)\\n* [Draw It](http://www.reddit.com/r/drawit)\\n* [I Can Draw That](http://www.reddit.com/r/ICanDrawThat)\\n* [RedditGetsScribed](http://www.reddit.com/r/redditgetsscribed)\\n* [Draw My Tattoo](http://www.reddit.com/r/drawmytattoo)\""
       ]
      }
     ],
     "prompt_number": 45
    },
    {
     "cell_type": "code",
     "collapsed": false,
     "input": [
      "rd.fullname"
     ],
     "language": "python",
     "metadata": {},
     "outputs": [
      {
       "metadata": {},
       "output_type": "pyout",
       "prompt_number": 46,
       "text": [
        "u't5_2tjl7'"
       ]
      }
     ],
     "prompt_number": 46
    },
    {
     "cell_type": "code",
     "collapsed": false,
     "input": [
      "rd.url"
     ],
     "language": "python",
     "metadata": {},
     "outputs": [
      {
       "metadata": {},
       "output_type": "pyout",
       "prompt_number": 47,
       "text": [
        "u'/r/redditgetsdrawn/'"
       ]
      }
     ],
     "prompt_number": 47
    },
    {
     "cell_type": "code",
     "collapsed": false,
     "input": [
      "rd.created"
     ],
     "language": "python",
     "metadata": {},
     "outputs": [
      {
       "metadata": {},
       "output_type": "pyout",
       "prompt_number": 51,
       "text": [
        "1329037453.0"
       ]
      }
     ],
     "prompt_number": 51
    },
    {
     "cell_type": "code",
     "collapsed": false,
     "input": [
      "rd.subscribers"
     ],
     "language": "python",
     "metadata": {},
     "outputs": [
      {
       "metadata": {},
       "output_type": "pyout",
       "prompt_number": 62,
       "text": [
        "55393"
       ]
      }
     ],
     "prompt_number": 62
    },
    {
     "cell_type": "code",
     "collapsed": false,
     "input": [
      "rd.public_traffic"
     ],
     "language": "python",
     "metadata": {},
     "outputs": [
      {
       "metadata": {},
       "output_type": "pyout",
       "prompt_number": 63,
       "text": [
        "True"
       ]
      }
     ],
     "prompt_number": 63
    },
    {
     "cell_type": "code",
     "collapsed": false,
     "input": [
      "rd.header_title"
     ],
     "language": "python",
     "metadata": {},
     "outputs": [],
     "prompt_number": 66
    },
    {
     "cell_type": "code",
     "collapsed": false,
     "input": [],
     "language": "python",
     "metadata": {},
     "outputs": []
    },
    {
     "cell_type": "code",
     "collapsed": false,
     "input": [
      "wikipg = list(rd.get_wiki_pages())[4]"
     ],
     "language": "python",
     "metadata": {},
     "outputs": [],
     "prompt_number": 89
    },
    {
     "cell_type": "code",
     "collapsed": false,
     "input": [
      "wikipg.has_fetched"
     ],
     "language": "python",
     "metadata": {},
     "outputs": [
      {
       "metadata": {},
       "output_type": "pyout",
       "prompt_number": 94,
       "text": [
        "True"
       ]
      }
     ],
     "prompt_number": 94
    },
    {
     "cell_type": "code",
     "collapsed": false,
     "input": [
      "wikipg.revision_by"
     ],
     "language": "python",
     "metadata": {},
     "outputs": [
      {
       "metadata": {},
       "output_type": "pyout",
       "prompt_number": 91,
       "text": [
        "Redditor(user_name='ItWillBeMine')"
       ]
      }
     ],
     "prompt_number": 91
    },
    {
     "cell_type": "code",
     "collapsed": false,
     "input": [
      "#wikipg.content_html"
     ],
     "language": "python",
     "metadata": {},
     "outputs": [],
     "prompt_number": 96
    },
    {
     "cell_type": "code",
     "collapsed": false,
     "input": [
      "wikipg.content_md"
     ],
     "language": "python",
     "metadata": {},
     "outputs": [
      {
       "metadata": {},
       "output_type": "pyout",
       "prompt_number": 90,
       "text": [
        "u'This page serves as a detailed explanation of the rules of the sub. **Failure to read these rules does not excuse users from being obligated to follow them, including mobile users.** Please note that this sub is strictly moderated, and we are quick to ban those who do not follow our rules.\\r\\n\\r\\n##RULES\\r\\n\\r\\n###Conduct for All Users\\r\\n\\r\\n1. **Parent comments are for artistic contributions only. Non-artistic parent comments WILL be removed.** Artists may give polite feedback to OP regarding reason(s) they are passing over the post. Please do not add more comments under deleted comments, as those are also removed. OPs may leave non-artistic parent comments in their own threads.\\r\\n\\r\\n2. **Do not make comments about the appearance of submitters.** Users are expected to behave with courtesy toward other users at all times. We will not tolerate racism, sexism, or any other form of bigotry, regardless of your artistic abilities. **DO NOT hit on submitters. Such comments will be removed, and may result in a ban.**\\r\\n\\r\\n3. **If you have an issue with the mods, message the mods rather than attempting to start a debate within the thread.** If you are rude or aggressive toward a mod, it is likely that you will be banned. Mod abuse will not be tolerated.\\r\\n\\r\\n4. **If you want to critique an artist\\'s work, do so in a constructive, specific, and kind way.** All other types of feedback (\"What\\'s up with those faces?\") will be removed and you will be warned. Be aware that while many artists appreciate feedback, some do not.\\r\\n\\r\\n5. Do not create posts to ask questions, solicit models, or promote your own art. Posts are **strictly for photo submissions of the OP and their loved ones.**\\r\\n\\r\\n6. Artists and submitters understand that anything posted on Reddit will be shared and distributed by others, with or without your consent. **If you want to retain all exclusive rights to your work and/or your photos, do not post here.** Permission to use artwork or photos is not required, monitored, or enforced by the mods.\\r\\n\\r\\n\\r\\n###Rules for Submitters\\r\\n\\r\\n1. **All photos must be uploaded through Imgur.**\\r\\n\\r\\n2. **Reposts are not allowed and will be removed.** No exceptions.\\r\\n\\r\\n3. Good art can take up to 24 hours or longer to receive - **DO NOT DELETE YOUR POSTS!** An artist may be working on that for you. If you\\'ve deleted your submission, they have no way of giving you the piece. We are very serious about this rule because it causes major inconvenience for the artists. If you delete a post, you are risking a ban.\\r\\n\\r\\n4. **Don\\'t forget to thank and upvote the artist(s) who took the time to draw you.** If you do not thank the artists after 24 hours, one of the mods will give you a reminder. You must acknowledge at least one (preferably more) of the artists. Our favorite submitters are those who interact with every artist. Submitters who repeatedly engage in non-thanking behavior will be banned. Gratitude is the only payment many artists receive.\\r\\n\\r\\n5. **You may not ask an artist who has provided work for you to do more work for you** (\"Can you do this other photo of my mom?\" \"Can you ship this to me?\") or to edit a piece to your liking (\"Could you change the eye color?\"). What the artist gives you is what you get. If you want your piece to be further customized, feel free to contact the artist privately and offer compensation.\\r\\n\\r\\n6. **Do not provide names of individuals in the photos, even first names.** Doing so may result in banning. Indicate personal information about yourself (location, occupation, etc.) at your own risk.\\r\\n\\r\\n7. **Do not solicit specific artists that you like to draw you.** Such comments will be removed.\\r\\n\\r\\n8. **You may not offer compensation to the artists within your post or title.** This is a free sub. You may, however, contact any artist of your choosing privately and offer them compensation that way. You are not obligated to do so, however.\\r\\n\\r\\n9. **Nude photos are welcome and encouraged.** Please tag risque photos as NSFW. If your account is brand new and you\\'re posting a NSFW photo, the mods will ask for verification. Only the models within NSFW photos can post - you may not post your naked friend here.\\r\\n\\r\\n10. The posts in this sub consist of photos of **Redditors and their relationships with loved immediate others only,** such as family members, spouses, significant others, your pets, and best friends. If your photo is of your boss, your professor, your friend\\'s dad, your boyfriend\\'s dog, or your former music minister, it doesn\\'t count and will be removed. We want the posts here to be very personal. \\r\\n\\r\\n11. **Make your relationship to the subject clear in your title.** Good: \"Can you please draw me/my boyfriend/my mom?\" Bad: \"Can you draw this?/Can you give this a shot/Go nuts, Reddit!\" If you don\\'t make it clear, your post may be removed. **We do not allow sad titles - titles pertaining to death, illness, injury, or emotional problems will be removed.** Sad stories are also not allowed within the comments.\\r\\n\\r\\n11. **Art given here is for personal use only.** Bands attempting to promote their music in any way, posts for politicians, tattoo designs, logos, or anything that is professional, business, or commercial-related are not allowed. This also includes wedding invites and other wedding-related paraphernalia.\\r\\n\\r\\n12. **Limit submissions to one post every 72 hours.** Make sure your most recent submission says \"3 days ago\" before posting again, or it will be removed. **Do not create alternate accounts to try to sneak past the frequent posting rule.** The mods are here all the time, and are familiar with every photo and username that comes into the sub. You\\'ll be caught and warned; if it continues, you\\'ll be banned.\\r\\n\\r\\n13. If you\\'re posting a photo of a **child, they must be clothed and not nude.**\\r\\n\\r\\n14. Photos can contain watermarks. However, photos may not contain the photographer\\'s website on the photo, because that is considered to be spam.\\r\\n\\r\\n15. We no longer allow gift posts. If your title suggests that you want some art from RGD in order to give it as a gift, your post will be removed. The artists are completely over the gift posts.\\r\\n\\r\\n###Rules for Artists\\r\\n\\r\\n1. **Artists may not ask for compensation** (though we certainly hope you\\'ll receive some offers via PM - we\\'ve found that many artists who post here do eventually earn some compensation).\\r\\n\\r\\n2. **You are allowed to post a link to your personal page or gallery if you wish, as you submit your piece.**\\r\\n\\r\\n3. **Feel free, in your submission, to mention whether or not you are open to feedback.**\\r\\n\\r\\n4. **Please don\\'t delete your art after you post it.**\\r\\n\\r\\n5. If you\\'re choosing to skip over a photo due to some quality of the photo (bad lighting, cropped forehead, etc), **feel free to let the OP know (but also please do it in a constructive rather than insulting way).**\\r\\n\\r\\n6. **Only serious attempts are welcome.** Submissions that are clearly cruel, trolly, or effortless will be removed.\\r\\n\\r\\n7. **Your art must contain a likeness (however faint or not faint) of OP.** If OP is an adult female and you draw a chair, for example, your post will be removed.\\r\\n\\r\\n8. **If you draw several submitters all on one page, please don\\'t submit that one page to several threads.** It\\'s confusing and less personal for OP. Any work posted within a thread should consist of work done for that thread only. Please don\\'t post artwork within a thread that is not relevant to that OP.\\r\\n\\r\\n9. It is highly recommended that you make note of OP\\'s username before beginning your artwork. Some submitters preemptively delete their posts before artists finish up. If you find that the OP did delete a post you were working on, the mods may be able to help you identify the username of the individual. \\r\\n\\r\\n10. **Submissions where the original photo is altered and/or filtered will be removed**. You must paint or draw something, and/or digitally paint or draw something. \\r\\n\\r\\n11. Do not draw submitters nude or non-nude unless **they post a relevant photo or they specifically ask for it.** Art that does remove clothing or overly sexualize the OP will be removed. [This](http://imgur.com/i6qOcf3) is a good example of what not to submit.\\r\\n\\r\\n\\r\\n##FAQ\\'s\\r\\n\\r\\n**Q: I\\'ve been banned, can I get un-banned?**\\r\\n\\r\\nA: It depends. Send a message to modmail and see what happens.\\r\\n\\r\\n**Q: Hey, why\\'d you remove my art? I worked soooooo hard on it!**\\r\\n\\r\\nAs stated above, troll art is removed. Without identifying the users, here are some examples of what we consider to be troll art:\\r\\n\\r\\n* http://i.imgur.com/4rfxTOE.jpg\\r\\n* http://i.imgur.com/eUS97bb.png\\r\\n* http://i.imgur.com/zYE8atz.jpg\\r\\n* http://i.imgur.com/gWCSw1i.png\\r\\n* http://i.imgur.com/sf5hE1M.png\\r\\n* http://i.imgur.com/8AMgzcA.jpg\\r\\n* http://i.imgur.com/NXdbyGHh.jpg\\r\\n* http://i.imgur.com/JxPfOJz.png\\r\\n* http://tinypic.com/view.php?pic=303hdtc&amp;s=6\\r\\n* http://artcontrol.me/wp-content/uploads/2014/06/june-up-line.png\\r\\n\\r\\n**Q: No one drew me. Why?**\\r\\n\\r\\nIt\\'s quite likely that you committed one of the \\'submission sins\\' that will cause artists to avoid your photo. Some of the most common complaints we hear from artists regarding photos are those that contain a cropped forehead (seriously, pretty young girls, Y U always crop your forehead?), grainy photos, poorly lit photos, small photos, memorial photos (adds a lot of pressure for the artist), photos containing multiple subjects, and/or boring photos (we get one million photos of couples in here every day. Many people don\\'t care about couple photos, unfortunately). Our advice is to post a large, hi-res photo with interesting lighting, background, foreground, and/or composition of ONE person doing something interesting, and/or someone who looks interesting (interesting face, interesting colors, etc).\\r\\n\\r\\n**Q: Why don\\'t you guys do what /r/photoshopbattles does with their comments?**\\r\\n\\r\\nWe don\\'t want to implement that style because we want all the comments here (and the focus) to be on the art. We would still have to go through and remove all of the insulting comments and all of the creeper comments, so it wouldn\\'t really lessen our work to switch. Feel free to PM OP if you have a burning question/comment.\\r\\n\\r\\n**Q: I just submitted my post and it isn\\'t showing up. Did I do something wrong/is it stuck in the spam filter/did you guys SHADOWBAN me?**\\r\\n\\r\\nAll submissions land in the spam filter until reviewed and approved. This is because so many submitters break our submission rules. Please do not send us a modmail inquiring about the status of your post. We\\'ll get to it as soon as possible.\\r\\n\\r\\n'"
       ]
      }
     ],
     "prompt_number": 90
    },
    {
     "cell_type": "code",
     "collapsed": false,
     "input": [
      "list(rd.get_moderators())"
     ],
     "language": "python",
     "metadata": {},
     "outputs": [
      {
       "metadata": {},
       "output_type": "pyout",
       "prompt_number": 57,
       "text": [
        "[Redditor(user_name='ItWillBeMine'),\n",
        " Redditor(user_name='meeps114'),\n",
        " Redditor(user_name='yowtfyo'),\n",
        " Redditor(user_name='RGD_Mod'),\n",
        " Redditor(user_name='fivepmsomewhere'),\n",
        " Redditor(user_name='AutoModerator'),\n",
        " Redditor(user_name='sgt_mary_mary'),\n",
        " Redditor(user_name='heyryaaan')]"
       ]
      }
     ],
     "prompt_number": 57
    },
    {
     "cell_type": "code",
     "collapsed": false,
     "input": [
      "rd.get_rising"
     ],
     "language": "python",
     "metadata": {},
     "outputs": [
      {
       "metadata": {},
       "output_type": "pyout",
       "prompt_number": 48,
       "text": [
        "<bound method Subreddit._sorted of Subreddit(display_name='redditgetsdrawn')>"
       ]
      }
     ],
     "prompt_number": 48
    },
    {
     "cell_type": "code",
     "collapsed": false,
     "input": [
      "rd.get_top_from_year"
     ],
     "language": "python",
     "metadata": {},
     "outputs": [
      {
       "metadata": {},
       "output_type": "pyout",
       "prompt_number": 49,
       "text": [
        "<bound method Subreddit._sorted of Subreddit(display_name='redditgetsdrawn')>"
       ]
      }
     ],
     "prompt_number": 49
    },
    {
     "cell_type": "code",
     "collapsed": false,
     "input": [
      "rd.get_stylesheet()"
     ],
     "language": "python",
     "metadata": {},
     "outputs": [
      {
       "metadata": {},
       "output_type": "pyout",
       "prompt_number": 50,
       "text": [
        "{u'images': [{u'link': u'url(%%Banner%%)',\n",
        "   u'name': u'Banner',\n",
        "   u'url': u'http://a.thumbs.redditmedia.com/NU4gPaPs7zgbDA3l.png'},\n",
        "  {u'link': u'url(%%RGDtext%%)',\n",
        "   u'name': u'RGDtext',\n",
        "   u'url': u'http://f.thumbs.redditmedia.com/F8zFK7R0vqyDRfw_.png'},\n",
        "  {u'link': u'url(%%Background%%)',\n",
        "   u'name': u'Background',\n",
        "   u'url': u'http://c.thumbs.redditmedia.com/wLrYssI2q9h7rVNP.png'}],\n",
        " u'stylesheet': u'/****************************************************************************\\n BEGIN: banner and header menus\\n ****************************************************************************/\\n#header {\\n overflow: visible !important;\\n background-image:url(%%Banner%%);\\n background-repeat: repeat-x;\\n height:130px;\\n margin-top:20px;\\n border-bottom:2px solid black;\\n}\\n\\n#header-img.default-header {\\n display:none !important;\\n}\\n\\n#sr-header-area{\\n position:absolute;\\n top:-20px;\\n border-bottom:2px solid black !important;    /* default: 1px solid gray */\\n width:100%;\\n height:20px;\\n}\\n\\n#header-bottom-right{\\n background-color:#FFFFFF;                    /* default: #EFF7FF */\\n padding:2px 5px 0px 5px !important;          /* default: 4px 4px 7px */\\n border-radius:0px !important;                /* default: 0 0 0 3px */\\n top:133px !important;                        /* default: 19px */\\n width:auto;\\n text-align:right;\\n z-index:9;\\n}\\n\\n#header-bottom-right #mail{\\n text-align:left;\\n}\\n\\n#header-bottom-right #modmail{\\n text-align:left;\\n}\\n\\n#userbarToggle{\\n min-height: 20px !important;                 /* default: 24px */\\n height:20px !important;                      /* default 100% */\\n line-height:17px !important;                 /* default: 24px */\\n}\\n\\n#header-bottom-left{\\n position:absolute;\\n top:132px;\\n}\\n\\n#header-bottom-left #header-img-a{\\n display:none !important;\\n}\\n\\n#header-bottom-left .pagename a{\\n background:url(%%RGDtext%%);\\n background-repeat:no-repeat;\\n float:left;\\n width:187px;\\n height:20px;\\n margin-top:2px;\\n text-indent:-9999px;\\n}\\n\\n.tabmenu{\\n float:left;\\n}\\n\\n.tabmenu a[href$=\"/controversial/\"] {\\n display:none;\\n}\\n\\n.side{\\n margin-top:22px;\\n border-top: 1px solid #5F99CF;\\n}\\n\\n\\n.titlebox .redditname a{\\n background:url(%%RGDtext%%);\\n background-repeat:no-repeat;\\n float:left;\\n width:187px !important;\\n height:20px !important;\\n text-indent:-9999px;\\n}\\n\\n.content{\\n padding-top:7px;\\n margin-top:22px;\\n border-top: 1px solid #5F99CF;\\n}\\n/****************************************************************************\\n END: banner and header menus\\n ****************************************************************************/\\n\\n/****************************************************************************\\n BEGIN: body watermark\\n ****************************************************************************/\\nbody {\\n background: url(%%Background%%) no-repeat fixed center center;\\n}\\n/****************************************************************************\\n END: body watermark\\n ****************************************************************************/\\n\\n/****************************************************************************\\n BEGIN: message before submission page\\n ****************************************************************************/\\n.formtabs-content{\\n border-top:0px;\\n}\\n\\n#newlink .infobar {\\n display:none !important;\\n}\\n\\n#title-field:before{\\n display: block;\\n background-color: yellow;\\n content: \" Do not contact the mods if you do not see your submission in the new queue. All posts land in the spam filter until reviewed and approved. If your submission is not approved, a mod will explain the reason(s) why. Be sure to review the rules before participating.  \";\\n font-weight:bold;\\n font-size:14px;\\n padding:2px;\\n margin-top: 5px;\\n margin-bottom: 5px;\\n border:1px solid yellow;\\n border-radius: 5px;\\n}\\n\\n#text-field:before{\\n display: block;\\n background-color: yellow;\\n content: \"Your text should NOT contain names.  Your photo should be hosted on IMGUR only.\";\\n font-weight:bold;\\n font-size:14px;\\n padding:2px;\\n margin-top: 5px;\\n margin-bottom: 5px;\\n border:1px solid yellow;\\n border-radius: 5px;\\n}\\n\\n#url-field:before{\\n display: block;\\n background-color: yellow;\\n content: \" In your title, please state your relations with the person in the photo. See below for further submission rules.\";\\n font-weight:bold;\\n font-size:14px;\\n padding:2px;\\n margin-top: 5px;\\n margin-bottom: 5px;\\n border:1px solid yellow;\\n border-radius: 5px;\\n}\\n\\n.info-notice:after{\\n display: block;\\n background-color: yellow;\\n content: \"Please wait at least three days between submissions.\";\\n font-weight:bold;\\n font-size:14px;\\n padding:2px;\\n margin-top: 5px;\\n border:1px solid yellow;\\n border-radius: 5px;\\n}\\ndiv.submit_text.roundfield.enabled h1:after{\\n    display: block;\\n    background-color: yellow;\\n    content: \"Read the rules below before submitting your image! \";\\n    font-weight:bold;\\n    font-size:14px;\\n}\\ndiv.submit_text.roundfield.enabled h1 {\\n    text-transform: uppercase;\\n    background-color: yellow;\\n}\\n\\n/****************************************************************************\\n END: message before submission page\\n ****************************************************************************/\\n\\n/****************************************************************************\\n BEGIN: Model Roulette button\\n ****************************************************************************/\\n.side .md a[href=\"http://www.reddit.com/r/redditgetsdrawn/random\"] {\\n display: block;\\n border: 3px solid #666;\\n border-radius: 3px;\\n padding: 3px 5px;\\n font-size: 15px;\\n text-align: center;\\n}\\n\\n.side .md a[href=\"http://www.reddit.com/r/redditgetsdrawn/random\"]:hover {\\n background: #e6e6e6;\\n}\\n/****************************************************************************\\n END: Model Roulette button\\n ****************************************************************************/\\n/**************************************************************************** \\nBEGIN: Custom online users text \\n*****************************************************************************/\\n.titlebox .word {\\n display: none\\n }\\n.titlebox .number:after {\\n content: \" Subscribers\";\\n }\\n.titlebox .users-online span.number:after {\\n content: \" Artists and art-lovers here now\";\\n }\\n\\n/**************************************************************************** \\nBEGIN: Custom online users text \\n*****************************************************************************/\\n\\n\\n/****************************************************************************\\n BEGIN: disable downvote arrows\\n ****************************************************************************/\\ndiv.link div.arrow.down { \\n visibility: hidden;\\n display: none;\\n}\\n\\ndiv.comment div.arrow.down { \\n visibility: hidden;\\n display: none;\\n}\\n/****************************************************************************\\n END: disable downvote arrows\\n ****************************************************************************/\\n\\n/****************************************************************************\\n BEGIN: rules note beneath comment entry\\n ****************************************************************************/\\n.commentarea {\\n position: static;\\n}\\n\\n.commentarea .usertext .usertext-edit:after {\\n content: \"Note: RedditGetsDrawn is strictly moderated.  Please read the rules on the wiki before participating.\";\\n display: block;\\n text-align: left;\\n margin-top: -5px;\\n padding: 4px;\\n background-color: #def;\\n border: 1px solid #59c;\\n font-size: 11px;\\n font-weight: bold;\\n}\\n/****************************************************************************\\n END: rules note beneath comment entry\\n ****************************************************************************/\\n\\n/****************************************************************************\\n BEGIN: wash out deleted messages (Void)\\n ****************************************************************************\\nform.grayed, form.grayed ~ ul.flat-list.buttons {\\n display: none;\\n}\\np.tagline &gt; a.expand:first-child + em:after, div.collapsed &gt; a.expand:first-child + em:after {\\n visibility: visible;\\n font-size: x-small;\\n font-weight: bold;\\n content: \"[deleted]\";\\n}\\np.tagline &gt; a.expand:first-child + em, div.collapsed &gt; a.expand:first-child + em {\\n visibility: hidden;\\n font-size: 0;\\n}\\ndiv.collapsed &gt; a.expand:first-child + em + time + a.expand, div.collapsed &gt; a.expand:first-child + em + a.expand {\\n display: none;\\n}\\n****************************************************************************\\n END: wash out deleted messages\\n ****************************************************************************/\\n\\n/****************************************************************************\\n BEGIN: hide RES keyboard shortcut annotations\\n ****************************************************************************/\\n.keyNavAnnotation{\\n display:none;\\n}\\n/****************************************************************************\\n END: hide RES keyboard shortcut annotations\\n ****************************************************************************/\\n\\n/****************************************************************************\\n BEGIN: Make deleted comments less noticeable (Stolen from science)\\n*****************************************************************************/\\n  .deleted .grayed \\n{\\ndisplay: none;\\n}\\n/****************************************************************************\\n END: Make deleted comments less noticeable (Stolen from science)\\n*****************************************************************************/',\n",
        " u'subreddit_id': u't5_2tjl7'}"
       ]
      }
     ],
     "prompt_number": 50
    },
    {
     "cell_type": "code",
     "collapsed": false,
     "input": [
      "comlis = list(rd.get_comments('all'))[0]\n"
     ],
     "language": "python",
     "metadata": {},
     "outputs": [],
     "prompt_number": 101
    },
    {
     "cell_type": "code",
     "collapsed": false,
     "input": [
      "comlis"
     ],
     "language": "python",
     "metadata": {},
     "outputs": [
      {
       "metadata": {},
       "output_type": "pyout",
       "prompt_number": 102,
       "text": [
        "<praw.objects.Comment at 0x1f28bd0>"
       ]
      }
     ],
     "prompt_number": 102
    },
    {
     "cell_type": "code",
     "collapsed": false,
     "input": [
      "lisbox = comlis.body"
     ],
     "language": "python",
     "metadata": {},
     "outputs": [],
     "prompt_number": 104
    },
    {
     "cell_type": "code",
     "collapsed": false,
     "input": [
      "import bs4"
     ],
     "language": "python",
     "metadata": {},
     "outputs": [],
     "prompt_number": 108
    },
    {
     "cell_type": "code",
     "collapsed": false,
     "input": [
      "soup = bs4.BeautifulSoup(lisbox)"
     ],
     "language": "python",
     "metadata": {},
     "outputs": [],
     "prompt_number": 113
    },
    {
     "cell_type": "code",
     "collapsed": false,
     "input": [
      "soup.contents"
     ],
     "language": "python",
     "metadata": {},
     "outputs": [
      {
       "metadata": {},
       "output_type": "pyout",
       "prompt_number": 115,
       "text": [
        "[u'Got one for ya!\\nhttp://i.imgur.com/IT4EtjR.jpg']"
       ]
      }
     ],
     "prompt_number": 115
    },
    {
     "cell_type": "code",
     "collapsed": false,
     "input": [
      "soup.index"
     ],
     "language": "python",
     "metadata": {},
     "outputs": [
      {
       "metadata": {},
       "output_type": "pyout",
       "prompt_number": 116,
       "text": [
        "<bound method BeautifulSoup.index of Got one for ya!\n",
        "http://i.imgur.com/IT4EtjR.jpg>"
       ]
      }
     ],
     "prompt_number": 116
    },
    {
     "cell_type": "code",
     "collapsed": false,
     "input": [
      "print soup.name\n",
      "print soup.contents"
     ],
     "language": "python",
     "metadata": {},
     "outputs": [
      {
       "output_type": "stream",
       "stream": "stdout",
       "text": [
        "[document]\n",
        "[u'Got one for ya!\\nhttp://i.imgur.com/IT4EtjR.jpg']\n"
       ]
      }
     ],
     "prompt_number": 124
    },
    {
     "cell_type": "code",
     "collapsed": false,
     "input": [
      "soup."
     ],
     "language": "python",
     "metadata": {},
     "outputs": [
      {
       "ename": "SyntaxError",
       "evalue": "invalid syntax (<ipython-input-118-902d23f286f0>, line 1)",
       "output_type": "pyerr",
       "traceback": [
        "\u001b[1;36m  File \u001b[1;32m\"<ipython-input-118-902d23f286f0>\"\u001b[1;36m, line \u001b[1;32m1\u001b[0m\n\u001b[1;33m    soup.\u001b[0m\n\u001b[1;37m         ^\u001b[0m\n\u001b[1;31mSyntaxError\u001b[0m\u001b[1;31m:\u001b[0m invalid syntax\n"
       ]
      }
     ],
     "prompt_number": 118
    },
    {
     "cell_type": "code",
     "collapsed": false,
     "input": [
      "import re\n",
      "\n",
      "myString = str(soup.index)\n",
      "\n",
      "rdgimg = re.search(\"(?P<url>https?://[^\\s]+)\", myString).group(\"url\")"
     ],
     "language": "python",
     "metadata": {},
     "outputs": [],
     "prompt_number": 133
    },
    {
     "cell_type": "code",
     "collapsed": false,
     "input": [
      "from IPython.display import Image"
     ],
     "language": "python",
     "metadata": {},
     "outputs": [],
     "prompt_number": 139
    },
    {
     "cell_type": "code",
     "collapsed": false,
     "input": [
      "i = Image(filename=rdgimg)"
     ],
     "language": "python",
     "metadata": {},
     "outputs": [
      {
       "ename": "ValueError",
       "evalue": "Cannot embed the 'jpg>' image format",
       "output_type": "pyerr",
       "traceback": [
        "\u001b[1;31m---------------------------------------------------------------------------\u001b[0m\n\u001b[1;31mValueError\u001b[0m                                Traceback (most recent call last)",
        "\u001b[1;32m<ipython-input-140-e541e1b0a9c0>\u001b[0m in \u001b[0;36m<module>\u001b[1;34m()\u001b[0m\n\u001b[1;32m----> 1\u001b[1;33m \u001b[0mi\u001b[0m \u001b[1;33m=\u001b[0m \u001b[0mImage\u001b[0m\u001b[1;33m(\u001b[0m\u001b[0mfilename\u001b[0m\u001b[1;33m=\u001b[0m\u001b[0mrdgimg\u001b[0m\u001b[1;33m)\u001b[0m\u001b[1;33m\u001b[0m\u001b[0m\n\u001b[0m",
        "\u001b[1;32m/usr/local/lib/python2.7/dist-packages/IPython/core/display.pyc\u001b[0m in \u001b[0;36m__init__\u001b[1;34m(self, data, url, filename, format, embed, width, height, retina)\u001b[0m\n\u001b[0;32m    640\u001b[0m \u001b[1;33m\u001b[0m\u001b[0m\n\u001b[0;32m    641\u001b[0m         \u001b[1;32mif\u001b[0m \u001b[0mself\u001b[0m\u001b[1;33m.\u001b[0m\u001b[0membed\u001b[0m \u001b[1;32mand\u001b[0m \u001b[0mself\u001b[0m\u001b[1;33m.\u001b[0m\u001b[0mformat\u001b[0m \u001b[1;32mnot\u001b[0m \u001b[1;32min\u001b[0m \u001b[0mself\u001b[0m\u001b[1;33m.\u001b[0m\u001b[0m_ACCEPTABLE_EMBEDDINGS\u001b[0m\u001b[1;33m:\u001b[0m\u001b[1;33m\u001b[0m\u001b[0m\n\u001b[1;32m--> 642\u001b[1;33m             \u001b[1;32mraise\u001b[0m \u001b[0mValueError\u001b[0m\u001b[1;33m(\u001b[0m\u001b[1;34m\"Cannot embed the '%s' image format\"\u001b[0m \u001b[1;33m%\u001b[0m \u001b[1;33m(\u001b[0m\u001b[0mself\u001b[0m\u001b[1;33m.\u001b[0m\u001b[0mformat\u001b[0m\u001b[1;33m)\u001b[0m\u001b[1;33m)\u001b[0m\u001b[1;33m\u001b[0m\u001b[0m\n\u001b[0m\u001b[0;32m    643\u001b[0m         \u001b[0mself\u001b[0m\u001b[1;33m.\u001b[0m\u001b[0mwidth\u001b[0m \u001b[1;33m=\u001b[0m \u001b[0mwidth\u001b[0m\u001b[1;33m\u001b[0m\u001b[0m\n\u001b[0;32m    644\u001b[0m         \u001b[0mself\u001b[0m\u001b[1;33m.\u001b[0m\u001b[0mheight\u001b[0m \u001b[1;33m=\u001b[0m \u001b[0mheight\u001b[0m\u001b[1;33m\u001b[0m\u001b[0m\n",
        "\u001b[1;31mValueError\u001b[0m: Cannot embed the 'jpg>' image format"
       ]
      }
     ],
     "prompt_number": 140
    },
    {
     "cell_type": "code",
     "collapsed": false,
     "input": [],
     "language": "python",
     "metadata": {},
     "outputs": []
    }
   ],
   "metadata": {}
  }
 ]
}