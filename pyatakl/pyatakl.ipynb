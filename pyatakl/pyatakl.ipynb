{
 "metadata": {
  "name": "",
  "signature": "sha256:ce2a638aa6be00a54c9bc6cbc613e3857db8aa609be6500a9c7a2541facf8b81"
 },
 "nbformat": 3,
 "nbformat_minor": 0,
 "worksheets": [
  {
   "cells": [
    {
     "cell_type": "code",
     "collapsed": true,
     "input": [
      "import requests\n",
      "import json\n",
      "import random"
     ],
     "language": "python",
     "metadata": {},
     "outputs": [],
     "prompt_number": 326
    },
    {
     "cell_type": "markdown",
     "metadata": {},
     "source": [
      "<h1>Python Auckland Transport</h1> \n",
      "\n",
      "This was created during the Hack Auckland: Auckland Transport event in Auckland.\n",
      "The first day was spent visiting the vendors and having a play with bitcoin.\n",
      "2nd day was more productive with this python code being typed.\n",
      "My plan was to use data from the Auckland Motorcams to detect crashes or events happening on the road. I really should of said this when I got up and talked in front of people about my plan for the event - instead I mentioned the camera feed and how I would like to improve it with more relatient information - including gps of the cameras. "
     ]
    },
    {
     "cell_type": "code",
     "collapsed": true,
     "input": [
      "atdat = requests.get('https://api.at.govt.nz/v1/public/display/parkinglocations?api_key=433feddb-d4b9-473b-a0c2-ac982a6d78cd')\n"
     ],
     "language": "python",
     "metadata": {},
     "outputs": [],
     "prompt_number": 327
    },
    {
     "cell_type": "code",
     "collapsed": true,
     "input": [
      "atext = atdat.text"
     ],
     "language": "python",
     "metadata": {},
     "outputs": [],
     "prompt_number": 328
    },
    {
     "cell_type": "code",
     "collapsed": true,
     "input": [
      "atdict = json.loads(atext)"
     ],
     "language": "python",
     "metadata": {},
     "outputs": [],
     "prompt_number": 329
    },
    {
     "cell_type": "code",
     "collapsed": true,
     "input": [
      "atres = atdict['response']"
     ],
     "language": "python",
     "metadata": {},
     "outputs": [],
     "prompt_number": 330
    },
    {
     "cell_type": "code",
     "collapsed": true,
     "input": [
      "atlen = len(atres)"
     ],
     "language": "python",
     "metadata": {},
     "outputs": [],
     "prompt_number": 331
    },
    {
     "cell_type": "code",
     "collapsed": false,
     "input": [
      "ranpark = random.randint(0, atlen)"
     ],
     "language": "python",
     "metadata": {},
     "outputs": [],
     "prompt_number": 332
    },
    {
     "cell_type": "code",
     "collapsed": true,
     "input": [
      "mything = parks()"
     ],
     "language": "python",
     "metadata": {},
     "outputs": [],
     "prompt_number": 333
    },
    {
     "cell_type": "code",
     "collapsed": true,
     "input": [
      "for a in mything.getparks():\n",
      "    print a.keys()"
     ],
     "language": "python",
     "metadata": {},
     "outputs": [
      {
       "output_type": "stream",
       "stream": "stdout",
       "text": [
        "[u'mobilitySpaces', u'name', u'longitude', u'address', u'latitude', u'type', u'id']\n",
        "[u'mobilitySpaces', u'name', u'longitude', u'address', u'latitude', u'type', u'id']\n",
        "[u'mobilitySpaces', u'name', u'longitude', u'address', u'latitude', u'type', u'id']\n",
        "[u'mobilitySpaces', u'name', u'longitude', u'address', u'latitude', u'type', u'id']\n",
        "[u'mobilitySpaces', u'name', u'longitude', u'address', u'latitude', u'type', u'id']\n",
        "[u'mobilitySpaces', u'name', u'longitude', u'address', u'latitude', u'type', u'id']\n",
        "[u'mobilitySpaces', u'name', u'longitude', u'address', u'latitude', u'type', u'id']\n",
        "[u'mobilitySpaces', u'name', u'longitude', u'address', u'latitude', u'type', u'id']\n",
        "[u'mobilitySpaces', u'name', u'longitude', u'address', u'latitude', u'type', u'id']\n",
        "[u'mobilitySpaces', u'name', u'longitude', u'address', u'latitude', u'type', u'id']\n",
        "[u'mobilitySpaces', u'name', u'longitude', u'address', u'latitude', u'type', u'id']\n",
        "[u'mobilitySpaces', u'name', u'longitude', u'address', u'latitude', u'type', u'id']\n",
        "[u'mobilitySpaces', u'name', u'longitude', u'address', u'latitude', u'type', u'id']\n",
        "[u'mobilitySpaces', u'name', u'longitude', u'address', u'latitude', u'type', u'id']\n",
        "[u'mobilitySpaces', u'name', u'longitude', u'address', u'latitude', u'type', u'id']\n",
        "[u'mobilitySpaces', u'name', u'longitude', u'address', u'latitude', u'type', u'id']\n",
        "[u'mobilitySpaces', u'name', u'longitude', u'address', u'latitude', u'type', u'id']\n",
        "[u'mobilitySpaces', u'name', u'longitude', u'address', u'latitude', u'type', u'id']\n",
        "[u'mobilitySpaces', u'name', u'longitude', u'address', u'latitude', u'type', u'id']\n",
        "[u'mobilitySpaces', u'name', u'longitude', u'address', u'latitude', u'type', u'id']\n",
        "[u'mobilitySpaces', u'name', u'longitude', u'address', u'latitude', u'type', u'id']\n",
        "[u'mobilitySpaces', u'name', u'longitude', u'address', u'latitude', u'type', u'id']\n",
        "[u'mobilitySpaces', u'name', u'longitude', u'address', u'latitude', u'type', u'id']\n",
        "[u'mobilitySpaces', u'name', u'longitude', u'address', u'latitude', u'type', u'id']\n",
        "[u'mobilitySpaces', u'name', u'longitude', u'address', u'latitude', u'type', u'id']\n",
        "[u'mobilitySpaces', u'name', u'longitude', u'address', u'latitude', u'type', u'id']\n",
        "[u'mobilitySpaces', u'name', u'longitude', u'address', u'latitude', u'type', u'id']\n",
        "[u'mobilitySpaces', u'name', u'longitude', u'address', u'latitude', u'type', u'id']\n",
        "[u'mobilitySpaces', u'name', u'longitude', u'address', u'latitude', u'type', u'id']\n",
        "[u'mobilitySpaces', u'name', u'longitude', u'address', u'latitude', u'type', u'id']\n",
        "[u'mobilitySpaces', u'name', u'longitude', u'address', u'latitude', u'type', u'id']\n",
        "[u'mobilitySpaces', u'name', u'longitude', u'address', u'latitude', u'type', u'id']\n",
        "[u'mobilitySpaces', u'name', u'longitude', u'address', u'latitude', u'type', u'id']\n",
        "[u'mobilitySpaces', u'name', u'longitude', u'address', u'latitude', u'type', u'id']\n",
        "[u'mobilitySpaces', u'name', u'longitude', u'address', u'latitude', u'type', u'id']\n",
        "[u'mobilitySpaces', u'name', u'longitude', u'address', u'latitude', u'type', u'id']\n",
        "[u'mobilitySpaces', u'name', u'longitude', u'address', u'latitude', u'type', u'id']\n",
        "[u'mobilitySpaces', u'name', u'longitude', u'address', u'latitude', u'type', u'id']\n",
        "[u'mobilitySpaces', u'name', u'longitude', u'address', u'latitude', u'type', u'id']\n",
        "[u'mobilitySpaces', u'name', u'longitude', u'address', u'latitude', u'type', u'id']\n",
        "[u'mobilitySpaces', u'name', u'longitude', u'address', u'latitude', u'type', u'id']\n",
        "[u'mobilitySpaces', u'name', u'longitude', u'address', u'latitude', u'type', u'id']\n",
        "[u'mobilitySpaces', u'name', u'longitude', u'address', u'latitude', u'type', u'id']\n",
        "[u'mobilitySpaces', u'name', u'longitude', u'address', u'latitude', u'type', u'id']\n",
        "[u'mobilitySpaces', u'name', u'longitude', u'address', u'latitude', u'type', u'id']\n",
        "[u'mobilitySpaces', u'name', u'longitude', u'address', u'latitude', u'type', u'id']\n",
        "[u'mobilitySpaces', u'name', u'longitude', u'address', u'latitude', u'type', u'id']\n",
        "[u'mobilitySpaces', u'name', u'longitude', u'address', u'latitude', u'type', u'id']\n",
        "[u'mobilitySpaces', u'name', u'longitude', u'address', u'latitude', u'type', u'id']\n",
        "[u'mobilitySpaces', u'name', u'longitude', u'address', u'latitude', u'type', u'id']\n",
        "[u'mobilitySpaces', u'name', u'longitude', u'address', u'latitude', u'type', u'id']\n",
        "[u'mobilitySpaces', u'name', u'longitude', u'address', u'latitude', u'type', u'id']\n",
        "[u'mobilitySpaces', u'name', u'longitude', u'address', u'latitude', u'type', u'id']\n",
        "[u'mobilitySpaces', u'name', u'longitude', u'address', u'latitude', u'type', u'id']\n",
        "[u'mobilitySpaces', u'name', u'longitude', u'address', u'latitude', u'type', u'id']\n",
        "[u'mobilitySpaces', u'name', u'longitude', u'address', u'latitude', u'type', u'id']\n",
        "[u'mobilitySpaces', u'name', u'longitude', u'address', u'latitude', u'type', u'id']\n",
        "[u'mobilitySpaces', u'name', u'longitude', u'address', u'latitude', u'type', u'id']\n",
        "[u'mobilitySpaces', u'name', u'longitude', u'address', u'latitude', u'type', u'id']\n",
        "[u'mobilitySpaces', u'name', u'longitude', u'address', u'latitude', u'type', u'id']\n",
        "[u'mobilitySpaces', u'name', u'longitude', u'address', u'latitude', u'type', u'id']\n",
        "[u'mobilitySpaces', u'name', u'longitude', u'address', u'latitude', u'type', u'id']\n",
        "[u'mobilitySpaces', u'name', u'longitude', u'address', u'latitude', u'type', u'id']\n",
        "[u'mobilitySpaces', u'name', u'longitude', u'address', u'latitude', u'type', u'id']\n",
        "[u'mobilitySpaces', u'name', u'longitude', u'address', u'latitude', u'type', u'id']\n",
        "[u'mobilitySpaces', u'name', u'longitude', u'address', u'latitude', u'type', u'id']\n",
        "[u'mobilitySpaces', u'name', u'longitude', u'address', u'latitude', u'type', u'id']\n",
        "[u'mobilitySpaces', u'name', u'longitude', u'address', u'latitude', u'type', u'id']\n",
        "[u'mobilitySpaces', u'name', u'longitude', u'address', u'latitude', u'type', u'id']\n",
        "[u'mobilitySpaces', u'name', u'longitude', u'address', u'latitude', u'type', u'id']\n",
        "[u'mobilitySpaces', u'name', u'longitude', u'address', u'latitude', u'type', u'id']\n",
        "[u'mobilitySpaces', u'name', u'longitude', u'address', u'latitude', u'type', u'id']\n",
        "[u'mobilitySpaces', u'name', u'longitude', u'address', u'latitude', u'type', u'id']\n",
        "[u'mobilitySpaces', u'name', u'longitude', u'address', u'latitude', u'type', u'id']\n",
        "[u'mobilitySpaces', u'name', u'longitude', u'address', u'latitude', u'type', u'id']\n",
        "[u'mobilitySpaces', u'name', u'longitude', u'address', u'latitude', u'type', u'id']\n",
        "[u'mobilitySpaces', u'name', u'longitude', u'address', u'latitude', u'type', u'id']\n",
        "[u'mobilitySpaces', u'name', u'longitude', u'address', u'latitude', u'type', u'id']\n",
        "[u'mobilitySpaces', u'name', u'longitude', u'address', u'latitude', u'type', u'id']\n",
        "[u'mobilitySpaces', u'name', u'longitude', u'address', u'latitude', u'type', u'id']\n",
        "[u'mobilitySpaces', u'name', u'longitude', u'address', u'latitude', u'type', u'id']\n",
        "[u'mobilitySpaces', u'name', u'longitude', u'address', u'latitude', u'type', u'id']\n",
        "[u'mobilitySpaces', u'name', u'longitude', u'address', u'latitude', u'type', u'id']\n",
        "[u'mobilitySpaces', u'name', u'longitude', u'address', u'latitude', u'type', u'id']\n",
        "[u'mobilitySpaces', u'name', u'longitude', u'address', u'latitude', u'type', u'id']\n",
        "[u'mobilitySpaces', u'name', u'longitude', u'address', u'latitude', u'type', u'id']\n",
        "[u'mobilitySpaces', u'name', u'longitude', u'address', u'latitude', u'type', u'id']\n",
        "[u'mobilitySpaces', u'name', u'longitude', u'address', u'latitude', u'type', u'id']\n",
        "[u'mobilitySpaces', u'name', u'longitude', u'address', u'latitude', u'type', u'id']\n",
        "[u'mobilitySpaces', u'name', u'longitude', u'address', u'latitude', u'type', u'id']\n",
        "[u'mobilitySpaces', u'name', u'longitude', u'address', u'latitude', u'type', u'id']\n",
        "[u'mobilitySpaces', u'name', u'longitude', u'address', u'latitude', u'type', u'id']\n",
        "[u'mobilitySpaces', u'name', u'longitude', u'address', u'latitude', u'type', u'id']\n",
        "[u'mobilitySpaces', u'name', u'longitude', u'address', u'latitude', u'type', u'id']\n",
        "[u'mobilitySpaces', u'name', u'longitude', u'address', u'latitude', u'type', u'id']\n",
        "[u'mobilitySpaces', u'name', u'longitude', u'address', u'latitude', u'type', u'id']\n",
        "[u'mobilitySpaces', u'name', u'longitude', u'address', u'latitude', u'type', u'id']\n",
        "[u'mobilitySpaces', u'name', u'longitude', u'address', u'latitude', u'type', u'id']\n",
        "[u'mobilitySpaces', u'name', u'longitude', u'address', u'latitude', u'type', u'id']\n",
        "[u'mobilitySpaces', u'name', u'longitude', u'address', u'latitude', u'type', u'id']\n",
        "[u'mobilitySpaces', u'name', u'longitude', u'address', u'latitude', u'type', u'id']\n",
        "[u'mobilitySpaces', u'name', u'longitude', u'address', u'latitude', u'type', u'id']\n",
        "[u'mobilitySpaces', u'name', u'longitude', u'address', u'latitude', u'type', u'id']\n",
        "[u'mobilitySpaces', u'name', u'longitude', u'address', u'latitude', u'type', u'id']\n",
        "[u'mobilitySpaces', u'name', u'longitude', u'address', u'latitude', u'type', u'id']\n",
        "[u'mobilitySpaces', u'name', u'longitude', u'address', u'latitude', u'type', u'id']\n",
        "[u'mobilitySpaces', u'name', u'longitude', u'address', u'latitude', u'type', u'id']\n",
        "[u'mobilitySpaces', u'name', u'longitude', u'address', u'latitude', u'type', u'id']\n",
        "[u'mobilitySpaces', u'name', u'longitude', u'address', u'latitude', u'type', u'id']\n",
        "[u'mobilitySpaces', u'name', u'longitude', u'address', u'latitude', u'type', u'id']\n",
        "[u'mobilitySpaces', u'name', u'longitude', u'address', u'latitude', u'type', u'id']\n",
        "[u'mobilitySpaces', u'name', u'longitude', u'address', u'latitude', u'type', u'id']\n",
        "[u'mobilitySpaces', u'name', u'longitude', u'address', u'latitude', u'type', u'id']\n",
        "[u'mobilitySpaces', u'name', u'longitude', u'address', u'latitude', u'type', u'id']\n",
        "[u'mobilitySpaces', u'name', u'longitude', u'address', u'latitude', u'type', u'id']\n",
        "[u'mobilitySpaces', u'name', u'longitude', u'address', u'latitude', u'type', u'id']\n",
        "[u'mobilitySpaces', u'name', u'longitude', u'address', u'latitude', u'type', u'id']\n",
        "[u'mobilitySpaces', u'name', u'longitude', u'address', u'latitude', u'type', u'id']\n",
        "[u'mobilitySpaces', u'name', u'longitude', u'address', u'latitude', u'type', u'id']\n",
        "[u'mobilitySpaces', u'name', u'longitude', u'address', u'latitude', u'type', u'id']\n",
        "[u'mobilitySpaces', u'name', u'longitude', u'address', u'latitude', u'type', u'id']\n",
        "[u'mobilitySpaces', u'name', u'longitude', u'address', u'latitude', u'type', u'id']\n",
        "[u'mobilitySpaces', u'name', u'longitude', u'address', u'latitude', u'type', u'id']\n",
        "[u'mobilitySpaces', u'name', u'longitude', u'address', u'latitude', u'type', u'id']\n",
        "[u'mobilitySpaces', u'name', u'longitude', u'address', u'latitude', u'type', u'id']\n",
        "[u'mobilitySpaces', u'name', u'longitude', u'address', u'latitude', u'type', u'id']\n",
        "[u'mobilitySpaces', u'name', u'longitude', u'address', u'latitude', u'type', u'id']\n",
        "[u'mobilitySpaces', u'name', u'longitude', u'address', u'latitude', u'type', u'id']\n",
        "[u'mobilitySpaces', u'name', u'longitude', u'address', u'latitude', u'type', u'id']\n",
        "[u'mobilitySpaces', u'name', u'longitude', u'address', u'latitude', u'type', u'id']\n",
        "[u'mobilitySpaces', u'name', u'longitude', u'address', u'latitude', u'type', u'id']\n",
        "[u'mobilitySpaces', u'name', u'longitude', u'address', u'latitude', u'type', u'id']\n",
        "[u'mobilitySpaces', u'name', u'longitude', u'address', u'latitude', u'type', u'id']\n",
        "[u'mobilitySpaces', u'name', u'longitude', u'address', u'latitude', u'type', u'id']\n"
       ]
      }
     ],
     "prompt_number": 334
    },
    {
     "cell_type": "code",
     "collapsed": true,
     "input": [
      "blen = atres[0:atlen]"
     ],
     "language": "python",
     "metadata": {},
     "outputs": [],
     "prompt_number": 335
    },
    {
     "cell_type": "code",
     "collapsed": false,
     "input": [
      "ranitem = test.ranpark()"
     ],
     "language": "python",
     "metadata": {},
     "outputs": [
      {
       "ename": "NameError",
       "evalue": "name 'test' is not defined",
       "output_type": "pyerr",
       "traceback": [
        "\u001b[1;31m---------------------------------------------------------------------------\u001b[0m\n\u001b[1;31mNameError\u001b[0m                                 Traceback (most recent call last)",
        "\u001b[1;32m<ipython-input-336-6f3741d7b4ae>\u001b[0m in \u001b[0;36m<module>\u001b[1;34m()\u001b[0m\n\u001b[1;32m----> 1\u001b[1;33m \u001b[0mranitem\u001b[0m \u001b[1;33m=\u001b[0m \u001b[0mtest\u001b[0m\u001b[1;33m.\u001b[0m\u001b[0mranpark\u001b[0m\u001b[1;33m(\u001b[0m\u001b[1;33m)\u001b[0m\u001b[1;33m\u001b[0m\u001b[0m\n\u001b[0m",
        "\u001b[1;31mNameError\u001b[0m: name 'test' is not defined"
       ]
      }
     ],
     "prompt_number": 336
    },
    {
     "cell_type": "code",
     "collapsed": false,
     "input": [
      "thekeys = ranitem.keys()"
     ],
     "language": "python",
     "metadata": {},
     "outputs": []
    },
    {
     "cell_type": "code",
     "collapsed": false,
     "input": [
      "thekeys"
     ],
     "language": "python",
     "metadata": {},
     "outputs": []
    },
    {
     "cell_type": "code",
     "collapsed": false,
     "input": [
      "listz = []"
     ],
     "language": "python",
     "metadata": {},
     "outputs": []
    },
    {
     "cell_type": "code",
     "collapsed": false,
     "input": [
      "for kez in thekeys:\n",
      "    #print key\n",
      "    print atres[0][kez]\n",
      "    listz.append(atres[0][kez])\n",
      "    "
     ],
     "language": "python",
     "metadata": {},
     "outputs": []
    },
    {
     "cell_type": "code",
     "collapsed": true,
     "input": [
      "#dait = atdict.items()"
     ],
     "language": "python",
     "metadata": {},
     "outputs": []
    },
    {
     "cell_type": "code",
     "collapsed": false,
     "input": [
      "print listz[3]"
     ],
     "language": "python",
     "metadata": {},
     "outputs": []
    },
    {
     "cell_type": "code",
     "collapsed": false,
     "input": [
      "import geopy"
     ],
     "language": "python",
     "metadata": {},
     "outputs": []
    },
    {
     "cell_type": "code",
     "collapsed": false,
     "input": [
      "geo = geopy.GoogleV3()"
     ],
     "language": "python",
     "metadata": {},
     "outputs": []
    },
    {
     "cell_type": "code",
     "collapsed": false,
     "input": [
      "geo.geocode(listz[3])"
     ],
     "language": "python",
     "metadata": {},
     "outputs": []
    },
    {
     "cell_type": "code",
     "collapsed": false,
     "input": [
      "olenz = len(listz)"
     ],
     "language": "python",
     "metadata": {},
     "outputs": []
    },
    {
     "cell_type": "code",
     "collapsed": false,
     "input": [
      "dachoice = random.randint(0, olenz)"
     ],
     "language": "python",
     "metadata": {},
     "outputs": []
    },
    {
     "cell_type": "code",
     "collapsed": false,
     "input": [
      "dachoice"
     ],
     "language": "python",
     "metadata": {},
     "outputs": []
    },
    {
     "cell_type": "code",
     "collapsed": true,
     "input": [
      "class parks(object):\n",
      "    def getparks(self):\n",
      "        return atres\n",
      "    \n",
      "    def items(self):\n",
      "        return atres[0]\n",
      "    \n",
      "    def ranpark(self):\n",
      "        return atres[ranpark]\n",
      "    \n",
      "    def genpark(self):\n",
      "        return (geo.geocode(listz[3]))\n",
      "    \n",
      "    def parkloc(self):\n",
      "        return(atres[ranpark]['address'])\n",
      "    \n",
      "    def parkid(self):\n",
      "        return(atres[renpark]['id'])\n",
      "    \n",
      "    def parkcheck():\n",
      "        return(atres[renpark]['type'])\n",
      "    \n",
      "    def parknon(self, inpuz ):\n",
      "        return(atres[renpark][inpuz])"
     ],
     "language": "python",
     "metadata": {},
     "outputs": []
    },
    {
     "cell_type": "code",
     "collapsed": false,
     "input": [],
     "language": "python",
     "metadata": {},
     "outputs": []
    },
    {
     "cell_type": "code",
     "collapsed": false,
     "input": [
      "park = parks()"
     ],
     "language": "python",
     "metadata": {},
     "outputs": []
    },
    {
     "cell_type": "code",
     "collapsed": false,
     "input": [
      "park.genpark()"
     ],
     "language": "python",
     "metadata": {},
     "outputs": []
    },
    {
     "cell_type": "code",
     "collapsed": false,
     "input": [
      "park.parkloc()\n",
      "\n",
      "park.parknon('check')"
     ],
     "language": "python",
     "metadata": {},
     "outputs": []
    },
    {
     "cell_type": "code",
     "collapsed": false,
     "input": [
      "park.parkid()"
     ],
     "language": "python",
     "metadata": {},
     "outputs": []
    },
    {
     "cell_type": "code",
     "collapsed": false,
     "input": [
      "test.geopark()"
     ],
     "language": "python",
     "metadata": {},
     "outputs": []
    },
    {
     "cell_type": "code",
     "collapsed": false,
     "input": [
      "geo.geocode(listz[3])"
     ],
     "language": "python",
     "metadata": {},
     "outputs": []
    },
    {
     "cell_type": "code",
     "collapsed": false,
     "input": [
      "listz.sort()"
     ],
     "language": "python",
     "metadata": {},
     "outputs": []
    },
    {
     "cell_type": "code",
     "collapsed": false,
     "input": [
      "listz"
     ],
     "language": "python",
     "metadata": {},
     "outputs": []
    },
    {
     "cell_type": "code",
     "collapsed": true,
     "input": [
      "#atdict.viewkeys()"
     ],
     "language": "python",
     "metadata": {},
     "outputs": []
    },
    {
     "cell_type": "code",
     "collapsed": true,
     "input": [
      "#atrespon = atdict['response']"
     ],
     "language": "python",
     "metadata": {},
     "outputs": [],
     "prompt_number": 337
    },
    {
     "cell_type": "code",
     "collapsed": true,
     "input": [],
     "language": "python",
     "metadata": {},
     "outputs": [],
     "prompt_number": 337
    },
    {
     "cell_type": "code",
     "collapsed": true,
     "input": [
      "#savdict = open('/home/wcmckee/pyatakl/tests/presets/carparks.json', 'w')\n",
      "#savdict.write(str(atdict))"
     ],
     "language": "python",
     "metadata": {},
     "outputs": [],
     "prompt_number": 338
    },
    {
     "cell_type": "code",
     "collapsed": true,
     "input": [
      "#dait"
     ],
     "language": "python",
     "metadata": {},
     "outputs": [],
     "prompt_number": 339
    },
    {
     "cell_type": "code",
     "collapsed": true,
     "input": [],
     "language": "python",
     "metadata": {},
     "outputs": [],
     "prompt_number": 339
    },
    {
     "cell_type": "code",
     "collapsed": true,
     "input": [
      "#atdict.values()"
     ],
     "language": "python",
     "metadata": {},
     "outputs": [],
     "prompt_number": 340
    },
    {
     "cell_type": "code",
     "collapsed": true,
     "input": [
      "#for d in blen:\n",
      "#    print d['address']"
     ],
     "language": "python",
     "metadata": {},
     "outputs": [],
     "prompt_number": 341
    },
    {
     "cell_type": "code",
     "collapsed": true,
     "input": [
      "#print atext"
     ],
     "language": "python",
     "metadata": {},
     "outputs": [],
     "prompt_number": 342
    },
    {
     "cell_type": "code",
     "collapsed": true,
     "input": [],
     "language": "python",
     "metadata": {},
     "outputs": [],
     "prompt_number": 342
    },
    {
     "cell_type": "code",
     "collapsed": true,
     "input": [
      "#atke"
     ],
     "language": "python",
     "metadata": {},
     "outputs": [],
     "prompt_number": 343
    },
    {
     "cell_type": "code",
     "collapsed": true,
     "input": [
      "#atkey.name"
     ],
     "language": "python",
     "metadata": {},
     "outputs": [],
     "prompt_number": 344
    },
    {
     "cell_type": "code",
     "collapsed": true,
     "input": [],
     "language": "python",
     "metadata": {},
     "outputs": [],
     "prompt_number": 344
    },
    {
     "cell_type": "code",
     "collapsed": false,
     "input": [
      "getdispl = ('http://api.at.govt.nz/v1/public/realtime/vehiclelocations?api_key=433feddb-d4b9-473b-a0c2-ac982a6d78cd')"
     ],
     "language": "python",
     "metadata": {},
     "outputs": [],
     "prompt_number": 372
    },
    {
     "cell_type": "code",
     "collapsed": false,
     "input": [
      "getres = requests.get(getdispl)"
     ],
     "language": "python",
     "metadata": {},
     "outputs": [],
     "prompt_number": 373
    },
    {
     "cell_type": "code",
     "collapsed": false,
     "input": [
      "gettx = getres.text"
     ],
     "language": "python",
     "metadata": {},
     "outputs": [],
     "prompt_number": 374
    },
    {
     "cell_type": "code",
     "collapsed": false,
     "input": [
      "pajson = json.loads(gettx)"
     ],
     "language": "python",
     "metadata": {},
     "outputs": [],
     "prompt_number": 375
    },
    {
     "cell_type": "code",
     "collapsed": false,
     "input": [
      "patza = pajson.keys()"
     ],
     "language": "python",
     "metadata": {},
     "outputs": [],
     "prompt_number": 376
    },
    {
     "cell_type": "code",
     "collapsed": false,
     "input": [
      "pajson.keys()"
     ],
     "language": "python",
     "metadata": {},
     "outputs": [
      {
       "metadata": {},
       "output_type": "pyout",
       "prompt_number": 377,
       "text": [
        "[u'status', u'response', u'error']"
       ]
      }
     ],
     "prompt_number": 377
    },
    {
     "cell_type": "code",
     "collapsed": false,
     "input": [
      "for i in pajson:\n",
      "    print i"
     ],
     "language": "python",
     "metadata": {},
     "outputs": [
      {
       "output_type": "stream",
       "stream": "stdout",
       "text": [
        "status\n",
        "response\n",
        "error\n"
       ]
      }
     ],
     "prompt_number": 378
    },
    {
     "cell_type": "code",
     "collapsed": false,
     "input": [
      "patze = pajson['response']['entity'][0]"
     ],
     "language": "python",
     "metadata": {},
     "outputs": [],
     "prompt_number": 379
    },
    {
     "cell_type": "code",
     "collapsed": false,
     "input": [
      "patze"
     ],
     "language": "python",
     "metadata": {},
     "outputs": [
      {
       "metadata": {},
       "output_type": "pyout",
       "prompt_number": 380,
       "text": [
        "{u'id': u'fb94cf8a-51eb-d7b0-7578-dea2f7b1ce8c',\n",
        " u'is_deleted': False,\n",
        " u'vehicle': {u'position': {u'latitude': -36.84467, u'longitude': 174.76197},\n",
        "  u'timestamp': 1401537540,\n",
        "  u'trip': {u'route_id': u'1001RT0781',\n",
        "   u'schedule_relationship': 0,\n",
        "   u'trip_id': u'1001RT0781233064437'},\n",
        "  u'vehicle': {u'id': u'f838b30d7bc88c4c7b896da01250ef930ea498ff0b304541846f32d8f027b409'}}}"
       ]
      }
     ],
     "prompt_number": 380
    },
    {
     "cell_type": "code",
     "collapsed": false,
     "input": [
      "paveh = patze['vehicle']"
     ],
     "language": "python",
     "metadata": {},
     "outputs": [],
     "prompt_number": 381
    },
    {
     "cell_type": "code",
     "collapsed": false,
     "input": [
      "pala = paveh['position']"
     ],
     "language": "python",
     "metadata": {},
     "outputs": [],
     "prompt_number": 382
    },
    {
     "cell_type": "code",
     "collapsed": false,
     "input": [
      "print pala"
     ],
     "language": "python",
     "metadata": {},
     "outputs": [
      {
       "output_type": "stream",
       "stream": "stdout",
       "text": [
        "{u'latitude': -36.84467, u'longitude': 174.76197}\n"
       ]
      }
     ],
     "prompt_number": 383
    },
    {
     "cell_type": "code",
     "collapsed": false,
     "input": [
      "palat = pala['latitude'] "
     ],
     "language": "python",
     "metadata": {},
     "outputs": [],
     "prompt_number": 384
    },
    {
     "cell_type": "code",
     "collapsed": false,
     "input": [
      "palat"
     ],
     "language": "python",
     "metadata": {},
     "outputs": [
      {
       "metadata": {},
       "output_type": "pyout",
       "prompt_number": 385,
       "text": [
        "-36.84467"
       ]
      }
     ],
     "prompt_number": 385
    },
    {
     "cell_type": "code",
     "collapsed": false,
     "input": [
      "palong = pala['longitude']"
     ],
     "language": "python",
     "metadata": {},
     "outputs": [],
     "prompt_number": 386
    },
    {
     "cell_type": "code",
     "collapsed": false,
     "input": [
      "palong"
     ],
     "language": "python",
     "metadata": {},
     "outputs": [
      {
       "metadata": {},
       "output_type": "pyout",
       "prompt_number": 387,
       "text": [
        "174.76197"
       ]
      }
     ],
     "prompt_number": 387
    },
    {
     "cell_type": "code",
     "collapsed": false,
     "input": [
      "class busdata(object):\n",
      "    \n",
      "    def latdata(self):\n",
      "        return palat\n",
      "    def longdata(self):\n",
      "        return palong\n",
      "    "
     ],
     "language": "python",
     "metadata": {},
     "outputs": [],
     "prompt_number": 388
    },
    {
     "cell_type": "code",
     "collapsed": false,
     "input": [
      "busdata = busdata()"
     ],
     "language": "python",
     "metadata": {},
     "outputs": [],
     "prompt_number": 389
    },
    {
     "cell_type": "code",
     "collapsed": false,
     "input": [
      "busdata.longdata()"
     ],
     "language": "python",
     "metadata": {},
     "outputs": [
      {
       "metadata": {},
       "output_type": "pyout",
       "prompt_number": 390,
       "text": [
        "174.76197"
       ]
      }
     ],
     "prompt_number": 390
    },
    {
     "cell_type": "code",
     "collapsed": false,
     "input": [
      "longdatas = str(busdata.longdata())"
     ],
     "language": "python",
     "metadata": {},
     "outputs": [],
     "prompt_number": 391
    },
    {
     "cell_type": "code",
     "collapsed": false,
     "input": [
      "longdatas"
     ],
     "language": "python",
     "metadata": {},
     "outputs": [
      {
       "metadata": {},
       "output_type": "pyout",
       "prompt_number": 392,
       "text": [
        "'174.76197'"
       ]
      }
     ],
     "prompt_number": 392
    },
    {
     "cell_type": "code",
     "collapsed": false,
     "input": [
      "latdatas = str(busdata.latdata())"
     ],
     "language": "python",
     "metadata": {},
     "outputs": [],
     "prompt_number": 393
    },
    {
     "cell_type": "code",
     "collapsed": false,
     "input": [
      "latdatas"
     ],
     "language": "python",
     "metadata": {},
     "outputs": [
      {
       "metadata": {},
       "output_type": "pyout",
       "prompt_number": 394,
       "text": [
        "'-36.84467'"
       ]
      }
     ],
     "prompt_number": 394
    },
    {
     "cell_type": "code",
     "collapsed": false,
     "input": [
      "busdata.latdata()"
     ],
     "language": "python",
     "metadata": {},
     "outputs": [
      {
       "metadata": {},
       "output_type": "pyout",
       "prompt_number": 395,
       "text": [
        "-36.84467"
       ]
      }
     ],
     "prompt_number": 395
    },
    {
     "cell_type": "code",
     "collapsed": false,
     "input": [
      "bothdata"
     ],
     "language": "python",
     "metadata": {},
     "outputs": [
      {
       "metadata": {},
       "output_type": "pyout",
       "prompt_number": 396,
       "text": [
        "-73.85227"
       ]
      }
     ],
     "prompt_number": 396
    },
    {
     "cell_type": "code",
     "collapsed": false,
     "input": [
      "from geopy.geocoders import GoogleV3\n",
      "geolocator = GoogleV3()\n"
     ],
     "language": "python",
     "metadata": {},
     "outputs": [],
     "prompt_number": 397
    },
    {
     "cell_type": "code",
     "collapsed": false,
     "input": [
      "address, (longdatas, longitude) = geolocator.reverse(longdatas, latdatas)\n",
      "print(address, latitude, longitude)"
     ],
     "language": "python",
     "metadata": {},
     "outputs": [
      {
       "ename": "TypeError",
       "evalue": "'NoneType' object is not iterable",
       "output_type": "pyerr",
       "traceback": [
        "\u001b[1;31m---------------------------------------------------------------------------\u001b[0m\n\u001b[1;31mTypeError\u001b[0m                                 Traceback (most recent call last)",
        "\u001b[1;32m<ipython-input-398-05aa9ec69da8>\u001b[0m in \u001b[0;36m<module>\u001b[1;34m()\u001b[0m\n\u001b[1;32m----> 1\u001b[1;33m \u001b[0maddress\u001b[0m\u001b[1;33m,\u001b[0m \u001b[1;33m(\u001b[0m\u001b[0mlongdatas\u001b[0m\u001b[1;33m,\u001b[0m \u001b[0mlongitude\u001b[0m\u001b[1;33m)\u001b[0m \u001b[1;33m=\u001b[0m \u001b[0mgeolocator\u001b[0m\u001b[1;33m.\u001b[0m\u001b[0mreverse\u001b[0m\u001b[1;33m(\u001b[0m\u001b[0mlongdatas\u001b[0m\u001b[1;33m,\u001b[0m \u001b[0mlatdatas\u001b[0m\u001b[1;33m)\u001b[0m\u001b[1;33m\u001b[0m\u001b[0m\n\u001b[0m\u001b[0;32m      2\u001b[0m \u001b[1;32mprint\u001b[0m\u001b[1;33m(\u001b[0m\u001b[0maddress\u001b[0m\u001b[1;33m,\u001b[0m \u001b[0mlatitude\u001b[0m\u001b[1;33m,\u001b[0m \u001b[0mlongitude\u001b[0m\u001b[1;33m)\u001b[0m\u001b[1;33m\u001b[0m\u001b[0m\n",
        "\u001b[1;31mTypeError\u001b[0m: 'NoneType' object is not iterable"
       ]
      }
     ],
     "prompt_number": 398
    },
    {
     "cell_type": "code",
     "collapsed": false,
     "input": [
      "print geolocator.reverse(longdatas, latdatas)"
     ],
     "language": "python",
     "metadata": {},
     "outputs": []
    },
    {
     "cell_type": "code",
     "collapsed": false,
     "input": [
      "print geolocator.geocode(latdatas, longdatas)"
     ],
     "language": "python",
     "metadata": {},
     "outputs": [
      {
       "output_type": "stream",
       "stream": "stdout",
       "text": [
        "36th Street, UT, USA\n"
       ]
      }
     ],
     "prompt_number": 399
    },
    {
     "cell_type": "code",
     "collapsed": false,
     "input": [
      "for d in geolocator.geocode(busdata.latdata(), busdata.longdata()):\n",
      "    print d"
     ],
     "language": "python",
     "metadata": {},
     "outputs": [
      {
       "output_type": "stream",
       "stream": "stdout",
       "text": [
        "36th Street, UT, USA\n",
        "(41.1976314, -111.9583336)\n"
       ]
      }
     ],
     "prompt_number": 400
    },
    {
     "cell_type": "code",
     "collapsed": false,
     "input": [
      "testgeo = geolocator.geocode(-36.921086, 174.80408)"
     ],
     "language": "python",
     "metadata": {},
     "outputs": [],
     "prompt_number": 401
    },
    {
     "cell_type": "code",
     "collapsed": false,
     "input": [
      "print testgeo"
     ],
     "language": "python",
     "metadata": {},
     "outputs": [
      {
       "output_type": "stream",
       "stream": "stdout",
       "text": [
        "None\n"
       ]
      }
     ],
     "prompt_number": 402
    },
    {
     "cell_type": "code",
     "collapsed": false,
     "input": [
      "import chess"
     ],
     "language": "python",
     "metadata": {},
     "outputs": [],
     "prompt_number": 403
    },
    {
     "cell_type": "code",
     "collapsed": false,
     "input": [
      "pos = chess.time"
     ],
     "language": "python",
     "metadata": {},
     "outputs": [],
     "prompt_number": 404
    },
    {
     "cell_type": "code",
     "collapsed": false,
     "input": [
      "pos.clock()"
     ],
     "language": "python",
     "metadata": {},
     "outputs": []
    },
    {
     "cell_type": "code",
     "collapsed": false,
     "input": [
      "chess.A2"
     ],
     "language": "python",
     "metadata": {},
     "outputs": []
    },
    {
     "cell_type": "code",
     "collapsed": false,
     "input": [
      "board = chess.Bitboard()\n",
      "board.push_san(\"e4\")\n",
      "board.push_san(\"e5\")\n",
      "board.push_san(\"Qh5\")\n",
      "board.push_san(\"Nc6\")\n",
      "board.push_san(\"Bc4\")\n",
      "board.push_san(\"Nf6\")\n",
      "board.push_san(\"Qxf7\")\n",
      "assert board.is_checkmate()"
     ],
     "language": "python",
     "metadata": {},
     "outputs": []
    },
    {
     "cell_type": "code",
     "collapsed": false,
     "input": [
      "assert board"
     ],
     "language": "python",
     "metadata": {},
     "outputs": []
    },
    {
     "cell_type": "code",
     "collapsed": false,
     "input": [
      "print board"
     ],
     "language": "python",
     "metadata": {},
     "outputs": []
    },
    {
     "cell_type": "code",
     "collapsed": false,
     "input": [
      "chess.WHITE"
     ],
     "language": "python",
     "metadata": {},
     "outputs": []
    },
    {
     "cell_type": "code",
     "collapsed": false,
     "input": [
      "board.pawns"
     ],
     "language": "python",
     "metadata": {},
     "outputs": []
    },
    {
     "cell_type": "code",
     "collapsed": false,
     "input": [
      "print board"
     ],
     "language": "python",
     "metadata": {},
     "outputs": []
    },
    {
     "cell_type": "code",
     "collapsed": false,
     "input": [
      "print board.is_pseudo_legal"
     ],
     "language": "python",
     "metadata": {},
     "outputs": []
    },
    {
     "cell_type": "code",
     "collapsed": false,
     "input": [
      "import os"
     ],
     "language": "python",
     "metadata": {},
     "outputs": [],
     "prompt_number": 405
    },
    {
     "cell_type": "code",
     "collapsed": false,
     "input": [
      "os.getppid()"
     ],
     "language": "python",
     "metadata": {},
     "outputs": [
      {
       "metadata": {},
       "output_type": "pyout",
       "prompt_number": 411,
       "text": [
        "12114"
       ]
      }
     ],
     "prompt_number": 411
    },
    {
     "cell_type": "code",
     "collapsed": false,
     "input": [
      "os.geteuid()"
     ],
     "language": "python",
     "metadata": {},
     "outputs": [
      {
       "metadata": {},
       "output_type": "pyout",
       "prompt_number": 413,
       "text": [
        "1000"
       ]
      }
     ],
     "prompt_number": 413
    },
    {
     "cell_type": "code",
     "collapsed": false,
     "input": [
      "os.access()"
     ],
     "language": "python",
     "metadata": {},
     "outputs": [
      {
       "ename": "TypeError",
       "evalue": "access() takes exactly 2 arguments (0 given)",
       "output_type": "pyerr",
       "traceback": [
        "\u001b[1;31m---------------------------------------------------------------------------\u001b[0m\n\u001b[1;31mTypeError\u001b[0m                                 Traceback (most recent call last)",
        "\u001b[1;32m<ipython-input-415-91f1301d81b1>\u001b[0m in \u001b[0;36m<module>\u001b[1;34m()\u001b[0m\n\u001b[1;32m----> 1\u001b[1;33m \u001b[0mos\u001b[0m\u001b[1;33m.\u001b[0m\u001b[0maccess\u001b[0m\u001b[1;33m(\u001b[0m\u001b[1;33m)\u001b[0m\u001b[1;33m\u001b[0m\u001b[0m\n\u001b[0m",
        "\u001b[1;31mTypeError\u001b[0m: access() takes exactly 2 arguments (0 given)"
       ]
      }
     ],
     "prompt_number": 415
    },
    {
     "cell_type": "code",
     "collapsed": false,
     "input": [
      "%%HTML\n",
      "<h1>test</h1>\n"
     ],
     "language": "python",
     "metadata": {},
     "outputs": [
      {
       "html": [
        "<h1>test</h1>"
       ],
       "metadata": {},
       "output_type": "display_data",
       "text": [
        "<IPython.core.display.HTML at 0x2a9bed0>"
       ]
      }
     ],
     "prompt_number": 416
    },
    {
     "cell_type": "code",
     "collapsed": false,
     "input": [
      "getart = requests.get('http://artcontrol.me/mays-paint/')"
     ],
     "language": "python",
     "metadata": {},
     "outputs": [],
     "prompt_number": 417
    },
    {
     "cell_type": "code",
     "collapsed": false,
     "input": [
      "getart.json()"
     ],
     "language": "python",
     "metadata": {},
     "outputs": [
      {
       "ename": "ValueError",
       "evalue": "No JSON object could be decoded",
       "output_type": "pyerr",
       "traceback": [
        "\u001b[1;31m---------------------------------------------------------------------------\u001b[0m\n\u001b[1;31mValueError\u001b[0m                                Traceback (most recent call last)",
        "\u001b[1;32m<ipython-input-422-54e09e62f0f3>\u001b[0m in \u001b[0;36m<module>\u001b[1;34m()\u001b[0m\n\u001b[1;32m----> 1\u001b[1;33m \u001b[0mgetart\u001b[0m\u001b[1;33m.\u001b[0m\u001b[0mjson\u001b[0m\u001b[1;33m(\u001b[0m\u001b[1;33m)\u001b[0m\u001b[1;33m\u001b[0m\u001b[0m\n\u001b[0m",
        "\u001b[1;32m/usr/local/lib/python2.7/dist-packages/requests/models.pyc\u001b[0m in \u001b[0;36mjson\u001b[1;34m(self, **kwargs)\u001b[0m\n\u001b[0;32m    739\u001b[0m             \u001b[1;32mif\u001b[0m \u001b[0mencoding\u001b[0m \u001b[1;32mis\u001b[0m \u001b[1;32mnot\u001b[0m \u001b[0mNone\u001b[0m\u001b[1;33m:\u001b[0m\u001b[1;33m\u001b[0m\u001b[0m\n\u001b[0;32m    740\u001b[0m                 \u001b[1;32mreturn\u001b[0m \u001b[0mjson\u001b[0m\u001b[1;33m.\u001b[0m\u001b[0mloads\u001b[0m\u001b[1;33m(\u001b[0m\u001b[0mself\u001b[0m\u001b[1;33m.\u001b[0m\u001b[0mcontent\u001b[0m\u001b[1;33m.\u001b[0m\u001b[0mdecode\u001b[0m\u001b[1;33m(\u001b[0m\u001b[0mencoding\u001b[0m\u001b[1;33m)\u001b[0m\u001b[1;33m,\u001b[0m \u001b[1;33m**\u001b[0m\u001b[0mkwargs\u001b[0m\u001b[1;33m)\u001b[0m\u001b[1;33m\u001b[0m\u001b[0m\n\u001b[1;32m--> 741\u001b[1;33m         \u001b[1;32mreturn\u001b[0m \u001b[0mjson\u001b[0m\u001b[1;33m.\u001b[0m\u001b[0mloads\u001b[0m\u001b[1;33m(\u001b[0m\u001b[0mself\u001b[0m\u001b[1;33m.\u001b[0m\u001b[0mtext\u001b[0m\u001b[1;33m,\u001b[0m \u001b[1;33m**\u001b[0m\u001b[0mkwargs\u001b[0m\u001b[1;33m)\u001b[0m\u001b[1;33m\u001b[0m\u001b[0m\n\u001b[0m\u001b[0;32m    742\u001b[0m \u001b[1;33m\u001b[0m\u001b[0m\n\u001b[0;32m    743\u001b[0m     \u001b[1;33m@\u001b[0m\u001b[0mproperty\u001b[0m\u001b[1;33m\u001b[0m\u001b[0m\n",
        "\u001b[1;32m/usr/lib/python2.7/json/__init__.pyc\u001b[0m in \u001b[0;36mloads\u001b[1;34m(s, encoding, cls, object_hook, parse_float, parse_int, parse_constant, object_pairs_hook, **kw)\u001b[0m\n\u001b[0;32m    324\u001b[0m             \u001b[0mparse_int\u001b[0m \u001b[1;32mis\u001b[0m \u001b[0mNone\u001b[0m \u001b[1;32mand\u001b[0m \u001b[0mparse_float\u001b[0m \u001b[1;32mis\u001b[0m \u001b[0mNone\u001b[0m \u001b[1;32mand\u001b[0m\u001b[1;33m\u001b[0m\u001b[0m\n\u001b[0;32m    325\u001b[0m             parse_constant is None and object_pairs_hook is None and not kw):\n\u001b[1;32m--> 326\u001b[1;33m         \u001b[1;32mreturn\u001b[0m \u001b[0m_default_decoder\u001b[0m\u001b[1;33m.\u001b[0m\u001b[0mdecode\u001b[0m\u001b[1;33m(\u001b[0m\u001b[0ms\u001b[0m\u001b[1;33m)\u001b[0m\u001b[1;33m\u001b[0m\u001b[0m\n\u001b[0m\u001b[0;32m    327\u001b[0m     \u001b[1;32mif\u001b[0m \u001b[0mcls\u001b[0m \u001b[1;32mis\u001b[0m \u001b[0mNone\u001b[0m\u001b[1;33m:\u001b[0m\u001b[1;33m\u001b[0m\u001b[0m\n\u001b[0;32m    328\u001b[0m         \u001b[0mcls\u001b[0m \u001b[1;33m=\u001b[0m \u001b[0mJSONDecoder\u001b[0m\u001b[1;33m\u001b[0m\u001b[0m\n",
        "\u001b[1;32m/usr/lib/python2.7/json/decoder.pyc\u001b[0m in \u001b[0;36mdecode\u001b[1;34m(self, s, _w)\u001b[0m\n\u001b[0;32m    363\u001b[0m \u001b[1;33m\u001b[0m\u001b[0m\n\u001b[0;32m    364\u001b[0m         \"\"\"\n\u001b[1;32m--> 365\u001b[1;33m         \u001b[0mobj\u001b[0m\u001b[1;33m,\u001b[0m \u001b[0mend\u001b[0m \u001b[1;33m=\u001b[0m \u001b[0mself\u001b[0m\u001b[1;33m.\u001b[0m\u001b[0mraw_decode\u001b[0m\u001b[1;33m(\u001b[0m\u001b[0ms\u001b[0m\u001b[1;33m,\u001b[0m \u001b[0midx\u001b[0m\u001b[1;33m=\u001b[0m\u001b[0m_w\u001b[0m\u001b[1;33m(\u001b[0m\u001b[0ms\u001b[0m\u001b[1;33m,\u001b[0m \u001b[1;36m0\u001b[0m\u001b[1;33m)\u001b[0m\u001b[1;33m.\u001b[0m\u001b[0mend\u001b[0m\u001b[1;33m(\u001b[0m\u001b[1;33m)\u001b[0m\u001b[1;33m)\u001b[0m\u001b[1;33m\u001b[0m\u001b[0m\n\u001b[0m\u001b[0;32m    366\u001b[0m         \u001b[0mend\u001b[0m \u001b[1;33m=\u001b[0m \u001b[0m_w\u001b[0m\u001b[1;33m(\u001b[0m\u001b[0ms\u001b[0m\u001b[1;33m,\u001b[0m \u001b[0mend\u001b[0m\u001b[1;33m)\u001b[0m\u001b[1;33m.\u001b[0m\u001b[0mend\u001b[0m\u001b[1;33m(\u001b[0m\u001b[1;33m)\u001b[0m\u001b[1;33m\u001b[0m\u001b[0m\n\u001b[0;32m    367\u001b[0m         \u001b[1;32mif\u001b[0m \u001b[0mend\u001b[0m \u001b[1;33m!=\u001b[0m \u001b[0mlen\u001b[0m\u001b[1;33m(\u001b[0m\u001b[0ms\u001b[0m\u001b[1;33m)\u001b[0m\u001b[1;33m:\u001b[0m\u001b[1;33m\u001b[0m\u001b[0m\n",
        "\u001b[1;32m/usr/lib/python2.7/json/decoder.pyc\u001b[0m in \u001b[0;36mraw_decode\u001b[1;34m(self, s, idx)\u001b[0m\n\u001b[0;32m    381\u001b[0m             \u001b[0mobj\u001b[0m\u001b[1;33m,\u001b[0m \u001b[0mend\u001b[0m \u001b[1;33m=\u001b[0m \u001b[0mself\u001b[0m\u001b[1;33m.\u001b[0m\u001b[0mscan_once\u001b[0m\u001b[1;33m(\u001b[0m\u001b[0ms\u001b[0m\u001b[1;33m,\u001b[0m \u001b[0midx\u001b[0m\u001b[1;33m)\u001b[0m\u001b[1;33m\u001b[0m\u001b[0m\n\u001b[0;32m    382\u001b[0m         \u001b[1;32mexcept\u001b[0m \u001b[0mStopIteration\u001b[0m\u001b[1;33m:\u001b[0m\u001b[1;33m\u001b[0m\u001b[0m\n\u001b[1;32m--> 383\u001b[1;33m             \u001b[1;32mraise\u001b[0m \u001b[0mValueError\u001b[0m\u001b[1;33m(\u001b[0m\u001b[1;34m\"No JSON object could be decoded\"\u001b[0m\u001b[1;33m)\u001b[0m\u001b[1;33m\u001b[0m\u001b[0m\n\u001b[0m\u001b[0;32m    384\u001b[0m         \u001b[1;32mreturn\u001b[0m \u001b[0mobj\u001b[0m\u001b[1;33m,\u001b[0m \u001b[0mend\u001b[0m\u001b[1;33m\u001b[0m\u001b[0m\n",
        "\u001b[1;31mValueError\u001b[0m: No JSON object could be decoded"
       ]
      }
     ],
     "prompt_number": 422
    },
    {
     "cell_type": "code",
     "collapsed": false,
     "input": [],
     "language": "python",
     "metadata": {},
     "outputs": []
    }
   ],
   "metadata": {}
  }
 ]
}