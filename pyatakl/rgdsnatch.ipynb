{
 "metadata": {
  "name": "",
  "signature": "sha256:dc3991c7a73101d78804880b48a334bf098e0abcf80ce6e509606b7c00ed403d"
 },
 "nbformat": 3,
 "nbformat_minor": 0,
 "worksheets": [
  {
   "cells": [
    {
     "cell_type": "markdown",
     "metadata": {},
     "source": [
      "rgdsnatch: Reddit script to get posts and data from RedditGetsDrawn and post to artcontroldrawsyou"
     ]
    },
    {
     "cell_type": "code",
     "collapsed": false,
     "input": [
      "import os\n",
      "import random\n",
      "import requests\n",
      "import re\n",
      "import json\n",
      "import praw"
     ],
     "language": "python",
     "metadata": {},
     "outputs": [],
     "prompt_number": 354
    },
    {
     "cell_type": "code",
     "collapsed": false,
     "input": [
      "os.chdir('/home/wcmckee/rgd')"
     ],
     "language": "python",
     "metadata": {},
     "outputs": [],
     "prompt_number": 355
    },
    {
     "cell_type": "code",
     "collapsed": false,
     "input": [
      "r = praw.Reddit(user_agent='rgdsnatch')"
     ],
     "language": "python",
     "metadata": {},
     "outputs": [],
     "prompt_number": 356
    },
    {
     "cell_type": "code",
     "collapsed": false,
     "input": [
      "r.login('artcontrol', 'newfile123')"
     ],
     "language": "python",
     "metadata": {},
     "outputs": [],
     "prompt_number": 357
    },
    {
     "cell_type": "code",
     "collapsed": false,
     "input": [
      "usrd = r.get_my_subreddits()"
     ],
     "language": "python",
     "metadata": {},
     "outputs": [],
     "prompt_number": 358
    },
    {
     "cell_type": "code",
     "collapsed": false,
     "input": [
      "suls = []"
     ],
     "language": "python",
     "metadata": {},
     "outputs": [],
     "prompt_number": 359
    },
    {
     "cell_type": "code",
     "collapsed": false,
     "input": [
      "for subs in usrd:\n",
      "    print subs\n",
      "    suls.append(subs)"
     ],
     "language": "python",
     "metadata": {},
     "outputs": [
      {
       "output_type": "stream",
       "stream": "stdout",
       "text": [
        "todayilearned\n",
        "blog\n",
        "science\n",
        "IAmA\n",
        "videos\n",
        "technology\n",
        "bestof\n",
        "askscience\n",
        "books\n",
        "television\n",
        "food\n",
        "photoshopbattles\n",
        "trees\n",
        "GetMotivated\n",
        "programming\n",
        "listentothis\n",
        "Documentaries\n",
        "Art\n",
        "Android\n",
        "gameofthrones\n",
        "Minecraft\n",
        "comics\n",
        "skyrim\n",
        "breakingbad\n",
        "buildapc\n"
       ]
      }
     ],
     "prompt_number": 360
    },
    {
     "cell_type": "code",
     "collapsed": false,
     "input": [
      "suls"
     ],
     "language": "python",
     "metadata": {},
     "outputs": [
      {
       "metadata": {},
       "output_type": "pyout",
       "prompt_number": 361,
       "text": [
        "[Subreddit(display_name='todayilearned'),\n",
        " Subreddit(display_name='blog'),\n",
        " Subreddit(display_name='science'),\n",
        " Subreddit(display_name='IAmA'),\n",
        " Subreddit(display_name='videos'),\n",
        " Subreddit(display_name='technology'),\n",
        " Subreddit(display_name='bestof'),\n",
        " Subreddit(display_name='askscience'),\n",
        " Subreddit(display_name='books'),\n",
        " Subreddit(display_name='television'),\n",
        " Subreddit(display_name='food'),\n",
        " Subreddit(display_name='photoshopbattles'),\n",
        " Subreddit(display_name='trees'),\n",
        " Subreddit(display_name='GetMotivated'),\n",
        " Subreddit(display_name='programming'),\n",
        " Subreddit(display_name='listentothis'),\n",
        " Subreddit(display_name='Documentaries'),\n",
        " Subreddit(display_name='Art'),\n",
        " Subreddit(display_name='Android'),\n",
        " Subreddit(display_name='gameofthrones'),\n",
        " Subreddit(display_name='Minecraft'),\n",
        " Subreddit(display_name='comics'),\n",
        " Subreddit(display_name='skyrim'),\n",
        " Subreddit(display_name='breakingbad'),\n",
        " Subreddit(display_name='buildapc')]"
       ]
      }
     ],
     "prompt_number": 361
    },
    {
     "cell_type": "code",
     "collapsed": false,
     "input": [
      "lesuls = len(suls)\n",
      "\n",
      "ransuz = random.randint(0, lesuls)\n",
      "\n",
      "thesubraz = suls[ransuz]"
     ],
     "language": "python",
     "metadata": {},
     "outputs": [],
     "prompt_number": 362
    },
    {
     "cell_type": "code",
     "collapsed": false,
     "input": [
      "suls"
     ],
     "language": "python",
     "metadata": {},
     "outputs": [
      {
       "metadata": {},
       "output_type": "pyout",
       "prompt_number": 363,
       "text": [
        "[Subreddit(display_name='todayilearned'),\n",
        " Subreddit(display_name='blog'),\n",
        " Subreddit(display_name='science'),\n",
        " Subreddit(display_name='IAmA'),\n",
        " Subreddit(display_name='videos'),\n",
        " Subreddit(display_name='technology'),\n",
        " Subreddit(display_name='bestof'),\n",
        " Subreddit(display_name='askscience'),\n",
        " Subreddit(display_name='books'),\n",
        " Subreddit(display_name='television'),\n",
        " Subreddit(display_name='food'),\n",
        " Subreddit(display_name='photoshopbattles'),\n",
        " Subreddit(display_name='trees'),\n",
        " Subreddit(display_name='GetMotivated'),\n",
        " Subreddit(display_name='programming'),\n",
        " Subreddit(display_name='listentothis'),\n",
        " Subreddit(display_name='Documentaries'),\n",
        " Subreddit(display_name='Art'),\n",
        " Subreddit(display_name='Android'),\n",
        " Subreddit(display_name='gameofthrones'),\n",
        " Subreddit(display_name='Minecraft'),\n",
        " Subreddit(display_name='comics'),\n",
        " Subreddit(display_name='skyrim'),\n",
        " Subreddit(display_name='breakingbad'),\n",
        " Subreddit(display_name='buildapc')]"
       ]
      }
     ],
     "prompt_number": 363
    },
    {
     "cell_type": "code",
     "collapsed": false,
     "input": [
      "print thesubraz"
     ],
     "language": "python",
     "metadata": {},
     "outputs": [
      {
       "output_type": "stream",
       "stream": "stdout",
       "text": [
        "science\n"
       ]
      }
     ],
     "prompt_number": 364
    },
    {
     "cell_type": "code",
     "collapsed": false,
     "input": [
      "rd = r.get_subreddit(str(thesubraz))"
     ],
     "language": "python",
     "metadata": {},
     "outputs": [],
     "prompt_number": 367
    },
    {
     "cell_type": "code",
     "collapsed": false,
     "input": [
      "rdnewz = rd.get_new()"
     ],
     "language": "python",
     "metadata": {},
     "outputs": [],
     "prompt_number": 368
    },
    {
     "cell_type": "code",
     "collapsed": false,
     "input": [
      "rdnew = []"
     ],
     "language": "python",
     "metadata": {},
     "outputs": [],
     "prompt_number": 369
    },
    {
     "cell_type": "code",
     "collapsed": false,
     "input": [
      "rdnew"
     ],
     "language": "python",
     "metadata": {},
     "outputs": [
      {
       "metadata": {},
       "output_type": "pyout",
       "prompt_number": 370,
       "text": [
        "[]"
       ]
      }
     ],
     "prompt_number": 370
    },
    {
     "cell_type": "code",
     "collapsed": false,
     "input": [
      "for uz in rdnewz:\n",
      "    #print uz\n",
      "    rdnew.append(uz)"
     ],
     "language": "python",
     "metadata": {},
     "outputs": [],
     "prompt_number": 371
    },
    {
     "cell_type": "code",
     "collapsed": false,
     "input": [
      "rdnew"
     ],
     "language": "python",
     "metadata": {},
     "outputs": [
      {
       "metadata": {},
       "output_type": "pyout",
       "prompt_number": 372,
       "text": [
        "[<praw.objects.Submission at 0x7f0e842c3d50>,\n",
        " <praw.objects.Submission at 0x177c690>,\n",
        " <praw.objects.Submission at 0x177c5d0>,\n",
        " <praw.objects.Submission at 0x7f0e8429ba50>,\n",
        " <praw.objects.Submission at 0x7f0e8429ba10>,\n",
        " <praw.objects.Submission at 0x7f0e8429bb50>,\n",
        " <praw.objects.Submission at 0x7f0e8429b7d0>,\n",
        " <praw.objects.Submission at 0x7f0e8429bc50>,\n",
        " <praw.objects.Submission at 0x7f0e8429bd50>,\n",
        " <praw.objects.Submission at 0x7f0e8429bd10>,\n",
        " <praw.objects.Submission at 0x7f0e840dff50>,\n",
        " <praw.objects.Submission at 0x7f0e842982d0>,\n",
        " <praw.objects.Submission at 0x7f0e84298d90>,\n",
        " <praw.objects.Submission at 0x7f0e84298c50>,\n",
        " <praw.objects.Submission at 0x7f0e842af410>,\n",
        " <praw.objects.Submission at 0x7f0e842af750>,\n",
        " <praw.objects.Submission at 0x7f0e842af7d0>,\n",
        " <praw.objects.Submission at 0x7f0e842af8d0>,\n",
        " <praw.objects.Submission at 0x7f0e842af9d0>,\n",
        " <praw.objects.Submission at 0x7f0e842afa90>,\n",
        " <praw.objects.Submission at 0x7f0e842afb50>,\n",
        " <praw.objects.Submission at 0x7f0e842afc10>,\n",
        " <praw.objects.Submission at 0x7f0e842afcd0>,\n",
        " <praw.objects.Submission at 0x7f0e842afdd0>,\n",
        " <praw.objects.Submission at 0x7f0e842afe90>]"
       ]
      }
     ],
     "prompt_number": 372
    },
    {
     "cell_type": "code",
     "collapsed": false,
     "input": [
      "ransubz = random.randint(0,24)"
     ],
     "language": "python",
     "metadata": {},
     "outputs": [],
     "prompt_number": 373
    },
    {
     "cell_type": "code",
     "collapsed": false,
     "input": [
      "print ransubz"
     ],
     "language": "python",
     "metadata": {},
     "outputs": [
      {
       "output_type": "stream",
       "stream": "stdout",
       "text": [
        "12\n"
       ]
      }
     ],
     "prompt_number": 374
    },
    {
     "cell_type": "code",
     "collapsed": false,
     "input": [
      "ransev = rdnew[ransubz]"
     ],
     "language": "python",
     "metadata": {},
     "outputs": [],
     "prompt_number": 375
    },
    {
     "cell_type": "code",
     "collapsed": false,
     "input": [
      "rgdautoz = str(ransev.author)\n"
     ],
     "language": "python",
     "metadata": {},
     "outputs": [],
     "prompt_number": 376
    },
    {
     "cell_type": "code",
     "collapsed": false,
     "input": [
      "rgdaqwew = ('[RGD]' + rgdautoz)"
     ],
     "language": "python",
     "metadata": {},
     "outputs": [],
     "prompt_number": 377
    },
    {
     "cell_type": "code",
     "collapsed": false,
     "input": [
      "rgdaturo = str(ransev.url)"
     ],
     "language": "python",
     "metadata": {},
     "outputs": [],
     "prompt_number": 378
    },
    {
     "cell_type": "code",
     "collapsed": false,
     "input": [
      "rgdatit = str(ransev.title)"
     ],
     "language": "python",
     "metadata": {},
     "outputs": [],
     "prompt_number": 270
    },
    {
     "cell_type": "code",
     "collapsed": false,
     "input": [
      "rgdatit"
     ],
     "language": "python",
     "metadata": {},
     "outputs": [
      {
       "metadata": {},
       "output_type": "pyout",
       "prompt_number": 271,
       "text": [
        "'My sisters were fortunate enough to get the chance to play with baby ducks. Will you draw them?'"
       ]
      }
     ],
     "prompt_number": 271
    },
    {
     "cell_type": "code",
     "collapsed": false,
     "input": [
      "#rd.get_top"
     ],
     "language": "python",
     "metadata": {},
     "outputs": [],
     "prompt_number": 272
    },
    {
     "cell_type": "code",
     "collapsed": false,
     "input": [
      "linkdict = {}"
     ],
     "language": "python",
     "metadata": {},
     "outputs": [],
     "prompt_number": 273
    },
    {
     "cell_type": "code",
     "collapsed": false,
     "input": [
      "ophtml = open('index.html', 'w')"
     ],
     "language": "python",
     "metadata": {},
     "outputs": [],
     "prompt_number": 274
    },
    {
     "cell_type": "code",
     "collapsed": false,
     "input": [],
     "language": "python",
     "metadata": {},
     "outputs": [],
     "prompt_number": 274
    },
    {
     "cell_type": "code",
     "collapsed": false,
     "input": [
      "ady = r.get_subreddit('artcontroldrawsyou')"
     ],
     "language": "python",
     "metadata": {},
     "outputs": [],
     "prompt_number": 275
    },
    {
     "cell_type": "code",
     "collapsed": false,
     "input": [
      "comrgd =  rgdatit + ' ' + rgdaturo"
     ],
     "language": "python",
     "metadata": {},
     "outputs": [],
     "prompt_number": 276
    },
    {
     "cell_type": "code",
     "collapsed": false,
     "input": [
      "comrgd"
     ],
     "language": "python",
     "metadata": {},
     "outputs": [
      {
       "metadata": {},
       "output_type": "pyout",
       "prompt_number": 277,
       "text": [
        "'My sisters were fortunate enough to get the chance to play with baby ducks. Will you draw them? http://imgur.com/ufXahXN'"
       ]
      }
     ],
     "prompt_number": 277
    },
    {
     "cell_type": "code",
     "collapsed": false,
     "input": [
      "ady.submit(rgdautoz, (rgdaqwew, comrgd))"
     ],
     "language": "python",
     "metadata": {},
     "outputs": [
      {
       "metadata": {},
       "output_type": "pyout",
       "prompt_number": 278,
       "text": [
        "<praw.objects.Submission at 0x177c4d0>"
       ]
      }
     ],
     "prompt_number": 278
    },
    {
     "cell_type": "raw",
     "metadata": {},
     "source": [
      "for newa in rdnew:\n",
      "    #rint newa.url\n",
      "    print len(newa)\n",
      "    htmstr = (str(newa.title) + '<a href=\"' + \n",
      "                 str(newa.url) + \n",
      "                 '\"><img class=\"aligncenter size-large wp-image-5723\" alt=\"' +\n",
      "                 str(newa.author) +\n",
      "                 '\" src=\"' + \n",
      "                 str(newa.url) + \n",
      "                 '\" /></a>')\n",
      "    #ophtml.write(htmstr)\n",
      "    ady.submit(('[RGD]' + newa.author), newa.url)\n",
      "    print newa.author\n",
      "    #print newa.media\n",
      "    ophtml.write(htmstr)\n",
      "    print newa.selftext\n",
      "    print newa.title\n",
      "    print newa.url\n",
      "    print newa.num_comments\n",
      "    \n",
      "    linkdict.update({str(newa.author): str(newa.url)})\n"
     ]
    },
    {
     "cell_type": "code",
     "collapsed": false,
     "input": [
      "#print str(newa.title)"
     ],
     "language": "python",
     "metadata": {},
     "outputs": [],
     "prompt_number": 279
    },
    {
     "cell_type": "code",
     "collapsed": false,
     "input": [
      "import json"
     ],
     "language": "python",
     "metadata": {},
     "outputs": [],
     "prompt_number": 280
    },
    {
     "cell_type": "code",
     "collapsed": false,
     "input": [
      "newzjson = json.dumps(linkdict)"
     ],
     "language": "python",
     "metadata": {},
     "outputs": [],
     "prompt_number": 281
    },
    {
     "cell_type": "code",
     "collapsed": false,
     "input": [
      "#newzjson"
     ],
     "language": "python",
     "metadata": {},
     "outputs": [],
     "prompt_number": 282
    },
    {
     "cell_type": "code",
     "collapsed": false,
     "input": [],
     "language": "python",
     "metadata": {},
     "outputs": [],
     "prompt_number": 282
    },
    {
     "cell_type": "code",
     "collapsed": false,
     "input": [
      "rmine = r.get_redditor('itwillbemine')\n"
     ],
     "language": "python",
     "metadata": {},
     "outputs": [],
     "prompt_number": 283
    },
    {
     "cell_type": "code",
     "collapsed": false,
     "input": [
      "#opest = open('userurl.json', 'r')\n",
      "#opest.read()\n",
      "#opest.close()"
     ],
     "language": "python",
     "metadata": {},
     "outputs": [],
     "prompt_number": 284
    },
    {
     "cell_type": "code",
     "collapsed": false,
     "input": [
      "mincom = rmine.get_comments()"
     ],
     "language": "python",
     "metadata": {},
     "outputs": [],
     "prompt_number": 285
    },
    {
     "cell_type": "code",
     "collapsed": false,
     "input": [
      "#print mincom"
     ],
     "language": "python",
     "metadata": {},
     "outputs": [],
     "prompt_number": 286
    },
    {
     "cell_type": "code",
     "collapsed": false,
     "input": [
      "minels = []"
     ],
     "language": "python",
     "metadata": {},
     "outputs": [],
     "prompt_number": 287
    },
    {
     "cell_type": "code",
     "collapsed": false,
     "input": [
      "\n",
      "dausr = {}"
     ],
     "language": "python",
     "metadata": {},
     "outputs": [],
     "prompt_number": 288
    },
    {
     "cell_type": "code",
     "collapsed": false,
     "input": [
      "for newa in rdnew:\n",
      "    #rint newa.url\n",
      "    #print newa.author\n",
      "    linkdict.update({str(newa.author): str(newa.url)})"
     ],
     "language": "python",
     "metadata": {},
     "outputs": [],
     "prompt_number": 289
    },
    {
     "cell_type": "code",
     "collapsed": false,
     "input": [
      "for con in mincom:\n",
      "    #print con.body\n",
      "    minels.append(con)\n",
      "    dausr.update({str(con.id): str(con.body)})"
     ],
     "language": "python",
     "metadata": {},
     "outputs": [],
     "prompt_number": 290
    },
    {
     "cell_type": "code",
     "collapsed": false,
     "input": [
      "noizjson = json.dumps(dausr)"
     ],
     "language": "python",
     "metadata": {},
     "outputs": [],
     "prompt_number": 291
    },
    {
     "cell_type": "code",
     "collapsed": false,
     "input": [
      "newposts = open('userurl.json', 'a')\n",
      "newposts.write(newzjson)\n",
      "print ('file userurl.json updated')\n",
      "newcomments = open('idcomt.json', 'a')\n",
      "newcomments.write(noizjson)\n",
      "print ('user comments updated')\n",
      "newposts.close()\n",
      "newcomments.close()"
     ],
     "language": "python",
     "metadata": {},
     "outputs": [
      {
       "output_type": "stream",
       "stream": "stdout",
       "text": [
        "file userurl.json updated\n",
        "user comments updated\n"
       ]
      }
     ],
     "prompt_number": 292
    },
    {
     "cell_type": "code",
     "collapsed": false,
     "input": [
      "rdusr = str(con.author)\n"
     ],
     "language": "python",
     "metadata": {},
     "outputs": [],
     "prompt_number": 293
    },
    {
     "cell_type": "code",
     "collapsed": false,
     "input": [
      "minelsz = []"
     ],
     "language": "python",
     "metadata": {},
     "outputs": [],
     "prompt_number": 294
    },
    {
     "cell_type": "code",
     "collapsed": false,
     "input": [],
     "language": "python",
     "metadata": {},
     "outputs": [],
     "prompt_number": 294
    },
    {
     "cell_type": "code",
     "collapsed": false,
     "input": [
      "#for mina in minels:\n",
      "    #print mina.body\n",
      "   # minelsz.append(mina.body)"
     ],
     "language": "python",
     "metadata": {},
     "outputs": [],
     "prompt_number": 295
    },
    {
     "cell_type": "code",
     "collapsed": false,
     "input": [
      "#minelsz"
     ],
     "language": "python",
     "metadata": {},
     "outputs": [],
     "prompt_number": 296
    },
    {
     "cell_type": "code",
     "collapsed": false,
     "input": [
      "#mina.body"
     ],
     "language": "python",
     "metadata": {},
     "outputs": [],
     "prompt_number": 297
    },
    {
     "cell_type": "code",
     "collapsed": false,
     "input": [],
     "language": "python",
     "metadata": {},
     "outputs": [],
     "prompt_number": 297
    },
    {
     "cell_type": "code",
     "collapsed": false,
     "input": [],
     "language": "python",
     "metadata": {},
     "outputs": [],
     "prompt_number": 297
    },
    {
     "cell_type": "code",
     "collapsed": false,
     "input": [],
     "language": "python",
     "metadata": {},
     "outputs": []
    }
   ],
   "metadata": {}
  }
 ]
}