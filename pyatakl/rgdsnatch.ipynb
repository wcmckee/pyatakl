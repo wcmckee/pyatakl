{
 "metadata": {
  "name": "",
  "signature": "sha256:fbab8309564e6374edf40df3f9828c626525b057334501b39f52280fda3dd385"
 },
 "nbformat": 3,
 "nbformat_minor": 0,
 "worksheets": [
  {
   "cells": [
    {
     "cell_type": "markdown",
     "metadata": {},
     "source": [
      "rgdsnatch: Reddit script to get posts and data from RedditGetsDrawn and post to artcontroldrawsyou"
     ]
    },
    {
     "cell_type": "code",
     "collapsed": false,
     "input": [
      "import os\n",
      "import random\n",
      "import requests\n",
      "import re\n",
      "import json\n",
      "import praw"
     ],
     "language": "python",
     "metadata": {},
     "outputs": [],
     "prompt_number": 116
    },
    {
     "cell_type": "code",
     "collapsed": false,
     "input": [
      "os.chdir('/home/wcmckee/rgd')"
     ],
     "language": "python",
     "metadata": {},
     "outputs": [],
     "prompt_number": 117
    },
    {
     "cell_type": "code",
     "collapsed": false,
     "input": [
      "r = praw.Reddit(user_agent='rgdsnatch')"
     ],
     "language": "python",
     "metadata": {},
     "outputs": [],
     "prompt_number": 118
    },
    {
     "cell_type": "code",
     "collapsed": false,
     "input": [
      "#r.login('artcontrol', 'test123')"
     ],
     "language": "python",
     "metadata": {},
     "outputs": [],
     "prompt_number": 119
    },
    {
     "cell_type": "code",
     "collapsed": false,
     "input": [
      "rd = r.get_subreddit('redditgonemild')"
     ],
     "language": "python",
     "metadata": {},
     "outputs": [],
     "prompt_number": 132
    },
    {
     "cell_type": "code",
     "collapsed": false,
     "input": [
      "rdnewz = rd.get_new()"
     ],
     "language": "python",
     "metadata": {},
     "outputs": [],
     "prompt_number": 133
    },
    {
     "cell_type": "code",
     "collapsed": false,
     "input": [
      "rdnew = []"
     ],
     "language": "python",
     "metadata": {},
     "outputs": [],
     "prompt_number": 134
    },
    {
     "cell_type": "code",
     "collapsed": false,
     "input": [
      "for uz in rdnewz:\n",
      "    #print uz\n",
      "    rdnew.append(uz)"
     ],
     "language": "python",
     "metadata": {},
     "outputs": [
      {
       "ename": "RedirectException",
       "evalue": "Unexpected redirect from http://www.reddit.com/r/redditgetsmild/new.json to http://www.reddit.com/subreddits/search.json?q=redditgetsmild",
       "output_type": "pyerr",
       "traceback": [
        "\u001b[1;31m---------------------------------------------------------------------------\u001b[0m\n\u001b[1;31mRedirectException\u001b[0m                         Traceback (most recent call last)",
        "\u001b[1;32m<ipython-input-135-852698b2f698>\u001b[0m in \u001b[0;36m<module>\u001b[1;34m()\u001b[0m\n\u001b[1;32m----> 1\u001b[1;33m \u001b[1;32mfor\u001b[0m \u001b[0muz\u001b[0m \u001b[1;32min\u001b[0m \u001b[0mrdnewz\u001b[0m\u001b[1;33m:\u001b[0m\u001b[1;33m\u001b[0m\u001b[0m\n\u001b[0m\u001b[0;32m      2\u001b[0m     \u001b[1;31m#print uz\u001b[0m\u001b[1;33m\u001b[0m\u001b[1;33m\u001b[0m\u001b[0m\n\u001b[0;32m      3\u001b[0m     \u001b[0mrdnew\u001b[0m\u001b[1;33m.\u001b[0m\u001b[0mappend\u001b[0m\u001b[1;33m(\u001b[0m\u001b[0muz\u001b[0m\u001b[1;33m)\u001b[0m\u001b[1;33m\u001b[0m\u001b[0m\n",
        "\u001b[1;32m/usr/local/lib/python2.7/dist-packages/praw/__init__.pyc\u001b[0m in \u001b[0;36mget_content\u001b[1;34m(self, url, params, limit, place_holder, root_field, thing_field, after_field, _use_oauth, object_filter)\u001b[0m\n\u001b[0;32m    469\u001b[0m                 \u001b[0mself\u001b[0m\u001b[1;33m.\u001b[0m\u001b[0m_use_oauth\u001b[0m \u001b[1;33m=\u001b[0m \u001b[0m_use_oauth\u001b[0m  \u001b[1;31m# pylint: disable-msg=W0201\u001b[0m\u001b[1;33m\u001b[0m\u001b[0m\n\u001b[0;32m    470\u001b[0m             \u001b[1;32mtry\u001b[0m\u001b[1;33m:\u001b[0m\u001b[1;33m\u001b[0m\u001b[0m\n\u001b[1;32m--> 471\u001b[1;33m                 \u001b[0mpage_data\u001b[0m \u001b[1;33m=\u001b[0m \u001b[0mself\u001b[0m\u001b[1;33m.\u001b[0m\u001b[0mrequest_json\u001b[0m\u001b[1;33m(\u001b[0m\u001b[0murl\u001b[0m\u001b[1;33m,\u001b[0m \u001b[0mparams\u001b[0m\u001b[1;33m=\u001b[0m\u001b[0mparams\u001b[0m\u001b[1;33m)\u001b[0m\u001b[1;33m\u001b[0m\u001b[0m\n\u001b[0m\u001b[0;32m    472\u001b[0m                 \u001b[1;32mif\u001b[0m \u001b[0mobject_filter\u001b[0m\u001b[1;33m:\u001b[0m\u001b[1;33m\u001b[0m\u001b[0m\n\u001b[0;32m    473\u001b[0m                     \u001b[0mpage_data\u001b[0m \u001b[1;33m=\u001b[0m \u001b[0mpage_data\u001b[0m\u001b[1;33m[\u001b[0m\u001b[0mobject_filter\u001b[0m\u001b[1;33m]\u001b[0m\u001b[1;33m\u001b[0m\u001b[0m\n",
        "\u001b[1;32m/usr/local/lib/python2.7/dist-packages/praw/decorators.pyc\u001b[0m in \u001b[0;36mwrapped\u001b[1;34m(reddit_session, *args, **kwargs)\u001b[0m\n\u001b[0;32m    159\u001b[0m     \u001b[1;33m@\u001b[0m\u001b[0mwraps\u001b[0m\u001b[1;33m(\u001b[0m\u001b[0mfunction\u001b[0m\u001b[1;33m)\u001b[0m\u001b[1;33m\u001b[0m\u001b[0m\n\u001b[0;32m    160\u001b[0m     \u001b[1;32mdef\u001b[0m \u001b[0mwrapped\u001b[0m\u001b[1;33m(\u001b[0m\u001b[0mreddit_session\u001b[0m\u001b[1;33m,\u001b[0m \u001b[1;33m*\u001b[0m\u001b[0margs\u001b[0m\u001b[1;33m,\u001b[0m \u001b[1;33m**\u001b[0m\u001b[0mkwargs\u001b[0m\u001b[1;33m)\u001b[0m\u001b[1;33m:\u001b[0m\u001b[1;33m\u001b[0m\u001b[0m\n\u001b[1;32m--> 161\u001b[1;33m         \u001b[0mreturn_value\u001b[0m \u001b[1;33m=\u001b[0m \u001b[0mfunction\u001b[0m\u001b[1;33m(\u001b[0m\u001b[0mreddit_session\u001b[0m\u001b[1;33m,\u001b[0m \u001b[1;33m*\u001b[0m\u001b[0margs\u001b[0m\u001b[1;33m,\u001b[0m \u001b[1;33m**\u001b[0m\u001b[0mkwargs\u001b[0m\u001b[1;33m)\u001b[0m\u001b[1;33m\u001b[0m\u001b[0m\n\u001b[0m\u001b[0;32m    162\u001b[0m         \u001b[1;32mif\u001b[0m \u001b[0misinstance\u001b[0m\u001b[1;33m(\u001b[0m\u001b[0mreturn_value\u001b[0m\u001b[1;33m,\u001b[0m \u001b[0mdict\u001b[0m\u001b[1;33m)\u001b[0m\u001b[1;33m:\u001b[0m\u001b[1;33m\u001b[0m\u001b[0m\n\u001b[0;32m    163\u001b[0m             \u001b[1;32mif\u001b[0m \u001b[0mreturn_value\u001b[0m\u001b[1;33m.\u001b[0m\u001b[0mget\u001b[0m\u001b[1;33m(\u001b[0m\u001b[1;34m'error'\u001b[0m\u001b[1;33m)\u001b[0m \u001b[1;33m==\u001b[0m \u001b[1;36m304\u001b[0m\u001b[1;33m:\u001b[0m  \u001b[1;31m# Not modified exception\u001b[0m\u001b[1;33m\u001b[0m\u001b[0m\n",
        "\u001b[1;32m/usr/local/lib/python2.7/dist-packages/praw/__init__.pyc\u001b[0m in \u001b[0;36mrequest_json\u001b[1;34m(self, url, params, data, as_objects, retry_on_error)\u001b[0m\n\u001b[0;32m    507\u001b[0m         \u001b[0murl\u001b[0m \u001b[1;33m+=\u001b[0m \u001b[1;34m'.json'\u001b[0m\u001b[1;33m\u001b[0m\u001b[0m\n\u001b[0;32m    508\u001b[0m         \u001b[1;32mif\u001b[0m \u001b[0mretry_on_error\u001b[0m \u001b[1;32mis\u001b[0m \u001b[0mNone\u001b[0m\u001b[1;33m:\u001b[0m\u001b[1;33m\u001b[0m\u001b[0m\n\u001b[1;32m--> 509\u001b[1;33m             \u001b[0mresponse\u001b[0m \u001b[1;33m=\u001b[0m \u001b[0mself\u001b[0m\u001b[1;33m.\u001b[0m\u001b[0m_request\u001b[0m\u001b[1;33m(\u001b[0m\u001b[0murl\u001b[0m\u001b[1;33m,\u001b[0m \u001b[0mparams\u001b[0m\u001b[1;33m,\u001b[0m \u001b[0mdata\u001b[0m\u001b[1;33m)\u001b[0m\u001b[1;33m\u001b[0m\u001b[0m\n\u001b[0m\u001b[0;32m    510\u001b[0m         \u001b[1;32melse\u001b[0m\u001b[1;33m:\u001b[0m\u001b[1;33m\u001b[0m\u001b[0m\n\u001b[0;32m    511\u001b[0m             response = self._request(url, params, data,\n",
        "\u001b[1;32m/usr/local/lib/python2.7/dist-packages/praw/__init__.pyc\u001b[0m in \u001b[0;36m_request\u001b[1;34m(self, url, params, data, files, auth, timeout, raw_response, retry_on_error)\u001b[0m\n\u001b[0;32m    371\u001b[0m         \u001b[1;32mwhile\u001b[0m \u001b[0mTrue\u001b[0m\u001b[1;33m:\u001b[0m\u001b[1;33m\u001b[0m\u001b[0m\n\u001b[0;32m    372\u001b[0m             \u001b[1;32mtry\u001b[0m\u001b[1;33m:\u001b[0m\u001b[1;33m\u001b[0m\u001b[0m\n\u001b[1;32m--> 373\u001b[1;33m                 \u001b[0mresponse\u001b[0m \u001b[1;33m=\u001b[0m \u001b[0mhandle_redirect\u001b[0m\u001b[1;33m(\u001b[0m\u001b[1;33m)\u001b[0m\u001b[1;33m\u001b[0m\u001b[0m\n\u001b[0m\u001b[0;32m    374\u001b[0m                 \u001b[0m_raise_response_exceptions\u001b[0m\u001b[1;33m(\u001b[0m\u001b[0mresponse\u001b[0m\u001b[1;33m)\u001b[0m\u001b[1;33m\u001b[0m\u001b[0m\n\u001b[0;32m    375\u001b[0m                 \u001b[0mself\u001b[0m\u001b[1;33m.\u001b[0m\u001b[0mhttp\u001b[0m\u001b[1;33m.\u001b[0m\u001b[0mcookies\u001b[0m\u001b[1;33m.\u001b[0m\u001b[0mupdate\u001b[0m\u001b[1;33m(\u001b[0m\u001b[0mresponse\u001b[0m\u001b[1;33m.\u001b[0m\u001b[0mcookies\u001b[0m\u001b[1;33m)\u001b[0m\u001b[1;33m\u001b[0m\u001b[0m\n",
        "\u001b[1;32m/usr/local/lib/python2.7/dist-packages/praw/__init__.pyc\u001b[0m in \u001b[0;36mhandle_redirect\u001b[1;34m()\u001b[0m\n\u001b[0;32m    345\u001b[0m                                                 \u001b[0mproxies\u001b[0m\u001b[1;33m=\u001b[0m\u001b[0mself\u001b[0m\u001b[1;33m.\u001b[0m\u001b[0mhttp\u001b[0m\u001b[1;33m.\u001b[0m\u001b[0mproxies\u001b[0m\u001b[1;33m,\u001b[0m\u001b[1;33m\u001b[0m\u001b[0m\n\u001b[0;32m    346\u001b[0m                                                 timeout=timeout, **kwargs)\n\u001b[1;32m--> 347\u001b[1;33m                 \u001b[0murl\u001b[0m \u001b[1;33m=\u001b[0m \u001b[0m_raise_redirect_exceptions\u001b[0m\u001b[1;33m(\u001b[0m\u001b[0mresponse\u001b[0m\u001b[1;33m)\u001b[0m\u001b[1;33m\u001b[0m\u001b[0m\n\u001b[0m\u001b[0;32m    348\u001b[0m             \u001b[1;32mreturn\u001b[0m \u001b[0mresponse\u001b[0m\u001b[1;33m\u001b[0m\u001b[0m\n\u001b[0;32m    349\u001b[0m \u001b[1;33m\u001b[0m\u001b[0m\n",
        "\u001b[1;32m/usr/local/lib/python2.7/dist-packages/praw/internal.pyc\u001b[0m in \u001b[0;36m_raise_redirect_exceptions\u001b[1;34m(response)\u001b[0m\n\u001b[0;32m    157\u001b[0m                                .format(subreddit))\n\u001b[0;32m    158\u001b[0m     \u001b[1;32melif\u001b[0m \u001b[1;34m'random'\u001b[0m \u001b[1;32mnot\u001b[0m \u001b[1;32min\u001b[0m \u001b[0mresponse\u001b[0m\u001b[1;33m.\u001b[0m\u001b[0murl\u001b[0m\u001b[1;33m:\u001b[0m\u001b[1;33m\u001b[0m\u001b[0m\n\u001b[1;32m--> 159\u001b[1;33m         \u001b[1;32mraise\u001b[0m \u001b[0mRedirectException\u001b[0m\u001b[1;33m(\u001b[0m\u001b[0mresponse\u001b[0m\u001b[1;33m.\u001b[0m\u001b[0murl\u001b[0m\u001b[1;33m,\u001b[0m \u001b[0mnew_url\u001b[0m\u001b[1;33m)\u001b[0m\u001b[1;33m\u001b[0m\u001b[0m\n\u001b[0m\u001b[0;32m    160\u001b[0m     \u001b[1;32mreturn\u001b[0m \u001b[0mnew_url\u001b[0m\u001b[1;33m\u001b[0m\u001b[0m\n\u001b[0;32m    161\u001b[0m \u001b[1;33m\u001b[0m\u001b[0m\n",
        "\u001b[1;31mRedirectException\u001b[0m: Unexpected redirect from http://www.reddit.com/r/redditgetsmild/new.json to http://www.reddit.com/subreddits/search.json?q=redditgetsmild"
       ]
      }
     ],
     "prompt_number": 135
    },
    {
     "cell_type": "code",
     "collapsed": false,
     "input": [
      "rd.get_top"
     ],
     "language": "python",
     "metadata": {},
     "outputs": [
      {
       "metadata": {},
       "output_type": "pyout",
       "prompt_number": 136,
       "text": [
        "<bound method Subreddit._sorted of Subreddit(display_name='redditgetsmild')>"
       ]
      }
     ],
     "prompt_number": 136
    },
    {
     "cell_type": "code",
     "collapsed": false,
     "input": [
      "linkdict = {}"
     ],
     "language": "python",
     "metadata": {},
     "outputs": [],
     "prompt_number": 137
    },
    {
     "cell_type": "code",
     "collapsed": false,
     "input": [
      "for newa in rdnew:\n",
      "    #rint newa.url\n",
      "    #print newa.author\n",
      "    linkdict.update({str(newa.author): str(newa.url)})"
     ],
     "language": "python",
     "metadata": {},
     "outputs": [],
     "prompt_number": 138
    },
    {
     "cell_type": "code",
     "collapsed": false,
     "input": [
      "import json"
     ],
     "language": "python",
     "metadata": {},
     "outputs": [],
     "prompt_number": 139
    },
    {
     "cell_type": "code",
     "collapsed": false,
     "input": [
      "newzjson = json.dumps(linkdict)"
     ],
     "language": "python",
     "metadata": {},
     "outputs": [],
     "prompt_number": 140
    },
    {
     "cell_type": "code",
     "collapsed": false,
     "input": [
      "newzjson"
     ],
     "language": "python",
     "metadata": {},
     "outputs": [
      {
       "metadata": {},
       "output_type": "pyout",
       "prompt_number": 141,
       "text": [
        "'{}'"
       ]
      }
     ],
     "prompt_number": 141
    },
    {
     "cell_type": "code",
     "collapsed": false,
     "input": [],
     "language": "python",
     "metadata": {},
     "outputs": [],
     "prompt_number": 141
    },
    {
     "cell_type": "code",
     "collapsed": false,
     "input": [
      "newposts = open('userurl.json', 'a')\n",
      "newposts.write(newzjson)\n",
      "print 'file userurl.json updated'\n",
      "newposts.close()"
     ],
     "language": "python",
     "metadata": {},
     "outputs": [
      {
       "output_type": "stream",
       "stream": "stdout",
       "text": [
        "file userurl.json updated\n"
       ]
      }
     ],
     "prompt_number": 142
    },
    {
     "cell_type": "code",
     "collapsed": false,
     "input": [
      "rmine = r.get_redditor('itwillbemine')\n"
     ],
     "language": "python",
     "metadata": {},
     "outputs": [],
     "prompt_number": 174
    },
    {
     "cell_type": "code",
     "collapsed": false,
     "input": [
      "#opest = open('userurl.json', 'r')\n",
      "#opest.read()\n",
      "#opest.close()"
     ],
     "language": "python",
     "metadata": {},
     "outputs": [],
     "prompt_number": 175
    },
    {
     "cell_type": "code",
     "collapsed": false,
     "input": [
      "mincom = rmine.get_comments()"
     ],
     "language": "python",
     "metadata": {},
     "outputs": [],
     "prompt_number": 176
    },
    {
     "cell_type": "code",
     "collapsed": false,
     "input": [
      "print mincom"
     ],
     "language": "python",
     "metadata": {},
     "outputs": [
      {
       "output_type": "stream",
       "stream": "stdout",
       "text": [
        "<generator object get_content at 0x7f28c40a8910>\n"
       ]
      }
     ],
     "prompt_number": 177
    },
    {
     "cell_type": "code",
     "collapsed": false,
     "input": [
      "minels = []"
     ],
     "language": "python",
     "metadata": {},
     "outputs": [],
     "prompt_number": 178
    },
    {
     "cell_type": "code",
     "collapsed": false,
     "input": [
      "for con in mincom:\n",
      "    print con\n",
      "    minels.append(con)"
     ],
     "language": "python",
     "metadata": {},
     "outputs": [
      {
       "output_type": "stream",
       "stream": "stdout",
       "text": [
        "Amazing job! Just incredible!\n",
        "No problem, thank you!\n",
        "Thank you for contributing! :)\n",
        "These are great, but per our rules, you are only supposed to submit art that ...\n",
        "Your comment was removed for not containing art, and comments on appearance a...\n",
        "Welcome! I'm really glad you came by! :) These are incredible. \n",
        "So glad you're here! I loved the texture of the piece of yours that I chose -...\n",
        "Comment removed; funtime is over.\n",
        "This conversation has taken an overwhelmingly predictable turn. &lt;cocks sho...\n",
        "&gt; your physique definitely makes you look like a badass warrior.\n",
        "\n",
        "Thank yo...\n",
        "Do not argue with a mod in a thread. That's the second rule you've broken.\n",
        "Filtered/manipulated images are removed. Please read our rules.\n",
        "Last warning to acknowledge the artists who have given you these gifts...\n",
        "You're awesome, too!\n",
        "\n",
        "(in case you didn't know) :D\n",
        "&lt;3 &lt;3 &lt;3\n",
        "Yay, then you're in the right place!\n",
        "Thanks for your honesty. While that technically fits our rules, please note t...\n",
        "Maybe sometime they will.\n",
        "\n",
        "Oops....did I just do it again? :D\n",
        "Aaaand you were warned before. Banned it is!\n",
        "\n",
        "http://www.reddit.com/r/redditg...\n",
        "And again:\n",
        "\n",
        "http://www.reddit.com/r/redditgetsdrawn/comments/23kaql/this_is_m...\n",
        "Deleting your posts and reposting are both against our sub rules. Be careful,...\n",
        "Noice!\n",
        "Posting, deleting, reposting, frequent posting. Banned.\n",
        "\n",
        "http://www.reddit.co...\n",
        "It had not been three days at the time of the other mod's comment. We know wh...\n",
        "Shhhh....you're okay.\n"
       ]
      }
     ],
     "prompt_number": 179
    },
    {
     "cell_type": "code",
     "collapsed": false,
     "input": [
      "minels"
     ],
     "language": "python",
     "metadata": {},
     "outputs": [
      {
       "metadata": {},
       "output_type": "pyout",
       "prompt_number": 180,
       "text": [
        "[<praw.objects.Comment at 0x7f28c40b7450>,\n",
        " <praw.objects.Comment at 0x7f28c40b7950>,\n",
        " <praw.objects.Comment at 0x7f28c40b7a50>,\n",
        " <praw.objects.Comment at 0x7f28c40b7b50>,\n",
        " <praw.objects.Comment at 0x7f28c40b7c50>,\n",
        " <praw.objects.Comment at 0x7f28c40b7d50>,\n",
        " <praw.objects.Comment at 0x7f28c40b7e50>,\n",
        " <praw.objects.Comment at 0x7f28c40b7f50>,\n",
        " <praw.objects.Comment at 0x7f28c40c2090>,\n",
        " <praw.objects.Comment at 0x7f28c40c2190>,\n",
        " <praw.objects.Comment at 0x7f28c40c2290>,\n",
        " <praw.objects.Comment at 0x7f28c40c2390>,\n",
        " <praw.objects.Comment at 0x7f28c40c2490>,\n",
        " <praw.objects.Comment at 0x7f28c40c2590>,\n",
        " <praw.objects.Comment at 0x7f28c40c2690>,\n",
        " <praw.objects.Comment at 0x7f28c40c2790>,\n",
        " <praw.objects.Comment at 0x7f28c40c28d0>,\n",
        " <praw.objects.Comment at 0x7f28c40c29d0>,\n",
        " <praw.objects.Comment at 0x7f28c40c2ad0>,\n",
        " <praw.objects.Comment at 0x7f28c40c2bd0>,\n",
        " <praw.objects.Comment at 0x7f28c40c2cd0>,\n",
        " <praw.objects.Comment at 0x7f28c40c2dd0>,\n",
        " <praw.objects.Comment at 0x7f28c40c2ed0>,\n",
        " <praw.objects.Comment at 0x7f28c40c2fd0>,\n",
        " <praw.objects.Comment at 0x7f28c40e0110>]"
       ]
      }
     ],
     "prompt_number": 180
    },
    {
     "cell_type": "code",
     "collapsed": false,
     "input": [
      "minelsz = []"
     ],
     "language": "python",
     "metadata": {},
     "outputs": [],
     "prompt_number": 183
    },
    {
     "cell_type": "code",
     "collapsed": false,
     "input": [],
     "language": "python",
     "metadata": {},
     "outputs": []
    },
    {
     "cell_type": "code",
     "collapsed": false,
     "input": [
      "for mina in minels:\n",
      "    print mina.body\n",
      "    minelsz.append(mina.body)"
     ],
     "language": "python",
     "metadata": {},
     "outputs": [
      {
       "output_type": "stream",
       "stream": "stdout",
       "text": [
        "Amazing job! Just incredible!\n",
        "No problem, thank you!\n",
        "Thank you for contributing! :)\n",
        "These are great, but per our rules, you are only supposed to submit art that is relevant to the OP of a thread. So whichever one is extra should not be included. Just FYI for future reference. Thanks!\n",
        "Your comment was removed for not containing art, and comments on appearance are prohibited in this sub. Please read our rules before participating.\n",
        "Welcome! I'm really glad you came by! :) These are incredible. \n",
        "So glad you're here! I loved the texture of the piece of yours that I chose - so soft and glowy and lovely! :)\n",
        "Comment removed; funtime is over.\n",
        "This conversation has taken an overwhelmingly predictable turn. &lt;cocks shotgun&gt;\n",
        "&gt; your physique definitely makes you look like a badass warrior.\n",
        "\n",
        "Thank you for contributing! Remember per our rules to please not make any comments on the appearance of submitters, no matter how neutral, offhand, or small the comment is. Thanks! :)\n",
        "\n",
        "\n",
        "Do not argue with a mod in a thread. That's the second rule you've broken.\n",
        "Filtered/manipulated images are removed. Please read our rules.\n",
        "Last warning to acknowledge the artists who have given you these gifts...\n",
        "You're awesome, too!\n",
        "\n",
        "(in case you didn't know) :D\n",
        "&lt;3 &lt;3 &lt;3\n",
        "Yay, then you're in the right place!\n",
        "Thanks for your honesty. While that technically fits our rules, please note that we prefer to see more drawing than filtering. Thanks!\n",
        "Maybe sometime they will.\n",
        "\n",
        "Oops....did I just do it again? :D\n",
        "Aaaand you were warned before. Banned it is!\n",
        "\n",
        "http://www.reddit.com/r/redditgetsdrawn/comments/23lrlx/this_is_my_favorite_picture_of_my_dad_and_i_from/\n",
        "And again:\n",
        "\n",
        "http://www.reddit.com/r/redditgetsdrawn/comments/23kaql/this_is_my_favorite_picture_of_my_dad_and_i_from/\n",
        "Deleting your posts and reposting are both against our sub rules. Be careful, or it will earn you a ban. This post was removed.\n",
        "\n",
        "http://www.reddit.com/r/redditgetsdrawn/comments/23ggti/this_is_my_favorite_picture_of_my_dad_and_i_from/\n",
        "Noice!\n",
        "Posting, deleting, reposting, frequent posting. Banned.\n",
        "\n",
        "http://www.reddit.com/r/redditgetsdrawn/comments/27jc9g/would_anyone_care_to_draw_the_moment_we_fell_in/\n",
        "\n",
        "It had not been three days at the time of the other mod's comment. We know what we're doing; thanks.\n",
        "Shhhh....you're okay.\n"
       ]
      }
     ],
     "prompt_number": 184
    },
    {
     "cell_type": "code",
     "collapsed": false,
     "input": [
      "minelsz"
     ],
     "language": "python",
     "metadata": {},
     "outputs": [
      {
       "metadata": {},
       "output_type": "pyout",
       "prompt_number": 185,
       "text": [
        "[u'Amazing job! Just incredible!',\n",
        " u'No problem, thank you!',\n",
        " u'Thank you for contributing! :)',\n",
        " u'These are great, but per our rules, you are only supposed to submit art that is relevant to the OP of a thread. So whichever one is extra should not be included. Just FYI for future reference. Thanks!',\n",
        " u'Your comment was removed for not containing art, and comments on appearance are prohibited in this sub. Please read our rules before participating.',\n",
        " u\"Welcome! I'm really glad you came by! :) These are incredible. \",\n",
        " u\"So glad you're here! I loved the texture of the piece of yours that I chose - so soft and glowy and lovely! :)\",\n",
        " u'Comment removed; funtime is over.',\n",
        " u'This conversation has taken an overwhelmingly predictable turn. &lt;cocks shotgun&gt;',\n",
        " u'&gt; your physique definitely makes you look like a badass warrior.\\n\\nThank you for contributing! Remember per our rules to please not make any comments on the appearance of submitters, no matter how neutral, offhand, or small the comment is. Thanks! :)\\n\\n',\n",
        " u\"Do not argue with a mod in a thread. That's the second rule you've broken.\",\n",
        " u'Filtered/manipulated images are removed. Please read our rules.',\n",
        " u'Last warning to acknowledge the artists who have given you these gifts...',\n",
        " u\"You're awesome, too!\\n\\n(in case you didn't know) :D\",\n",
        " u'&lt;3 &lt;3 &lt;3',\n",
        " u\"Yay, then you're in the right place!\",\n",
        " u'Thanks for your honesty. While that technically fits our rules, please note that we prefer to see more drawing than filtering. Thanks!',\n",
        " u'Maybe sometime they will.\\n\\nOops....did I just do it again? :D',\n",
        " u'Aaaand you were warned before. Banned it is!\\n\\nhttp://www.reddit.com/r/redditgetsdrawn/comments/23lrlx/this_is_my_favorite_picture_of_my_dad_and_i_from/',\n",
        " u'And again:\\n\\nhttp://www.reddit.com/r/redditgetsdrawn/comments/23kaql/this_is_my_favorite_picture_of_my_dad_and_i_from/',\n",
        " u'Deleting your posts and reposting are both against our sub rules. Be careful, or it will earn you a ban. This post was removed.\\n\\nhttp://www.reddit.com/r/redditgetsdrawn/comments/23ggti/this_is_my_favorite_picture_of_my_dad_and_i_from/',\n",
        " u'Noice!',\n",
        " u'Posting, deleting, reposting, frequent posting. Banned.\\n\\nhttp://www.reddit.com/r/redditgetsdrawn/comments/27jc9g/would_anyone_care_to_draw_the_moment_we_fell_in/\\n',\n",
        " u\"It had not been three days at the time of the other mod's comment. We know what we're doing; thanks.\",\n",
        " u\"Shhhh....you're okay.\"]"
       ]
      }
     ],
     "prompt_number": 185
    },
    {
     "cell_type": "code",
     "collapsed": false,
     "input": [
      "mina.body"
     ],
     "language": "python",
     "metadata": {},
     "outputs": [
      {
       "metadata": {},
       "output_type": "pyout",
       "prompt_number": 182,
       "text": [
        "u\"Shhhh....you're okay.\""
       ]
      }
     ],
     "prompt_number": 182
    },
    {
     "cell_type": "code",
     "collapsed": false,
     "input": [],
     "language": "python",
     "metadata": {},
     "outputs": []
    }
   ],
   "metadata": {}
  }
 ]
}