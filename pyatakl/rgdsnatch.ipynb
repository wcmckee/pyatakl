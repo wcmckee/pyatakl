{
 "metadata": {
  "name": "",
  "signature": "sha256:edf021ef4dc43908ba78306905a5760dac38de72caf91f89cd398c0a0dec0ecb"
 },
 "nbformat": 3,
 "nbformat_minor": 0,
 "worksheets": [
  {
   "cells": [
    {
     "cell_type": "heading",
     "level": 4,
     "metadata": {},
     "source": [
      "rgdsnatch: script to get post data from RedditGetsDrawn and post to artcontroldrawsyou"
     ]
    },
    {
     "cell_type": "code",
     "collapsed": false,
     "input": [
      "import os\n",
      "import random\n",
      "import requests\n",
      "import re\n",
      "import json\n",
      "import praw"
     ],
     "language": "python",
     "metadata": {},
     "outputs": [],
     "prompt_number": 433
    },
    {
     "cell_type": "code",
     "collapsed": false,
     "input": [
      "os.chdir('/home/wcmckee/rgd')"
     ],
     "language": "python",
     "metadata": {},
     "outputs": [],
     "prompt_number": 434
    },
    {
     "cell_type": "code",
     "collapsed": false,
     "input": [
      "r = praw.Reddit(user_agent='rgdsnatch')"
     ],
     "language": "python",
     "metadata": {},
     "outputs": [],
     "prompt_number": 435
    },
    {
     "cell_type": "code",
     "collapsed": false,
     "input": [
      "r.login('artcontrol', 'newfile123')"
     ],
     "language": "python",
     "metadata": {},
     "outputs": [],
     "prompt_number": 496
    },
    {
     "cell_type": "code",
     "collapsed": false,
     "input": [
      "usrd = r.get_my_subreddits()"
     ],
     "language": "python",
     "metadata": {},
     "outputs": [],
     "prompt_number": 497
    },
    {
     "cell_type": "code",
     "collapsed": false,
     "input": [
      "suls = []"
     ],
     "language": "python",
     "metadata": {},
     "outputs": [],
     "prompt_number": 438
    },
    {
     "cell_type": "code",
     "collapsed": false,
     "input": [
      "for subs in usrd:\n",
      "    print subs\n",
      "    suls.append(subs)"
     ],
     "language": "python",
     "metadata": {},
     "outputs": [
      {
       "output_type": "stream",
       "stream": "stdout",
       "text": [
        "todayilearned\n",
        "blog\n",
        "science\n",
        "IAmA\n",
        "videos\n",
        "technology\n",
        "bestof\n",
        "askscience\n",
        "books\n",
        "television\n",
        "food\n",
        "photoshopbattles\n",
        "trees\n",
        "GetMotivated\n",
        "programming\n",
        "listentothis\n",
        "Documentaries\n",
        "Art\n",
        "Android\n",
        "gameofthrones\n",
        "Minecraft\n",
        "comics\n",
        "skyrim\n",
        "breakingbad\n",
        "buildapc\n"
       ]
      }
     ],
     "prompt_number": 439
    },
    {
     "cell_type": "code",
     "collapsed": false,
     "input": [
      "suls"
     ],
     "language": "python",
     "metadata": {},
     "outputs": [
      {
       "metadata": {},
       "output_type": "pyout",
       "prompt_number": 440,
       "text": [
        "[Subreddit(display_name='todayilearned'),\n",
        " Subreddit(display_name='blog'),\n",
        " Subreddit(display_name='science'),\n",
        " Subreddit(display_name='IAmA'),\n",
        " Subreddit(display_name='videos'),\n",
        " Subreddit(display_name='technology'),\n",
        " Subreddit(display_name='bestof'),\n",
        " Subreddit(display_name='askscience'),\n",
        " Subreddit(display_name='books'),\n",
        " Subreddit(display_name='television'),\n",
        " Subreddit(display_name='food'),\n",
        " Subreddit(display_name='photoshopbattles'),\n",
        " Subreddit(display_name='trees'),\n",
        " Subreddit(display_name='GetMotivated'),\n",
        " Subreddit(display_name='programming'),\n",
        " Subreddit(display_name='listentothis'),\n",
        " Subreddit(display_name='Documentaries'),\n",
        " Subreddit(display_name='Art'),\n",
        " Subreddit(display_name='Android'),\n",
        " Subreddit(display_name='gameofthrones'),\n",
        " Subreddit(display_name='Minecraft'),\n",
        " Subreddit(display_name='comics'),\n",
        " Subreddit(display_name='skyrim'),\n",
        " Subreddit(display_name='breakingbad'),\n",
        " Subreddit(display_name='buildapc')]"
       ]
      }
     ],
     "prompt_number": 440
    },
    {
     "cell_type": "code",
     "collapsed": false,
     "input": [
      "lesuls = len(suls)\n",
      "\n",
      "ransuz = random.randint(0, lesuls)\n",
      "\n",
      "thesubraz = suls[ransuz]"
     ],
     "language": "python",
     "metadata": {},
     "outputs": [],
     "prompt_number": 441
    },
    {
     "cell_type": "code",
     "collapsed": false,
     "input": [
      "suls"
     ],
     "language": "python",
     "metadata": {},
     "outputs": [
      {
       "metadata": {},
       "output_type": "pyout",
       "prompt_number": 442,
       "text": [
        "[Subreddit(display_name='todayilearned'),\n",
        " Subreddit(display_name='blog'),\n",
        " Subreddit(display_name='science'),\n",
        " Subreddit(display_name='IAmA'),\n",
        " Subreddit(display_name='videos'),\n",
        " Subreddit(display_name='technology'),\n",
        " Subreddit(display_name='bestof'),\n",
        " Subreddit(display_name='askscience'),\n",
        " Subreddit(display_name='books'),\n",
        " Subreddit(display_name='television'),\n",
        " Subreddit(display_name='food'),\n",
        " Subreddit(display_name='photoshopbattles'),\n",
        " Subreddit(display_name='trees'),\n",
        " Subreddit(display_name='GetMotivated'),\n",
        " Subreddit(display_name='programming'),\n",
        " Subreddit(display_name='listentothis'),\n",
        " Subreddit(display_name='Documentaries'),\n",
        " Subreddit(display_name='Art'),\n",
        " Subreddit(display_name='Android'),\n",
        " Subreddit(display_name='gameofthrones'),\n",
        " Subreddit(display_name='Minecraft'),\n",
        " Subreddit(display_name='comics'),\n",
        " Subreddit(display_name='skyrim'),\n",
        " Subreddit(display_name='breakingbad'),\n",
        " Subreddit(display_name='buildapc')]"
       ]
      }
     ],
     "prompt_number": 442
    },
    {
     "cell_type": "code",
     "collapsed": false,
     "input": [
      "print thesubraz"
     ],
     "language": "python",
     "metadata": {},
     "outputs": [
      {
       "output_type": "stream",
       "stream": "stdout",
       "text": [
        "buildapc\n"
       ]
      }
     ],
     "prompt_number": 443
    },
    {
     "cell_type": "code",
     "collapsed": false,
     "input": [
      "rd = r.get_subreddit('redditgetsdrawn')"
     ],
     "language": "python",
     "metadata": {},
     "outputs": [],
     "prompt_number": 444
    },
    {
     "cell_type": "code",
     "collapsed": false,
     "input": [
      "rdnewz = rd.get_new()"
     ],
     "language": "python",
     "metadata": {},
     "outputs": [],
     "prompt_number": 445
    },
    {
     "cell_type": "code",
     "collapsed": false,
     "input": [
      "rdnew = []"
     ],
     "language": "python",
     "metadata": {},
     "outputs": [],
     "prompt_number": 446
    },
    {
     "cell_type": "code",
     "collapsed": false,
     "input": [
      "rdnew"
     ],
     "language": "python",
     "metadata": {},
     "outputs": [
      {
       "metadata": {},
       "output_type": "pyout",
       "prompt_number": 447,
       "text": [
        "[]"
       ]
      }
     ],
     "prompt_number": 447
    },
    {
     "cell_type": "code",
     "collapsed": false,
     "input": [
      "for uz in rdnewz:\n",
      "    #print uz\n",
      "    rdnew.append(uz)"
     ],
     "language": "python",
     "metadata": {},
     "outputs": [],
     "prompt_number": 448
    },
    {
     "cell_type": "code",
     "collapsed": false,
     "input": [
      "rdnew"
     ],
     "language": "python",
     "metadata": {},
     "outputs": [
      {
       "metadata": {},
       "output_type": "pyout",
       "prompt_number": 449,
       "text": [
        "[<praw.objects.Submission at 0x7f0e8436b610>,\n",
        " <praw.objects.Submission at 0x7f0e8436b6d0>,\n",
        " <praw.objects.Submission at 0x7f0e8436b790>,\n",
        " <praw.objects.Submission at 0x7f0e84373110>,\n",
        " <praw.objects.Submission at 0x7f0e8436b890>,\n",
        " <praw.objects.Submission at 0x7f0e8436b950>,\n",
        " <praw.objects.Submission at 0x7f0e8436ba50>,\n",
        " <praw.objects.Submission at 0x7f0e8436bb10>,\n",
        " <praw.objects.Submission at 0x7f0e8436bbd0>,\n",
        " <praw.objects.Submission at 0x7f0e8436bc90>,\n",
        " <praw.objects.Submission at 0x7f0e8436bd50>,\n",
        " <praw.objects.Submission at 0x7f0e8436be10>,\n",
        " <praw.objects.Submission at 0x7f0e8436bed0>,\n",
        " <praw.objects.Submission at 0x7f0e8436bf90>,\n",
        " <praw.objects.Submission at 0x7f0e8440b090>,\n",
        " <praw.objects.Submission at 0x7f0e8436b690>,\n",
        " <praw.objects.Submission at 0x7f0e8440b210>,\n",
        " <praw.objects.Submission at 0x7f0e8440b310>,\n",
        " <praw.objects.Submission at 0x7f0e8440b410>,\n",
        " <praw.objects.Submission at 0x7f0e8440b4d0>,\n",
        " <praw.objects.Submission at 0x7f0e8440b590>,\n",
        " <praw.objects.Submission at 0x7f0e8440b650>,\n",
        " <praw.objects.Submission at 0x7f0e8440b710>,\n",
        " <praw.objects.Submission at 0x7f0e8440b7d0>,\n",
        " <praw.objects.Submission at 0x7f0e8440b850>]"
       ]
      }
     ],
     "prompt_number": 449
    },
    {
     "cell_type": "code",
     "collapsed": false,
     "input": [
      "ransubz = random.randint(0,24)"
     ],
     "language": "python",
     "metadata": {},
     "outputs": [],
     "prompt_number": 450
    },
    {
     "cell_type": "code",
     "collapsed": false,
     "input": [
      "print ransubz"
     ],
     "language": "python",
     "metadata": {},
     "outputs": [
      {
       "output_type": "stream",
       "stream": "stdout",
       "text": [
        "10\n"
       ]
      }
     ],
     "prompt_number": 451
    },
    {
     "cell_type": "code",
     "collapsed": false,
     "input": [
      "ransev = rdnew[ransubz]"
     ],
     "language": "python",
     "metadata": {},
     "outputs": [],
     "prompt_number": 452
    },
    {
     "cell_type": "code",
     "collapsed": false,
     "input": [
      "rgdautoz = str(ransev.author)\n"
     ],
     "language": "python",
     "metadata": {},
     "outputs": [],
     "prompt_number": 453
    },
    {
     "cell_type": "code",
     "collapsed": false,
     "input": [
      "rgdsubred = str(ransev.subreddit)"
     ],
     "language": "python",
     "metadata": {},
     "outputs": [],
     "prompt_number": 454
    },
    {
     "cell_type": "code",
     "collapsed": false,
     "input": [
      "sutit = ('[' + rgdsubred + ']')"
     ],
     "language": "python",
     "metadata": {},
     "outputs": [],
     "prompt_number": 455
    },
    {
     "cell_type": "code",
     "collapsed": false,
     "input": [
      "sutit"
     ],
     "language": "python",
     "metadata": {},
     "outputs": [
      {
       "metadata": {},
       "output_type": "pyout",
       "prompt_number": 456,
       "text": [
        "'[buildapc]'"
       ]
      }
     ],
     "prompt_number": 456
    },
    {
     "cell_type": "code",
     "collapsed": false,
     "input": [
      "rgdaqwew = ('[RGD]' + rgdautoz)"
     ],
     "language": "python",
     "metadata": {},
     "outputs": [],
     "prompt_number": 457
    },
    {
     "cell_type": "code",
     "collapsed": false,
     "input": [
      "rgdaturo = str(ransev.url)"
     ],
     "language": "python",
     "metadata": {},
     "outputs": [],
     "prompt_number": 458
    },
    {
     "cell_type": "code",
     "collapsed": false,
     "input": [
      "rgdatit = str(ransev.title)"
     ],
     "language": "python",
     "metadata": {},
     "outputs": [],
     "prompt_number": 459
    },
    {
     "cell_type": "code",
     "collapsed": false,
     "input": [
      "rgdatit"
     ],
     "language": "python",
     "metadata": {},
     "outputs": [
      {
       "metadata": {},
       "output_type": "pyout",
       "prompt_number": 460,
       "text": [
        "'[Build Help] Currently ~$950 Gaming Rig. Should I change anything?'"
       ]
      }
     ],
     "prompt_number": 460
    },
    {
     "cell_type": "code",
     "collapsed": false,
     "input": [
      "#rd.get_top"
     ],
     "language": "python",
     "metadata": {},
     "outputs": [],
     "prompt_number": 461
    },
    {
     "cell_type": "code",
     "collapsed": false,
     "input": [
      "linkdict = {}"
     ],
     "language": "python",
     "metadata": {},
     "outputs": [],
     "prompt_number": 462
    },
    {
     "cell_type": "code",
     "collapsed": false,
     "input": [
      "ophtml = open('index.html', 'w')"
     ],
     "language": "python",
     "metadata": {},
     "outputs": [],
     "prompt_number": 463
    },
    {
     "cell_type": "code",
     "collapsed": false,
     "input": [],
     "language": "python",
     "metadata": {},
     "outputs": [],
     "prompt_number": 463
    },
    {
     "cell_type": "code",
     "collapsed": false,
     "input": [
      "ady = r.get_subreddit('artcontroldrawsyou')"
     ],
     "language": "python",
     "metadata": {},
     "outputs": [],
     "prompt_number": 464
    },
    {
     "cell_type": "code",
     "collapsed": false,
     "input": [
      "comrgd =  rgdatit + ' ' + rgdaturo"
     ],
     "language": "python",
     "metadata": {},
     "outputs": [],
     "prompt_number": 465
    },
    {
     "cell_type": "code",
     "collapsed": false,
     "input": [
      "comrgd"
     ],
     "language": "python",
     "metadata": {},
     "outputs": [
      {
       "metadata": {},
       "output_type": "pyout",
       "prompt_number": 466,
       "text": [
        "'[Build Help] Currently ~$950 Gaming Rig. Should I change anything? http://www.reddit.com/r/buildapc/comments/285nmq/build_help_currently_950_gaming_rig_should_i/'"
       ]
      }
     ],
     "prompt_number": 466
    },
    {
     "cell_type": "code",
     "collapsed": false,
     "input": [
      "import time"
     ],
     "language": "python",
     "metadata": {},
     "outputs": [],
     "prompt_number": 467
    },
    {
     "cell_type": "code",
     "collapsed": false,
     "input": [
      "loctime = time.localtime()"
     ],
     "language": "python",
     "metadata": {},
     "outputs": [],
     "prompt_number": 468
    },
    {
     "cell_type": "code",
     "collapsed": false,
     "input": [
      "loctime.tm_mday"
     ],
     "language": "python",
     "metadata": {},
     "outputs": [
      {
       "metadata": {},
       "output_type": "pyout",
       "prompt_number": 469,
       "text": [
        "14"
       ]
      }
     ],
     "prompt_number": 469
    },
    {
     "cell_type": "code",
     "collapsed": false,
     "input": [
      "loctime.tm_mon"
     ],
     "language": "python",
     "metadata": {},
     "outputs": [
      {
       "metadata": {},
       "output_type": "pyout",
       "prompt_number": 470,
       "text": [
        "6"
       ]
      }
     ],
     "prompt_number": 470
    },
    {
     "cell_type": "code",
     "collapsed": false,
     "input": [
      "thedat = (str(loctime.tm_mday) + '/' + str(loctime.tm_mon))"
     ],
     "language": "python",
     "metadata": {},
     "outputs": [],
     "prompt_number": 471
    },
    {
     "cell_type": "code",
     "collapsed": false,
     "input": [
      "thedat"
     ],
     "language": "python",
     "metadata": {},
     "outputs": [
      {
       "metadata": {},
       "output_type": "pyout",
       "prompt_number": 472,
       "text": [
        "'14/6'"
       ]
      }
     ],
     "prompt_number": 472
    },
    {
     "cell_type": "code",
     "collapsed": false,
     "input": [
      "mixtut = (thedat + sutit + rgdautoz)"
     ],
     "language": "python",
     "metadata": {},
     "outputs": [],
     "prompt_number": 473
    },
    {
     "cell_type": "code",
     "collapsed": false,
     "input": [
      "loctime"
     ],
     "language": "python",
     "metadata": {},
     "outputs": [
      {
       "metadata": {},
       "output_type": "pyout",
       "prompt_number": 474,
       "text": [
        "time.struct_time(tm_year=2014, tm_mon=6, tm_mday=14, tm_hour=21, tm_min=24, tm_sec=52, tm_wday=5, tm_yday=165, tm_isdst=0)"
       ]
      }
     ],
     "prompt_number": 474
    },
    {
     "cell_type": "code",
     "collapsed": false,
     "input": [
      "ady.submit(mixtut , (rgdaqwew, comrgd))"
     ],
     "language": "python",
     "metadata": {},
     "outputs": [
      {
       "metadata": {},
       "output_type": "pyout",
       "prompt_number": 475,
       "text": [
        "<praw.objects.Submission at 0x7f0e843de1d0>"
       ]
      }
     ],
     "prompt_number": 475
    },
    {
     "cell_type": "raw",
     "metadata": {},
     "source": [
      "for newa in rdnew:\n",
      "    #rint newa.url\n",
      "    print len(newa)\n",
      "    htmstr = (str(newa.title) + '<a href=\"' + \n",
      "                 str(newa.url) + \n",
      "                 '\"><img class=\"aligncenter size-large wp-image-5723\" alt=\"' +\n",
      "                 str(newa.author) +\n",
      "                 '\" src=\"' + \n",
      "                 str(newa.url) + \n",
      "                 '\" /></a>')\n",
      "    #ophtml.write(htmstr)\n",
      "    #ady.submit(('[RGD]' + newa.author), newa.url)\n",
      "    print newa.author\n",
      "    #print newa.media\n",
      "    ophtml.write(htmstr)\n",
      "    print newa.selftext\n",
      "    print newa.title\n",
      "    print newa.url\n",
      "    print newa.num_comments\n",
      "    \n",
      "    linkdict.update({str(newa.author): str(newa.url)})\n"
     ]
    },
    {
     "cell_type": "code",
     "collapsed": false,
     "input": [
      "#print str(newa.title)"
     ],
     "language": "python",
     "metadata": {},
     "outputs": [],
     "prompt_number": 476
    },
    {
     "cell_type": "code",
     "collapsed": false,
     "input": [
      "import json"
     ],
     "language": "python",
     "metadata": {},
     "outputs": [],
     "prompt_number": 477
    },
    {
     "cell_type": "code",
     "collapsed": false,
     "input": [
      "newzjson = json.dumps(linkdict)"
     ],
     "language": "python",
     "metadata": {},
     "outputs": [],
     "prompt_number": 478
    },
    {
     "cell_type": "code",
     "collapsed": false,
     "input": [
      "#newzjson"
     ],
     "language": "python",
     "metadata": {},
     "outputs": [],
     "prompt_number": 479
    },
    {
     "cell_type": "code",
     "collapsed": false,
     "input": [],
     "language": "python",
     "metadata": {},
     "outputs": [],
     "prompt_number": 479
    },
    {
     "cell_type": "code",
     "collapsed": false,
     "input": [
      "rmine = r.get_redditor('itwillbemine')\n"
     ],
     "language": "python",
     "metadata": {},
     "outputs": [],
     "prompt_number": 480
    },
    {
     "cell_type": "code",
     "collapsed": false,
     "input": [
      "#opest = open('userurl.json', 'r')\n",
      "#opest.read()\n",
      "#opest.close()"
     ],
     "language": "python",
     "metadata": {},
     "outputs": [],
     "prompt_number": 481
    },
    {
     "cell_type": "code",
     "collapsed": false,
     "input": [
      "mincom = rmine.get_comments()"
     ],
     "language": "python",
     "metadata": {},
     "outputs": [],
     "prompt_number": 482
    },
    {
     "cell_type": "code",
     "collapsed": false,
     "input": [
      "#print mincom"
     ],
     "language": "python",
     "metadata": {},
     "outputs": [],
     "prompt_number": 483
    },
    {
     "cell_type": "code",
     "collapsed": false,
     "input": [
      "minels = []"
     ],
     "language": "python",
     "metadata": {},
     "outputs": [],
     "prompt_number": 484
    },
    {
     "cell_type": "code",
     "collapsed": false,
     "input": [
      "\n",
      "dausr = {}"
     ],
     "language": "python",
     "metadata": {},
     "outputs": [],
     "prompt_number": 485
    },
    {
     "cell_type": "code",
     "collapsed": false,
     "input": [
      "for newa in rdnew:\n",
      "    #rint newa.url\n",
      "    #print newa.author\n",
      "    linkdict.update({str(newa.author): str(newa.url)})"
     ],
     "language": "python",
     "metadata": {},
     "outputs": [],
     "prompt_number": 486
    },
    {
     "cell_type": "code",
     "collapsed": false,
     "input": [
      "for con in mincom:\n",
      "    #print con.body\n",
      "    minels.append(con)\n",
      "    dausr.update({str(con.id): str(con.body)})"
     ],
     "language": "python",
     "metadata": {},
     "outputs": [],
     "prompt_number": 487
    },
    {
     "cell_type": "code",
     "collapsed": false,
     "input": [
      "minels"
     ],
     "language": "python",
     "metadata": {},
     "outputs": [
      {
       "metadata": {},
       "output_type": "pyout",
       "prompt_number": 495,
       "text": [
        "[<praw.objects.Comment at 0x7f0e8436f210>,\n",
        " <praw.objects.Comment at 0x1835710>,\n",
        " <praw.objects.Comment at 0x1835750>,\n",
        " <praw.objects.Comment at 0x7f0e843732d0>,\n",
        " <praw.objects.Comment at 0x7f0e843733d0>,\n",
        " <praw.objects.Comment at 0x7f0e84373450>,\n",
        " <praw.objects.Comment at 0x7f0e84373590>,\n",
        " <praw.objects.Comment at 0x7f0e84373650>,\n",
        " <praw.objects.Comment at 0x7f0e843737d0>,\n",
        " <praw.objects.Comment at 0x7f0e840bb650>,\n",
        " <praw.objects.Comment at 0x7f0e840bb750>,\n",
        " <praw.objects.Comment at 0x7f0e840bb850>,\n",
        " <praw.objects.Comment at 0x7f0e840bb950>,\n",
        " <praw.objects.Comment at 0x7f0e840bba50>,\n",
        " <praw.objects.Comment at 0x7f0e840bbb50>,\n",
        " <praw.objects.Comment at 0x7f0e840bbc50>,\n",
        " <praw.objects.Comment at 0x7f0e840bbd50>,\n",
        " <praw.objects.Comment at 0x7f0e840bbe50>,\n",
        " <praw.objects.Comment at 0x7f0e840bbf50>,\n",
        " <praw.objects.Comment at 0x7f0e840df090>,\n",
        " <praw.objects.Comment at 0x7f0e840df190>,\n",
        " <praw.objects.Comment at 0x7f0e840df2d0>,\n",
        " <praw.objects.Comment at 0x7f0e840df250>,\n",
        " <praw.objects.Comment at 0x7f0e840df390>,\n",
        " <praw.objects.Comment at 0x7f0e840df490>]"
       ]
      }
     ],
     "prompt_number": 495
    },
    {
     "cell_type": "code",
     "collapsed": false,
     "input": [
      "noizjson = json.dumps(dausr)"
     ],
     "language": "python",
     "metadata": {},
     "outputs": [],
     "prompt_number": 488
    },
    {
     "cell_type": "code",
     "collapsed": false,
     "input": [
      "newposts = open('userurl.json', 'a')\n",
      "newposts.write(newzjson)\n",
      "print ('file userurl.json updated')\n",
      "newcomments = open('idcomt.json', 'a')\n",
      "newcomments.write(noizjson)\n",
      "print ('user comments updated')\n",
      "newposts.close()\n",
      "newcomments.close()"
     ],
     "language": "python",
     "metadata": {},
     "outputs": [
      {
       "output_type": "stream",
       "stream": "stdout",
       "text": [
        "file userurl.json updated\n",
        "user comments updated\n"
       ]
      }
     ],
     "prompt_number": 489
    },
    {
     "cell_type": "code",
     "collapsed": false,
     "input": [
      "rdusr = str(con.author)\n"
     ],
     "language": "python",
     "metadata": {},
     "outputs": [],
     "prompt_number": 490
    },
    {
     "cell_type": "code",
     "collapsed": false,
     "input": [
      "minelsz = []"
     ],
     "language": "python",
     "metadata": {},
     "outputs": [],
     "prompt_number": 491
    },
    {
     "cell_type": "code",
     "collapsed": false,
     "input": [],
     "language": "python",
     "metadata": {},
     "outputs": [],
     "prompt_number": 491
    },
    {
     "cell_type": "code",
     "collapsed": false,
     "input": [
      "#for mina in minels:\n",
      "    #print mina.body\n",
      "   # minelsz.append(mina.body)"
     ],
     "language": "python",
     "metadata": {},
     "outputs": [],
     "prompt_number": 492
    },
    {
     "cell_type": "code",
     "collapsed": false,
     "input": [
      "#minelsz"
     ],
     "language": "python",
     "metadata": {},
     "outputs": [],
     "prompt_number": 493
    },
    {
     "cell_type": "code",
     "collapsed": false,
     "input": [
      "#mina.body"
     ],
     "language": "python",
     "metadata": {},
     "outputs": [],
     "prompt_number": 494
    },
    {
     "cell_type": "code",
     "collapsed": false,
     "input": [],
     "language": "python",
     "metadata": {},
     "outputs": [],
     "prompt_number": 494
    },
    {
     "cell_type": "code",
     "collapsed": false,
     "input": [],
     "language": "python",
     "metadata": {},
     "outputs": [],
     "prompt_number": 297
    },
    {
     "cell_type": "code",
     "collapsed": false,
     "input": [],
     "language": "python",
     "metadata": {},
     "outputs": []
    }
   ],
   "metadata": {}
  }
 ]
}