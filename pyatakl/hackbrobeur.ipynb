{
 "metadata": {
  "name": "",
  "signature": "sha256:b57092a9d8bbc5fb60f4b314a802f7b1c23cd04f94cf8b1622b19efc50aa1ee1"
 },
 "nbformat": 3,
 "nbformat_minor": 0,
 "worksheets": [
  {
   "cells": [
    {
     "cell_type": "markdown",
     "metadata": {},
     "source": [
      "Hack BroBeur"
     ]
    },
    {
     "cell_type": "markdown",
     "metadata": {},
     "source": [
      "python script to make account at centre for logins."
     ]
    },
    {
     "cell_type": "code",
     "collapsed": false,
     "input": [
      "from github import Github\n",
      "import os \n",
      "import getpass\n",
      "import git\n",
      "import time\n",
      "from clint.textui import colored\n",
      "import dominate\n",
      "from dominate.tags import *\n",
      "import envoy"
     ],
     "language": "python",
     "metadata": {},
     "outputs": [],
     "prompt_number": 98
    },
    {
     "cell_type": "code",
     "collapsed": false,
     "input": [
      "zeuser = getpass.getuser()"
     ],
     "language": "python",
     "metadata": {},
     "outputs": [],
     "prompt_number": 69
    },
    {
     "cell_type": "code",
     "collapsed": false,
     "input": [
      "g = Github(zeuser, 'cancer123now!')"
     ],
     "language": "python",
     "metadata": {},
     "outputs": [],
     "prompt_number": 70
    },
    {
     "cell_type": "code",
     "collapsed": false,
     "input": [],
     "language": "python",
     "metadata": {},
     "outputs": [],
     "prompt_number": 70
    },
    {
     "cell_type": "code",
     "collapsed": false,
     "input": [
      "gitlist = []"
     ],
     "language": "python",
     "metadata": {},
     "outputs": [],
     "prompt_number": 71
    },
    {
     "cell_type": "code",
     "collapsed": false,
     "input": [
      "searchpy = g.search_repositories(zeuser)"
     ],
     "language": "python",
     "metadata": {},
     "outputs": [],
     "prompt_number": 72
    },
    {
     "cell_type": "code",
     "collapsed": false,
     "input": [
      "for pya in searchpy:\n",
      "    print pya.full_name\n",
      "    wcm = pya.full_name"
     ],
     "language": "python",
     "metadata": {},
     "outputs": [
      {
       "output_type": "stream",
       "stream": "stdout",
       "text": [
        "wcmckee/wcmckee.com\n",
        "wcmckee/wcmckee.github.io\n"
       ]
      }
     ],
     "prompt_number": 73
    },
    {
     "cell_type": "code",
     "collapsed": false,
     "input": [
      "for repo in g.get_user('wcmckee').get_repos():\n",
      "    gitlist.append(repo.name)"
     ],
     "language": "python",
     "metadata": {},
     "outputs": [],
     "prompt_number": 74
    },
    {
     "cell_type": "code",
     "collapsed": false,
     "input": [
      "os.mkdir('/home/wcmckee/github')"
     ],
     "language": "python",
     "metadata": {},
     "outputs": [
      {
       "ename": "OSError",
       "evalue": "[Errno 17] File exists: '/home/wcmckee/github'",
       "output_type": "pyerr",
       "traceback": [
        "\u001b[1;31m---------------------------------------------------------------------------\u001b[0m\n\u001b[1;31mOSError\u001b[0m                                   Traceback (most recent call last)",
        "\u001b[1;32m<ipython-input-75-29e69ba62084>\u001b[0m in \u001b[0;36m<module>\u001b[1;34m()\u001b[0m\n\u001b[1;32m----> 1\u001b[1;33m \u001b[0mos\u001b[0m\u001b[1;33m.\u001b[0m\u001b[0mmkdir\u001b[0m\u001b[1;33m(\u001b[0m\u001b[1;34m'/home/wcmckee/github'\u001b[0m\u001b[1;33m)\u001b[0m\u001b[1;33m\u001b[0m\u001b[0m\n\u001b[0m",
        "\u001b[1;31mOSError\u001b[0m: [Errno 17] File exists: '/home/wcmckee/github'"
       ]
      }
     ],
     "prompt_number": 75
    },
    {
     "cell_type": "code",
     "collapsed": false,
     "input": [
      "lisdir = os.listdir('/home/wcmckee/github/')"
     ],
     "language": "python",
     "metadata": {},
     "outputs": []
    },
    {
     "cell_type": "code",
     "collapsed": false,
     "input": [
      "lisdir"
     ],
     "language": "python",
     "metadata": {},
     "outputs": []
    },
    {
     "cell_type": "code",
     "collapsed": false,
     "input": [
      "curlis = []"
     ],
     "language": "python",
     "metadata": {},
     "outputs": [],
     "prompt_number": 76
    },
    {
     "cell_type": "code",
     "collapsed": false,
     "input": [
      "for lis in lisdir:\n",
      "    curlis.append(ls)"
     ],
     "language": "python",
     "metadata": {},
     "outputs": [],
     "prompt_number": 77
    },
    {
     "cell_type": "code",
     "collapsed": false,
     "input": [
      "dlrepo = list(set(gitlist) - set(curlis))"
     ],
     "language": "python",
     "metadata": {},
     "outputs": [],
     "prompt_number": 78
    },
    {
     "cell_type": "code",
     "collapsed": false,
     "input": [
      "print dlrepo"
     ],
     "language": "python",
     "metadata": {},
     "outputs": [
      {
       "output_type": "stream",
       "stream": "stdout",
       "text": [
        "[u'UnityLuaIntegration', u'molyjam2013', u'prodo-game', u'reddit_bot', u'DeltaBot', u'intercity', u'pyunderdog', u'puphpet', u'skins', u'python-patterns', u'haskell-learn', u'DailyProgBot', u'ouya-unity-plugin', u'RasPiWrite', u'HTML5-Tiny', u'pyladies', u'raspi', u'pymel', u'wcmckee.github.io', u'brobeur-static', u'compohub', u'adypy', u'hackage-server', u'clint', u'bacongamejam05', u'bbc2wp', u'intro_programming', u'pybackupz', u'wcmckee.com', u'selfspy', u'niketa', u'4chan-API', u'vIPer', u'BroBeurFishingDream', u'RedditPress', u'artcontrol-api', u'art-lastfm', u'tweepy', u'html5lib-python', u'python-guide', u'flask-ghpages-example', u'pytm', u'TPB', u'bgj05-hungry', u'opencompetencies', u'broLove', u'BirdCage', u'ggj14', u'LD48-Skins', u'autopaintpy123', u'anim_framework', u'iamagamer', u'imgur-python', u'hamiltoncomputerclub.org.nz', u'pithos', u'battlenet', u'Triger', u'ipython', u'wirepil', u'pyroster', u'Minecraft', u'RPIO', u'marshmallow', u'openfaux-server', u'SoundWall', u'AsylumJamCrushGame', u'miniprojects', u'paintingautopy', u'xboxdrv', u'brobeur-web', u'massive-wright', u'SuburbNightmare', u'python-pandora', u'SortPictures', u'Projects', u'ihaskell-notebook', u'te-whare-o-te-ata', u'pyatakl', u'BeOk', u'pywp-post', u'redtube', u'flask', u'wcmStringPY']\n"
       ]
      }
     ],
     "prompt_number": 79
    },
    {
     "cell_type": "code",
     "collapsed": false,
     "input": [
      "wafi = time.sleep(5)"
     ],
     "language": "python",
     "metadata": {},
     "outputs": [],
     "prompt_number": 82
    },
    {
     "cell_type": "code",
     "collapsed": false,
     "input": [
      "import sh"
     ],
     "language": "python",
     "metadata": {},
     "outputs": [
      {
       "ename": "ImportError",
       "evalue": "No module named sh",
       "output_type": "pyerr",
       "traceback": [
        "\u001b[1;31m---------------------------------------------------------------------------\u001b[0m\n\u001b[1;31mImportError\u001b[0m                               Traceback (most recent call last)",
        "\u001b[1;32m<ipython-input-97-9eceeb5ada6a>\u001b[0m in \u001b[0;36m<module>\u001b[1;34m()\u001b[0m\n\u001b[1;32m----> 1\u001b[1;33m \u001b[1;32mimport\u001b[0m \u001b[0msh\u001b[0m\u001b[1;33m\u001b[0m\u001b[0m\n\u001b[0m",
        "\u001b[1;31mImportError\u001b[0m: No module named sh"
       ]
      }
     ],
     "prompt_number": 97
    },
    {
     "cell_type": "code",
     "collapsed": false,
     "input": [
      "import git\n",
      "repo = git.Repo( '/home/wcmckee/learnpython' )\n",
      "print repo.git.status()"
     ],
     "language": "python",
     "metadata": {},
     "outputs": [
      {
       "ename": "AttributeError",
       "evalue": "'module' object has no attribute 'Repo'",
       "output_type": "pyerr",
       "traceback": [
        "\u001b[1;31m---------------------------------------------------------------------------\u001b[0m\n\u001b[1;31mAttributeError\u001b[0m                            Traceback (most recent call last)",
        "\u001b[1;32m<ipython-input-96-17f4f7b6ca52>\u001b[0m in \u001b[0;36m<module>\u001b[1;34m()\u001b[0m\n\u001b[0;32m      1\u001b[0m \u001b[1;32mimport\u001b[0m \u001b[0mgit\u001b[0m\u001b[1;33m\u001b[0m\u001b[0m\n\u001b[1;32m----> 2\u001b[1;33m \u001b[0mrepo\u001b[0m \u001b[1;33m=\u001b[0m \u001b[0mgit\u001b[0m\u001b[1;33m.\u001b[0m\u001b[0mRepo\u001b[0m\u001b[1;33m(\u001b[0m \u001b[1;34m'/home/wcmckee/learnpython'\u001b[0m \u001b[1;33m)\u001b[0m\u001b[1;33m\u001b[0m\u001b[0m\n\u001b[0m\u001b[0;32m      3\u001b[0m \u001b[1;32mprint\u001b[0m \u001b[0mrepo\u001b[0m\u001b[1;33m.\u001b[0m\u001b[0mgit\u001b[0m\u001b[1;33m.\u001b[0m\u001b[0mstatus\u001b[0m\u001b[1;33m(\u001b[0m\u001b[1;33m)\u001b[0m\u001b[1;33m\u001b[0m\u001b[0m\n",
        "\u001b[1;31mAttributeError\u001b[0m: 'module' object has no attribute 'Repo'"
       ]
      }
     ],
     "prompt_number": 96
    },
    {
     "cell_type": "code",
     "collapsed": false,
     "input": [
      "assert repo.bare == False"
     ],
     "language": "python",
     "metadata": {},
     "outputs": [
      {
       "ename": "AttributeError",
       "evalue": "'str' object has no attribute 'bare'",
       "output_type": "pyerr",
       "traceback": [
        "\u001b[1;31m---------------------------------------------------------------------------\u001b[0m\n\u001b[1;31mAttributeError\u001b[0m                            Traceback (most recent call last)",
        "\u001b[1;32m<ipython-input-92-bdeffb08b22d>\u001b[0m in \u001b[0;36m<module>\u001b[1;34m()\u001b[0m\n\u001b[1;32m----> 1\u001b[1;33m \u001b[1;32massert\u001b[0m \u001b[0mrepo\u001b[0m\u001b[1;33m.\u001b[0m\u001b[0mbare\u001b[0m \u001b[1;33m==\u001b[0m \u001b[0mFalse\u001b[0m\u001b[1;33m\u001b[0m\u001b[0m\n\u001b[0m",
        "\u001b[1;31mAttributeError\u001b[0m: 'str' object has no attribute 'bare'"
       ]
      }
     ],
     "prompt_number": 92
    },
    {
     "cell_type": "code",
     "collapsed": false,
     "input": [
      "ycmds = ['git', 'clone', ']"
     ],
     "language": "python",
     "metadata": {},
     "outputs": []
    },
    {
     "cell_type": "code",
     "collapsed": false,
     "input": [
      "%%bash\n",
      "df"
     ],
     "language": "python",
     "metadata": {},
     "outputs": [
      {
       "output_type": "stream",
       "stream": "stdout",
       "text": [
        "Filesystem     1K-blocks    Used Available Use% Mounted on\n",
        "rootfs           5160576 4341236    557200  89% /\n",
        "/dev/root        5160576 4341236    557200  89% /\n",
        "devtmpfs          747360       0    747360   0% /dev\n",
        "tmpfs             149660     160    149500   1% /run\n",
        "tmpfs               5120       0      5120   0% /run/lock\n",
        "tmpfs             325520       0    325520   0% /run/shm\n"
       ]
      }
     ],
     "prompt_number": 109
    },
    {
     "cell_type": "code",
     "collapsed": false,
     "input": [
      "pwd"
     ],
     "language": "python",
     "metadata": {},
     "outputs": [
      {
       "metadata": {},
       "output_type": "pyout",
       "prompt_number": 110,
       "text": [
        "u'/home/wcmckee/brobeur-web'"
       ]
      }
     ],
     "prompt_number": 110
    },
    {
     "cell_type": "code",
     "collapsed": false,
     "input": [
      "import git\n",
      "os.chdir()"
     ],
     "language": "python",
     "metadata": {},
     "outputs": []
    },
    {
     "cell_type": "code",
     "collapsed": false,
     "input": [
      "for gitbl in dlrepo:\n",
      "    print (colored.red('Downloading - ' + (colored.blue('wcmckee') + ' - ' + gitbl)))\n",
      "    #git.Git().clone(\"https://github.com/wcmckee/\" + gitbl)\n",
      "    #envoy.run('git clone https://github.com/wcmckee/' + gitbl )\n",
      "    t = envoy.run('df')\n",
      "    t.std_out\n",
      "    print ('Download complete. Waiting 5 secs till the next')\n",
      "    wafi"
     ],
     "language": "python",
     "metadata": {},
     "outputs": [
      {
       "output_type": "stream",
       "stream": "stdout",
       "text": [
        "Downloading - wcmckee - UnityLuaIntegration\n",
        "Download complete. Waiting 5 secs till the next\n",
        "Downloading - wcmckee - molyjam2013\n",
        "Download complete. Waiting 5 secs till the next\n",
        "Downloading - wcmckee - prodo-game\n",
        "Download complete. Waiting 5 secs till the next"
       ]
      },
      {
       "output_type": "stream",
       "stream": "stdout",
       "text": [
        "\n",
        "Downloading - wcmckee - reddit_bot\n",
        "Download complete. Waiting 5 secs till the next\n",
        "Downloading - wcmckee - DeltaBot\n",
        "Download complete. Waiting 5 secs till the next\n",
        "Downloading - wcmckee - intercity\n",
        "Download complete. Waiting 5 secs till the next\n",
        "Downloading - wcmckee - pyunderdog\n",
        "Download complete. Waiting 5 secs till the next"
       ]
      },
      {
       "output_type": "stream",
       "stream": "stdout",
       "text": [
        "\n",
        "Downloading - wcmckee - puphpet\n",
        "Download complete. Waiting 5 secs till the next\n",
        "Downloading - wcmckee - skins\n",
        "Download complete. Waiting 5 secs till the next\n",
        "Downloading - wcmckee - python-patterns\n",
        "Download complete. Waiting 5 secs till the next"
       ]
      },
      {
       "output_type": "stream",
       "stream": "stdout",
       "text": [
        "\n",
        "Downloading - wcmckee - haskell-learn\n",
        "Download complete. Waiting 5 secs till the next\n",
        "Downloading - wcmckee - DailyProgBot\n",
        "Download complete. Waiting 5 secs till the next\n",
        "Downloading - wcmckee - ouya-unity-plugin\n",
        "Download complete. Waiting 5 secs till the next"
       ]
      },
      {
       "output_type": "stream",
       "stream": "stdout",
       "text": [
        "\n",
        "Downloading - wcmckee - RasPiWrite\n",
        "Download complete. Waiting 5 secs till the next\n",
        "Downloading - wcmckee - HTML5-Tiny\n",
        "Download complete. Waiting 5 secs till the next\n",
        "Downloading - wcmckee - pyladies\n",
        "Download complete. Waiting 5 secs till the next"
       ]
      },
      {
       "output_type": "stream",
       "stream": "stdout",
       "text": [
        "\n",
        "Downloading - wcmckee - raspi\n",
        "Download complete. Waiting 5 secs till the next\n",
        "Downloading - wcmckee - pymel\n",
        "Download complete. Waiting 5 secs till the next\n",
        "Downloading - wcmckee - wcmckee.github.io\n",
        "Download complete. Waiting 5 secs till the next"
       ]
      },
      {
       "output_type": "stream",
       "stream": "stdout",
       "text": [
        "\n",
        "Downloading - wcmckee - brobeur-static\n",
        "Download complete. Waiting 5 secs till the next\n",
        "Downloading - wcmckee - compohub\n",
        "Download complete. Waiting 5 secs till the next\n",
        "Downloading - wcmckee - adypy\n",
        "Download complete. Waiting 5 secs till the next\n",
        "Downloading - wcmckee - hackage-server\n",
        "Download complete. Waiting 5 secs till the next"
       ]
      },
      {
       "output_type": "stream",
       "stream": "stdout",
       "text": [
        "\n",
        "Downloading - wcmckee - clint\n",
        "Download complete. Waiting 5 secs till the next\n",
        "Downloading - wcmckee - bacongamejam05\n",
        "Download complete. Waiting 5 secs till the next\n",
        "Downloading - wcmckee - bbc2wp\n",
        "Download complete. Waiting 5 secs till the next\n",
        "Downloading - wcmckee - intro_programming\n",
        "Download complete. Waiting 5 secs till the next"
       ]
      },
      {
       "output_type": "stream",
       "stream": "stdout",
       "text": [
        "\n",
        "Downloading - wcmckee - pybackupz\n",
        "Download complete. Waiting 5 secs till the next\n",
        "Downloading - wcmckee - wcmckee.com\n",
        "Download complete. Waiting 5 secs till the next\n",
        "Downloading - wcmckee - selfspy\n",
        "Download complete. Waiting 5 secs till the next\n",
        "Downloading - wcmckee - niketa\n",
        "Download complete. Waiting 5 secs till the next"
       ]
      },
      {
       "output_type": "stream",
       "stream": "stdout",
       "text": [
        "\n",
        "Downloading - wcmckee - 4chan-API\n",
        "Download complete. Waiting 5 secs till the next\n",
        "Downloading - wcmckee - vIPer\n",
        "Download complete. Waiting 5 secs till the next\n",
        "Downloading - wcmckee - BroBeurFishingDream\n",
        "Download complete. Waiting 5 secs till the next"
       ]
      },
      {
       "output_type": "stream",
       "stream": "stdout",
       "text": [
        "\n",
        "Downloading - wcmckee - RedditPress\n",
        "Download complete. Waiting 5 secs till the next\n",
        "Downloading - wcmckee - artcontrol-api\n",
        "Download complete. Waiting 5 secs till the next\n",
        "Downloading - wcmckee - art-lastfm\n",
        "Download complete. Waiting 5 secs till the next"
       ]
      },
      {
       "output_type": "stream",
       "stream": "stdout",
       "text": [
        "\n",
        "Downloading - wcmckee - tweepy\n",
        "Download complete. Waiting 5 secs till the next\n",
        "Downloading - wcmckee - html5lib-python\n",
        "Download complete. Waiting 5 secs till the next\n",
        "Downloading - wcmckee - python-guide\n",
        "Download complete. Waiting 5 secs till the next\n",
        "Downloading - wcmckee - flask-ghpages-example\n",
        "Download complete. Waiting 5 secs till the next"
       ]
      },
      {
       "output_type": "stream",
       "stream": "stdout",
       "text": [
        "\n",
        "Downloading - wcmckee - pytm\n",
        "Download complete. Waiting 5 secs till the next\n",
        "Downloading - wcmckee - TPB\n",
        "Download complete. Waiting 5 secs till the next\n",
        "Downloading - wcmckee - bgj05-hungry\n",
        "Download complete. Waiting 5 secs till the next"
       ]
      },
      {
       "output_type": "stream",
       "stream": "stdout",
       "text": [
        "\n",
        "Downloading - wcmckee - opencompetencies\n",
        "Download complete. Waiting 5 secs till the next\n",
        "Downloading - wcmckee - broLove\n",
        "Download complete. Waiting 5 secs till the next\n",
        "Downloading - wcmckee - BirdCage\n",
        "Download complete. Waiting 5 secs till the next\n",
        "Downloading - wcmckee - ggj14\n",
        "Download complete. Waiting 5 secs till the next"
       ]
      },
      {
       "output_type": "stream",
       "stream": "stdout",
       "text": [
        "\n",
        "Downloading - wcmckee - LD48-Skins\n",
        "Download complete. Waiting 5 secs till the next\n",
        "Downloading - wcmckee - autopaintpy123\n",
        "Download complete. Waiting 5 secs till the next\n",
        "Downloading - wcmckee - anim_framework\n",
        "Download complete. Waiting 5 secs till the next"
       ]
      },
      {
       "output_type": "stream",
       "stream": "stdout",
       "text": [
        "\n",
        "Downloading - wcmckee - iamagamer\n",
        "Download complete. Waiting 5 secs till the next\n",
        "Downloading - wcmckee - imgur-python\n",
        "Download complete. Waiting 5 secs till the next\n",
        "Downloading - wcmckee - hamiltoncomputerclub.org.nz\n",
        "Download complete. Waiting 5 secs till the next\n",
        "Downloading - wcmckee - pithos\n",
        "Download complete. Waiting 5 secs till the next"
       ]
      },
      {
       "output_type": "stream",
       "stream": "stdout",
       "text": [
        "\n",
        "Downloading - wcmckee - battlenet\n",
        "Download complete. Waiting 5 secs till the next\n",
        "Downloading - wcmckee - Triger\n",
        "Download complete. Waiting 5 secs till the next\n",
        "Downloading - wcmckee - ipython\n",
        "Download complete. Waiting 5 secs till the next"
       ]
      },
      {
       "output_type": "stream",
       "stream": "stdout",
       "text": [
        "\n",
        "Downloading - wcmckee - wirepil\n",
        "Download complete. Waiting 5 secs till the next\n",
        "Downloading - wcmckee - pyroster\n",
        "Download complete. Waiting 5 secs till the next\n",
        "Downloading - wcmckee - Minecraft\n",
        "Download complete. Waiting 5 secs till the next\n",
        "Downloading - wcmckee - RPIO\n",
        "Download complete. Waiting 5 secs till the next"
       ]
      },
      {
       "output_type": "stream",
       "stream": "stdout",
       "text": [
        "\n",
        "Downloading - wcmckee - marshmallow\n",
        "Download complete. Waiting 5 secs till the next\n",
        "Downloading - wcmckee - openfaux-server\n",
        "Download complete. Waiting 5 secs till the next\n",
        "Downloading - wcmckee - SoundWall\n",
        "Download complete. Waiting 5 secs till the next\n",
        "Downloading - wcmckee - AsylumJamCrushGame\n",
        "Download complete. Waiting 5 secs till the next"
       ]
      },
      {
       "output_type": "stream",
       "stream": "stdout",
       "text": [
        "\n",
        "Downloading - wcmckee - miniprojects\n",
        "Download complete. Waiting 5 secs till the next\n",
        "Downloading - wcmckee - paintingautopy\n",
        "Download complete. Waiting 5 secs till the next\n",
        "Downloading - wcmckee - xboxdrv\n",
        "Download complete. Waiting 5 secs till the next"
       ]
      },
      {
       "output_type": "stream",
       "stream": "stdout",
       "text": [
        "\n",
        "Downloading - wcmckee - brobeur-web\n",
        "Download complete. Waiting 5 secs till the next\n",
        "Downloading - wcmckee - massive-wright\n",
        "Download complete. Waiting 5 secs till the next\n",
        "Downloading - wcmckee - SuburbNightmare\n",
        "Download complete. Waiting 5 secs till the next"
       ]
      },
      {
       "output_type": "stream",
       "stream": "stdout",
       "text": [
        "\n",
        "Downloading - wcmckee - python-pandora\n",
        "Download complete. Waiting 5 secs till the next\n",
        "Downloading - wcmckee - SortPictures\n",
        "Download complete. Waiting 5 secs till the next\n",
        "Downloading - wcmckee - Projects\n",
        "Download complete. Waiting 5 secs till the next"
       ]
      },
      {
       "output_type": "stream",
       "stream": "stdout",
       "text": [
        "\n",
        "Downloading - wcmckee - ihaskell-notebook\n",
        "Download complete. Waiting 5 secs till the next\n",
        "Downloading - wcmckee - te-whare-o-te-ata\n",
        "Download complete. Waiting 5 secs till the next\n",
        "Downloading - wcmckee - pyatakl\n",
        "Download complete. Waiting 5 secs till the next\n",
        "Downloading - wcmckee - BeOk\n",
        "Download complete. Waiting 5 secs till the next"
       ]
      },
      {
       "output_type": "stream",
       "stream": "stdout",
       "text": [
        "\n",
        "Downloading - wcmckee - pywp-post\n",
        "Download complete. Waiting 5 secs till the next\n",
        "Downloading - wcmckee - redtube\n",
        "Download complete. Waiting 5 secs till the next\n",
        "Downloading - wcmckee - flask\n",
        "Download complete. Waiting 5 secs till the next"
       ]
      },
      {
       "output_type": "stream",
       "stream": "stdout",
       "text": [
        "\n",
        "Downloading - wcmckee - wcmStringPY\n",
        "Download complete. Waiting 5 secs till the next\n"
       ]
      }
     ],
     "prompt_number": 107
    },
    {
     "cell_type": "code",
     "collapsed": false,
     "input": [
      "from paramiko import SSHClient\n",
      "from scp import SCPClient\n",
      "\n",
      "ssh = SSHClient()\n",
      "ssh.load_system_host_keys()\n",
      "ssh.connect('example.com')\n"
     ],
     "language": "python",
     "metadata": {},
     "outputs": [
      {
       "ename": "ImportError",
       "evalue": "No module named paramiko",
       "output_type": "pyerr",
       "traceback": [
        "\u001b[1;31m---------------------------------------------------------------------------\u001b[0m\n\u001b[1;31mImportError\u001b[0m                               Traceback (most recent call last)",
        "\u001b[1;32m<ipython-input-104-40cc5821b00c>\u001b[0m in \u001b[0;36m<module>\u001b[1;34m()\u001b[0m\n\u001b[1;32m----> 1\u001b[1;33m \u001b[1;32mfrom\u001b[0m \u001b[0mparamiko\u001b[0m \u001b[1;32mimport\u001b[0m \u001b[0mSSHClient\u001b[0m\u001b[1;33m\u001b[0m\u001b[0m\n\u001b[0m\u001b[0;32m      2\u001b[0m \u001b[1;32mfrom\u001b[0m \u001b[0mscp\u001b[0m \u001b[1;32mimport\u001b[0m \u001b[0mSCPClient\u001b[0m\u001b[1;33m\u001b[0m\u001b[0m\n\u001b[0;32m      3\u001b[0m \u001b[1;33m\u001b[0m\u001b[0m\n\u001b[0;32m      4\u001b[0m \u001b[0mssh\u001b[0m \u001b[1;33m=\u001b[0m \u001b[0mSSHClient\u001b[0m\u001b[1;33m(\u001b[0m\u001b[1;33m)\u001b[0m\u001b[1;33m\u001b[0m\u001b[0m\n\u001b[0;32m      5\u001b[0m \u001b[0mssh\u001b[0m\u001b[1;33m.\u001b[0m\u001b[0mload_system_host_keys\u001b[0m\u001b[1;33m(\u001b[0m\u001b[1;33m)\u001b[0m\u001b[1;33m\u001b[0m\u001b[0m\n",
        "\u001b[1;31mImportError\u001b[0m: No module named paramiko"
       ]
      }
     ],
     "prompt_number": 104
    },
    {
     "cell_type": "code",
     "collapsed": false,
     "input": [
      "import subprocess"
     ],
     "language": "python",
     "metadata": {},
     "outputs": [],
     "prompt_number": 63
    },
    {
     "cell_type": "code",
     "collapsed": false,
     "input": [],
     "language": "python",
     "metadata": {},
     "outputs": []
    },
    {
     "cell_type": "code",
     "collapsed": false,
     "input": [
      "%%bash \n",
      "source `dirname $0`/github-config.sh\n"
     ],
     "language": "python",
     "metadata": {},
     "outputs": [
      {
       "output_type": "stream",
       "stream": "stderr",
       "text": [
        "bash: line 1: ./github-config.sh: No such file or directory\n"
       ]
      }
     ],
     "prompt_number": 118
    },
    {
     "cell_type": "code",
     "collapsed": false,
     "input": [],
     "language": "python",
     "metadata": {},
     "outputs": []
    },
    {
     "cell_type": "code",
     "collapsed": false,
     "input": [
      "cmdrun = ['sudo', 'pip', 'install', 'paramiko']"
     ],
     "language": "python",
     "metadata": {},
     "outputs": [],
     "prompt_number": 112
    },
    {
     "cell_type": "code",
     "collapsed": false,
     "input": [
      "supi = envoy.run(cmdrun)"
     ],
     "language": "python",
     "metadata": {},
     "outputs": [
      {
       "output_type": "stream",
       "stream": "stderr",
       "text": [
        "Exception in thread Thread-431:\n",
        "Traceback (most recent call last):\n",
        "  File \"/usr/lib/python2.7/threading.py\", line 552, in __bootstrap_inner\n",
        "    self.run()\n",
        "  File \"/usr/lib/python2.7/threading.py\", line 505, in run\n",
        "    self.__target(*self.__args, **self.__kwargs)\n",
        "  File \"/usr/local/lib/python2.7/dist-packages/envoy/core.py\", line 40, in target\n",
        "    bufsize=0,\n",
        "  File \"/usr/lib/python2.7/subprocess.py\", line 679, in __init__\n",
        "    errread, errwrite)\n",
        "  File \"/usr/lib/python2.7/subprocess.py\", line 1259, in _execute_child\n",
        "    raise child_exception\n",
        "OSError: [Errno 2] No such file or directory\n",
        "\n"
       ]
      },
      {
       "ename": "AttributeError",
       "evalue": "'NoneType' object has no attribute 'returncode'",
       "output_type": "pyerr",
       "traceback": [
        "\u001b[1;31m---------------------------------------------------------------------------\u001b[0m\n\u001b[1;31mAttributeError\u001b[0m                            Traceback (most recent call last)",
        "\u001b[1;32m<ipython-input-113-e04bc577db2a>\u001b[0m in \u001b[0;36m<module>\u001b[1;34m()\u001b[0m\n\u001b[1;32m----> 1\u001b[1;33m \u001b[0msupi\u001b[0m \u001b[1;33m=\u001b[0m \u001b[0menvoy\u001b[0m\u001b[1;33m.\u001b[0m\u001b[0mrun\u001b[0m\u001b[1;33m(\u001b[0m\u001b[0mcmdrun\u001b[0m\u001b[1;33m)\u001b[0m\u001b[1;33m\u001b[0m\u001b[0m\n\u001b[0m",
        "\u001b[1;32m/usr/local/lib/python2.7/dist-packages/envoy/core.pyc\u001b[0m in \u001b[0;36mrun\u001b[1;34m(command, data, timeout)\u001b[0m\n\u001b[0;32m    165\u001b[0m \u001b[1;33m\u001b[0m\u001b[0m\n\u001b[0;32m    166\u001b[0m         \u001b[0mcmd\u001b[0m \u001b[1;33m=\u001b[0m \u001b[0mCommand\u001b[0m\u001b[1;33m(\u001b[0m\u001b[0mc\u001b[0m\u001b[1;33m)\u001b[0m\u001b[1;33m\u001b[0m\u001b[0m\n\u001b[1;32m--> 167\u001b[1;33m         \u001b[0mout\u001b[0m\u001b[1;33m,\u001b[0m \u001b[0merr\u001b[0m \u001b[1;33m=\u001b[0m \u001b[0mcmd\u001b[0m\u001b[1;33m.\u001b[0m\u001b[0mrun\u001b[0m\u001b[1;33m(\u001b[0m\u001b[0mdata\u001b[0m\u001b[1;33m,\u001b[0m \u001b[0mtimeout\u001b[0m\u001b[1;33m)\u001b[0m\u001b[1;33m\u001b[0m\u001b[0m\n\u001b[0m\u001b[0;32m    168\u001b[0m \u001b[1;33m\u001b[0m\u001b[0m\n\u001b[0;32m    169\u001b[0m         \u001b[0mr\u001b[0m \u001b[1;33m=\u001b[0m \u001b[0mResponse\u001b[0m\u001b[1;33m(\u001b[0m\u001b[0mprocess\u001b[0m\u001b[1;33m=\u001b[0m\u001b[0mcmd\u001b[0m\u001b[1;33m)\u001b[0m\u001b[1;33m\u001b[0m\u001b[0m\n",
        "\u001b[1;32m/usr/local/lib/python2.7/dist-packages/envoy/core.pyc\u001b[0m in \u001b[0;36mrun\u001b[1;34m(self, data, timeout)\u001b[0m\n\u001b[0;32m     50\u001b[0m             \u001b[0mself\u001b[0m\u001b[1;33m.\u001b[0m\u001b[0mprocess\u001b[0m\u001b[1;33m.\u001b[0m\u001b[0mterminate\u001b[0m\u001b[1;33m(\u001b[0m\u001b[1;33m)\u001b[0m\u001b[1;33m\u001b[0m\u001b[0m\n\u001b[0;32m     51\u001b[0m             \u001b[0mthread\u001b[0m\u001b[1;33m.\u001b[0m\u001b[0mjoin\u001b[0m\u001b[1;33m(\u001b[0m\u001b[1;33m)\u001b[0m\u001b[1;33m\u001b[0m\u001b[0m\n\u001b[1;32m---> 52\u001b[1;33m         \u001b[0mself\u001b[0m\u001b[1;33m.\u001b[0m\u001b[0mreturncode\u001b[0m \u001b[1;33m=\u001b[0m \u001b[0mself\u001b[0m\u001b[1;33m.\u001b[0m\u001b[0mprocess\u001b[0m\u001b[1;33m.\u001b[0m\u001b[0mreturncode\u001b[0m\u001b[1;33m\u001b[0m\u001b[0m\n\u001b[0m\u001b[0;32m     53\u001b[0m         \u001b[1;32mreturn\u001b[0m \u001b[0mself\u001b[0m\u001b[1;33m.\u001b[0m\u001b[0mout\u001b[0m\u001b[1;33m,\u001b[0m \u001b[0mself\u001b[0m\u001b[1;33m.\u001b[0m\u001b[0merr\u001b[0m\u001b[1;33m\u001b[0m\u001b[0m\n\u001b[0;32m     54\u001b[0m \u001b[1;33m\u001b[0m\u001b[0m\n",
        "\u001b[1;31mAttributeError\u001b[0m: 'NoneType' object has no attribute 'returncode'"
       ]
      }
     ],
     "prompt_number": 113
    },
    {
     "cell_type": "code",
     "collapsed": false,
     "input": [
      "insvn = subprocess.check_output(cmdrun)"
     ],
     "language": "python",
     "metadata": {},
     "outputs": [
      {
       "ename": "KeyboardInterrupt",
       "evalue": "",
       "output_type": "pyerr",
       "traceback": [
        "\u001b[1;31m---------------------------------------------------------------------------\u001b[0m\n\u001b[1;31mKeyboardInterrupt\u001b[0m                         Traceback (most recent call last)",
        "\u001b[1;32m<ipython-input-116-bbe22f7185ae>\u001b[0m in \u001b[0;36m<module>\u001b[1;34m()\u001b[0m\n\u001b[1;32m----> 1\u001b[1;33m \u001b[0minsvn\u001b[0m \u001b[1;33m=\u001b[0m \u001b[0msubprocess\u001b[0m\u001b[1;33m.\u001b[0m\u001b[0mcheck_output\u001b[0m\u001b[1;33m(\u001b[0m\u001b[0mcmdrun\u001b[0m\u001b[1;33m)\u001b[0m\u001b[1;33m\u001b[0m\u001b[0m\n\u001b[0m",
        "\u001b[1;32m/usr/lib/python2.7/subprocess.pyc\u001b[0m in \u001b[0;36mcheck_output\u001b[1;34m(*popenargs, **kwargs)\u001b[0m\n\u001b[0;32m    536\u001b[0m         \u001b[1;32mraise\u001b[0m \u001b[0mValueError\u001b[0m\u001b[1;33m(\u001b[0m\u001b[1;34m'stdout argument not allowed, it will be overridden.'\u001b[0m\u001b[1;33m)\u001b[0m\u001b[1;33m\u001b[0m\u001b[0m\n\u001b[0;32m    537\u001b[0m     \u001b[0mprocess\u001b[0m \u001b[1;33m=\u001b[0m \u001b[0mPopen\u001b[0m\u001b[1;33m(\u001b[0m\u001b[0mstdout\u001b[0m\u001b[1;33m=\u001b[0m\u001b[0mPIPE\u001b[0m\u001b[1;33m,\u001b[0m \u001b[1;33m*\u001b[0m\u001b[0mpopenargs\u001b[0m\u001b[1;33m,\u001b[0m \u001b[1;33m**\u001b[0m\u001b[0mkwargs\u001b[0m\u001b[1;33m)\u001b[0m\u001b[1;33m\u001b[0m\u001b[0m\n\u001b[1;32m--> 538\u001b[1;33m     \u001b[0moutput\u001b[0m\u001b[1;33m,\u001b[0m \u001b[0munused_err\u001b[0m \u001b[1;33m=\u001b[0m \u001b[0mprocess\u001b[0m\u001b[1;33m.\u001b[0m\u001b[0mcommunicate\u001b[0m\u001b[1;33m(\u001b[0m\u001b[1;33m)\u001b[0m\u001b[1;33m\u001b[0m\u001b[0m\n\u001b[0m\u001b[0;32m    539\u001b[0m     \u001b[0mretcode\u001b[0m \u001b[1;33m=\u001b[0m \u001b[0mprocess\u001b[0m\u001b[1;33m.\u001b[0m\u001b[0mpoll\u001b[0m\u001b[1;33m(\u001b[0m\u001b[1;33m)\u001b[0m\u001b[1;33m\u001b[0m\u001b[0m\n\u001b[0;32m    540\u001b[0m     \u001b[1;32mif\u001b[0m \u001b[0mretcode\u001b[0m\u001b[1;33m:\u001b[0m\u001b[1;33m\u001b[0m\u001b[0m\n",
        "\u001b[1;32m/usr/lib/python2.7/subprocess.pyc\u001b[0m in \u001b[0;36mcommunicate\u001b[1;34m(self, input)\u001b[0m\n\u001b[0;32m    744\u001b[0m                 \u001b[0mself\u001b[0m\u001b[1;33m.\u001b[0m\u001b[0mstdin\u001b[0m\u001b[1;33m.\u001b[0m\u001b[0mclose\u001b[0m\u001b[1;33m(\u001b[0m\u001b[1;33m)\u001b[0m\u001b[1;33m\u001b[0m\u001b[0m\n\u001b[0;32m    745\u001b[0m             \u001b[1;32melif\u001b[0m \u001b[0mself\u001b[0m\u001b[1;33m.\u001b[0m\u001b[0mstdout\u001b[0m\u001b[1;33m:\u001b[0m\u001b[1;33m\u001b[0m\u001b[0m\n\u001b[1;32m--> 746\u001b[1;33m                 \u001b[0mstdout\u001b[0m \u001b[1;33m=\u001b[0m \u001b[0m_eintr_retry_call\u001b[0m\u001b[1;33m(\u001b[0m\u001b[0mself\u001b[0m\u001b[1;33m.\u001b[0m\u001b[0mstdout\u001b[0m\u001b[1;33m.\u001b[0m\u001b[0mread\u001b[0m\u001b[1;33m)\u001b[0m\u001b[1;33m\u001b[0m\u001b[0m\n\u001b[0m\u001b[0;32m    747\u001b[0m                 \u001b[0mself\u001b[0m\u001b[1;33m.\u001b[0m\u001b[0mstdout\u001b[0m\u001b[1;33m.\u001b[0m\u001b[0mclose\u001b[0m\u001b[1;33m(\u001b[0m\u001b[1;33m)\u001b[0m\u001b[1;33m\u001b[0m\u001b[0m\n\u001b[0;32m    748\u001b[0m             \u001b[1;32melif\u001b[0m \u001b[0mself\u001b[0m\u001b[1;33m.\u001b[0m\u001b[0mstderr\u001b[0m\u001b[1;33m:\u001b[0m\u001b[1;33m\u001b[0m\u001b[0m\n",
        "\u001b[1;32m/usr/lib/python2.7/subprocess.pyc\u001b[0m in \u001b[0;36m_eintr_retry_call\u001b[1;34m(func, *args)\u001b[0m\n\u001b[0;32m    476\u001b[0m     \u001b[1;32mwhile\u001b[0m \u001b[0mTrue\u001b[0m\u001b[1;33m:\u001b[0m\u001b[1;33m\u001b[0m\u001b[0m\n\u001b[0;32m    477\u001b[0m         \u001b[1;32mtry\u001b[0m\u001b[1;33m:\u001b[0m\u001b[1;33m\u001b[0m\u001b[0m\n\u001b[1;32m--> 478\u001b[1;33m             \u001b[1;32mreturn\u001b[0m \u001b[0mfunc\u001b[0m\u001b[1;33m(\u001b[0m\u001b[1;33m*\u001b[0m\u001b[0margs\u001b[0m\u001b[1;33m)\u001b[0m\u001b[1;33m\u001b[0m\u001b[0m\n\u001b[0m\u001b[0;32m    479\u001b[0m         \u001b[1;32mexcept\u001b[0m \u001b[1;33m(\u001b[0m\u001b[0mOSError\u001b[0m\u001b[1;33m,\u001b[0m \u001b[0mIOError\u001b[0m\u001b[1;33m)\u001b[0m \u001b[1;32mas\u001b[0m \u001b[0me\u001b[0m\u001b[1;33m:\u001b[0m\u001b[1;33m\u001b[0m\u001b[0m\n\u001b[0;32m    480\u001b[0m             \u001b[1;32mif\u001b[0m \u001b[0me\u001b[0m\u001b[1;33m.\u001b[0m\u001b[0merrno\u001b[0m \u001b[1;33m==\u001b[0m \u001b[0merrno\u001b[0m\u001b[1;33m.\u001b[0m\u001b[0mEINTR\u001b[0m\u001b[1;33m:\u001b[0m\u001b[1;33m\u001b[0m\u001b[0m\n",
        "\u001b[1;31mKeyboardInterrupt\u001b[0m: "
       ]
      }
     ],
     "prompt_number": 116
    },
    {
     "cell_type": "code",
     "collapsed": false,
     "input": [
      "newlis = []"
     ],
     "language": "python",
     "metadata": {},
     "outputs": [],
     "prompt_number": 47
    },
    {
     "cell_type": "code",
     "collapsed": false,
     "input": [
      "for repoz in g.get_user('wcmckee').get_repos():\n",
      "                        newlis.append(repo.name)"
     ],
     "language": "python",
     "metadata": {},
     "outputs": [],
     "prompt_number": 48
    },
    {
     "cell_type": "code",
     "collapsed": false,
     "input": [
      "gitlist"
     ],
     "language": "python",
     "metadata": {},
     "outputs": [
      {
       "metadata": {},
       "output_type": "pyout",
       "prompt_number": 49,
       "text": [
        "[u'4chan-API',\n",
        " u'adypy',\n",
        " u'anim_framework',\n",
        " u'art-lastfm',\n",
        " u'artcontrol-api',\n",
        " u'AsylumJamCrushGame',\n",
        " u'autopaintpy123',\n",
        " u'bacongamejam05',\n",
        " u'battlenet',\n",
        " u'bbc2wp',\n",
        " u'BeOk',\n",
        " u'bgj05-hungry',\n",
        " u'BirdCage',\n",
        " u'brobeur-static',\n",
        " u'brobeur-web',\n",
        " u'BroBeurFishingDream',\n",
        " u'broLove',\n",
        " u'clint',\n",
        " u'compohub',\n",
        " u'DailyProgBot',\n",
        " u'DeltaBot',\n",
        " u'flask',\n",
        " u'flask-ghpages-example',\n",
        " u'ggj14',\n",
        " u'hackage-server',\n",
        " u'hamiltoncomputerclub.org.nz',\n",
        " u'haskell-learn',\n",
        " u'HTML5-Tiny',\n",
        " u'html5lib-python',\n",
        " u'iamagamer',\n",
        " u'ihaskell-notebook',\n",
        " u'imgur-python',\n",
        " u'intercity',\n",
        " u'intro_programming',\n",
        " u'ipython',\n",
        " u'LD48-Skins',\n",
        " u'marshmallow',\n",
        " u'massive-wright',\n",
        " u'Minecraft',\n",
        " u'miniprojects',\n",
        " u'molyjam2013',\n",
        " u'niketa',\n",
        " u'opencompetencies',\n",
        " u'openfaux-server',\n",
        " u'ouya-unity-plugin',\n",
        " u'paintingautopy',\n",
        " u'pithos',\n",
        " u'prodo-game',\n",
        " u'Projects',\n",
        " u'puphpet',\n",
        " u'pyatakl',\n",
        " u'pybackupz',\n",
        " u'pyladies',\n",
        " u'pymel',\n",
        " u'pyroster',\n",
        " u'python-guide',\n",
        " u'python-pandora',\n",
        " u'python-patterns',\n",
        " u'pytm',\n",
        " u'pyunderdog',\n",
        " u'pywp-post',\n",
        " u'raspi',\n",
        " u'RasPiWrite',\n",
        " u'RedditPress',\n",
        " u'reddit_bot',\n",
        " u'redtube',\n",
        " u'RPIO',\n",
        " u'selfspy',\n",
        " u'skins',\n",
        " u'SortPictures',\n",
        " u'SoundWall',\n",
        " u'SuburbNightmare',\n",
        " u'te-whare-o-te-ata',\n",
        " u'TPB',\n",
        " u'Triger',\n",
        " u'tweepy',\n",
        " u'UnityLuaIntegration',\n",
        " u'vIPer',\n",
        " u'wcmckee.com',\n",
        " u'wcmckee.github.io',\n",
        " u'wcmStringPY',\n",
        " u'wirepil',\n",
        " u'xboxdrv',\n",
        " u'4chan-API',\n",
        " u'adypy',\n",
        " u'anim_framework',\n",
        " u'art-lastfm',\n",
        " u'artcontrol-api',\n",
        " u'AsylumJamCrushGame',\n",
        " u'autopaintpy123',\n",
        " u'bacongamejam05',\n",
        " u'battlenet',\n",
        " u'bbc2wp',\n",
        " u'BeOk',\n",
        " u'bgj05-hungry',\n",
        " u'BirdCage',\n",
        " u'brobeur-static',\n",
        " u'brobeur-web',\n",
        " u'BroBeurFishingDream',\n",
        " u'broLove',\n",
        " u'clint',\n",
        " u'compohub',\n",
        " u'DailyProgBot',\n",
        " u'DeltaBot',\n",
        " u'flask',\n",
        " u'flask-ghpages-example',\n",
        " u'ggj14',\n",
        " u'hackage-server',\n",
        " u'hamiltoncomputerclub.org.nz',\n",
        " u'haskell-learn',\n",
        " u'HTML5-Tiny',\n",
        " u'html5lib-python',\n",
        " u'iamagamer',\n",
        " u'ihaskell-notebook',\n",
        " u'imgur-python',\n",
        " u'intercity',\n",
        " u'intro_programming',\n",
        " u'ipython',\n",
        " u'LD48-Skins',\n",
        " u'marshmallow',\n",
        " u'massive-wright',\n",
        " u'Minecraft',\n",
        " u'miniprojects',\n",
        " u'molyjam2013',\n",
        " u'niketa',\n",
        " u'opencompetencies',\n",
        " u'openfaux-server',\n",
        " u'ouya-unity-plugin',\n",
        " u'paintingautopy',\n",
        " u'pithos',\n",
        " u'prodo-game',\n",
        " u'Projects',\n",
        " u'puphpet',\n",
        " u'pyatakl',\n",
        " u'pybackupz',\n",
        " u'pyladies',\n",
        " u'pymel',\n",
        " u'pyroster',\n",
        " u'python-guide',\n",
        " u'python-pandora',\n",
        " u'python-patterns',\n",
        " u'pytm',\n",
        " u'pyunderdog',\n",
        " u'pywp-post',\n",
        " u'raspi',\n",
        " u'RasPiWrite',\n",
        " u'RedditPress',\n",
        " u'reddit_bot',\n",
        " u'redtube',\n",
        " u'RPIO',\n",
        " u'selfspy',\n",
        " u'skins',\n",
        " u'SortPictures',\n",
        " u'SoundWall',\n",
        " u'SuburbNightmare',\n",
        " u'te-whare-o-te-ata',\n",
        " u'TPB',\n",
        " u'Triger',\n",
        " u'tweepy',\n",
        " u'UnityLuaIntegration',\n",
        " u'vIPer',\n",
        " u'wcmckee.com',\n",
        " u'wcmckee.github.io',\n",
        " u'wcmStringPY',\n",
        " u'wirepil',\n",
        " u'xboxdrv',\n",
        " u'xboxdrv',\n",
        " u'xboxdrv',\n",
        " u'xboxdrv',\n",
        " u'xboxdrv',\n",
        " u'xboxdrv',\n",
        " u'xboxdrv',\n",
        " u'xboxdrv',\n",
        " u'xboxdrv',\n",
        " u'xboxdrv',\n",
        " u'xboxdrv',\n",
        " u'xboxdrv',\n",
        " u'xboxdrv',\n",
        " u'xboxdrv',\n",
        " u'xboxdrv',\n",
        " u'xboxdrv',\n",
        " u'xboxdrv',\n",
        " u'xboxdrv',\n",
        " u'xboxdrv',\n",
        " u'xboxdrv',\n",
        " u'xboxdrv',\n",
        " u'xboxdrv',\n",
        " u'xboxdrv',\n",
        " u'xboxdrv',\n",
        " u'xboxdrv',\n",
        " u'xboxdrv',\n",
        " u'xboxdrv',\n",
        " u'xboxdrv',\n",
        " u'xboxdrv',\n",
        " u'xboxdrv',\n",
        " u'xboxdrv',\n",
        " u'xboxdrv',\n",
        " u'xboxdrv',\n",
        " u'xboxdrv',\n",
        " u'xboxdrv',\n",
        " u'xboxdrv',\n",
        " u'xboxdrv',\n",
        " u'xboxdrv',\n",
        " u'xboxdrv',\n",
        " u'xboxdrv',\n",
        " u'xboxdrv',\n",
        " u'xboxdrv',\n",
        " u'xboxdrv',\n",
        " u'xboxdrv',\n",
        " u'xboxdrv',\n",
        " u'xboxdrv',\n",
        " u'xboxdrv',\n",
        " u'xboxdrv',\n",
        " u'xboxdrv',\n",
        " u'xboxdrv',\n",
        " u'xboxdrv',\n",
        " u'xboxdrv',\n",
        " u'xboxdrv',\n",
        " u'xboxdrv',\n",
        " u'xboxdrv',\n",
        " u'xboxdrv',\n",
        " u'xboxdrv',\n",
        " u'xboxdrv',\n",
        " u'xboxdrv',\n",
        " u'xboxdrv',\n",
        " u'xboxdrv',\n",
        " u'xboxdrv',\n",
        " u'xboxdrv',\n",
        " u'xboxdrv',\n",
        " u'xboxdrv',\n",
        " u'xboxdrv',\n",
        " u'xboxdrv',\n",
        " u'xboxdrv',\n",
        " u'xboxdrv',\n",
        " u'xboxdrv',\n",
        " u'xboxdrv',\n",
        " u'xboxdrv',\n",
        " u'xboxdrv',\n",
        " u'xboxdrv',\n",
        " u'xboxdrv',\n",
        " u'xboxdrv',\n",
        " u'xboxdrv',\n",
        " u'xboxdrv',\n",
        " u'xboxdrv',\n",
        " u'xboxdrv',\n",
        " u'xboxdrv',\n",
        " u'xboxdrv',\n",
        " u'xboxdrv',\n",
        " u'xboxdrv']"
       ]
      }
     ],
     "prompt_number": 49
    },
    {
     "cell_type": "code",
     "collapsed": false,
     "input": [
      "ls"
     ],
     "language": "python",
     "metadata": {},
     "outputs": [
      {
       "output_type": "stream",
       "stream": "stdout",
       "text": [
        "Desktop            \u001b[0m\u001b[01;34mbrobeur-web\u001b[0m/            nzpug.rst\r\n",
        "\u001b[01;34mDocuments\u001b[0m/         \u001b[01;34mcomputerclub\u001b[0m/           \u001b[01;34mpyatakl\u001b[0m/\r\n",
        "\u001b[01;34mPyLadies\u001b[0m/          drfrank.blend           \u001b[01;34mpyunderdog\u001b[0m/\r\n",
        "\u001b[01;34madypy\u001b[0m/             fish.blend              \u001b[01;34mrge\u001b[0m/\r\n",
        "\u001b[01;34manimate\u001b[0m/           \u001b[01;34mflask-ghpages-example\u001b[0m/  \u001b[01;34mtestpy\u001b[0m/\r\n",
        "\u001b[01;34martcontrol-api\u001b[0m/    hamcompclub.rst         \u001b[01;34mwcmckee\u001b[0m/\r\n",
        "billtalk.rst       \u001b[01;34mhighwaypiz\u001b[0m/             \u001b[01;34mwcmckee.github.io\u001b[0m/\r\n",
        "billtalk.rst.save  \u001b[01;34mlearnpython\u001b[0m/            \u001b[01;34mwhai\u001b[0m/\r\n",
        "bro                may.rst                 \u001b[01;34mwhaihanga\u001b[0m/\r\n",
        "bro.pub            maycomputclub.rst       will.blend\r\n",
        "\u001b[01;34mbrob\u001b[0m/              \u001b[01;31mnikartctrl.tar.gz\u001b[0m       wp.sql\r\n"
       ]
      }
     ],
     "prompt_number": 27
    },
    {
     "cell_type": "code",
     "collapsed": false,
     "input": [
      "cd brobeur-web/"
     ],
     "language": "python",
     "metadata": {},
     "outputs": [
      {
       "output_type": "stream",
       "stream": "stdout",
       "text": [
        "/home/wcmckee/brobeur-web\n"
       ]
      }
     ],
     "prompt_number": 28
    },
    {
     "cell_type": "code",
     "collapsed": false,
     "input": [
      "minex = open(')"
     ],
     "language": "python",
     "metadata": {},
     "outputs": [
      {
       "output_type": "stream",
       "stream": "stdout",
       "text": [
        "LICENSE    \u001b[0m\u001b[01;34mimgs\u001b[0m/          imgsort.py  \u001b[01;34mpages\u001b[0m/          style.css\r\n",
        "README.md  imgsort.ipynb  index.html  sitebuilder.py\r\n"
       ]
      }
     ],
     "prompt_number": 29
    },
    {
     "cell_type": "code",
     "collapsed": false,
     "input": [
      "indop = open('index.html', 'r')"
     ],
     "language": "python",
     "metadata": {},
     "outputs": [],
     "prompt_number": 31
    },
    {
     "cell_type": "code",
     "collapsed": false,
     "input": [],
     "language": "python",
     "metadata": {},
     "outputs": []
    },
    {
     "cell_type": "code",
     "collapsed": false,
     "input": [
      "indop.read()"
     ],
     "language": "python",
     "metadata": {},
     "outputs": [
      {
       "metadata": {},
       "output_type": "pyout",
       "prompt_number": 33,
       "text": [
        "'<!DOCTYPE html>\\n<html lang=\"en\">\\n    <head>\\n        <title>BroBeur Studios</title>\\n        <meta charset=\"UTF-8\"/>\\n        <meta name=\"description\" content=\"game development\">\\n        \\n        <link rel=\"stylesheet\" href=\"style.css\">\\n        <link rel=\"icon\" type=\"image/ico\" href=\"favicon.ico\">\\n        \\n        <script src=\"js/jquery-1.9.1.min.js\"></script>\\n        <script src=\"js/jquery.maskedinput.min.js\"></script>\\n        <script src=\"js/page.js\"></script> \\n\\n    </head>\\n    <body><div id=\"top-bar\">\\n            <div id=\"header\">\\n                <div id=\"logo\">\\n                    <a href=\"#home\"><img alt=\"logo\" title=\"logo\" src=\"imgs/brobeur.png\"></a>\\n                </div>\\n                <ul id=\"nav-list\">\\n                    <li class=\"nav-item\" id=\"nav-home\">\\n                        <a href=\"#home\">Home</a>\\n                    </li>\\n                    <li class=\"nav-item\" id=\"nav-about\">\\n                        <a href=\"#about\">About</a>\\n                    </li>\\n                    <li class=\"nav-item\" id=\"nav-details\">\\n                        <a href=\"#details\">Details</a>\\n                    </li>\\n                    <li class=\"nav-item\" id=\"nav-register\">\\n                        <a href=\"#register\">Register</a>\\n                    </li>\\n                    <li class=\"nav-item\" id=\"nav-sponsorship\">\\n                        <a href=\"#sponsorship\">Sponsorship</a>\\n                    </li>\\n                    <li class=\"nav-item\" id=\"nav-contact\">\\n                        <a href=\"#contact\">Contact</a>\\n                    </li>\\n                    <li class=\"nav-item\" id=\"nav-contact\">\\n\\n</form></div> \\n                    </li>\\n                </ul>\\n\\n\\n                    \\n               \\n                </div>\\n            </div>\\n        </div>\\n\\n        <div id=\"main-content\">\\n\\n            <div class=\"content\" id=\"home\">\\n\\n\\n                <img class=\"clothing star\" src=\"images/star/cupid-overlay.png\">\\n               \\n                <p class=\"content-title\">BroBeur Studios</p>  \\n                <a><img alt=\"logo\" title=\"bird\" src=\"imgs/lana.png\"></a>\\n                <p class=\"content-text-highlight\">Video Game Development</p> \\n                <p class=\"content-text\">digital and traditional drawing/painting, concept art, game development</p>\\n                <p class=\"content-text\">Since March 2013</p>\\n                \\n                <a></a><img alt=\"logo\" title=\"partymoon\" src=\"imgs/partymoon.png\"></a>\\n\\n\\n\\n\\n      \\n\\n    \\n                </div>\\n        <div id=\"sponsors\">\\n                <a href=\"#sponsors\" />\\n                    <!--<p class=\"content-text-highlight\">We need your help! Please consider <a href=\"#sponsorship\">joining our amazing team of sponsors</a>:</p>-->\\n                   <p>              </p>\\n                    \\n                    </a>  \\n                    \\n         \\n                </div>        </div>\\n                \\n\\n            </div>\\n            \\n            <div class=\"content\" id=\"about\">\\n                <p  id=\"about2\" class=\"content-title\">About</p>\\n                <p class=\"content-text-highlight\">Everything about BroBeur Studios\\n</p><iframe src=\"//itch.io/embed/9195\" width=\"552\" height=\"167\" frameborder=\"0\"></iframe>\\n\\n            </div>\\n\\n\\n\\n\\n            <div class=\"content\" id=\"details\">\\n                <img class=\"clothing star\" src=\"images/star/scuba-overlay.png\">\\n                <p class=\"content-title\">Details</p>\\n                <p class=\"content-text-highlight\">This is details into some stuff we do</p>\\n               <p class=\"content-text\">we dont do much</p>\\n                 <p class=\"content-text\">but software can be found at <a href=\"https://github.com/brobeur\">BroBeur Github</a> and <a href=\"https://github.com/wcmckee\">wcmckee Github</a>\\n</p>             </div>\\n            \\n            <div class=\"content\" id=\"register\">\\n                <img class=\"clothing star\" src=\"images/star/ninja-overlay.png\">\\n                <p class=\"content-title\">Register</p>\\n                        <p class=\"content-text-highlight\">Here you can Register</p>\\n                        <p class=\"context-text\">Pencil Drawing, Digital Painting, 3d, game design</a></p>\\n                <a></a>\\n                               </div>\\n                \\n            <div class=\"content\" id=\"sponsorship\">\\n                <img class=\"clothing star\" src=\"images/star/space-overlay.png\">\\n                <p class=\"content-title\">Sponsorship</p>\\n                \\n                <p class=\"content-text-highlight\">Interested in sponsorship? Plase get in touch.</p>\\n\\t\\t\\t\\t<li></li><p class=\"content-text-highlight\">artcontrol.me: The Art of William Mckee</p></li> \\n           <p></p>\\n            </div>\\n            \\n              \\n\\n\\n\\n                \\n            <div class=\"content\" id=\"contact\">\\n                <img class=\"clothing star\" src=\"images/star/zombie.png\">\\n                <p class=\"content-title\">Contact</p>\\n                <p class=\"content-text-highlight\">Contact - Email: will@artcontrol.me Twitter: art_control</a></p>\\n   \\t\\t<a class=\"twitter-timeline\" href=\"https://twitter.com/brobeur\" data-widget-id=\"487213725867180032\">Tweets by @brobeur</a>\\n<script>!function(d,s,id){var js,fjs=d.getElementsByTagName(s)[0],p=/^http:/.test(d.location)?\\'http\\':\\'https\\';if(!d.getElementById(id)){js=d.createElement(s);js.id=id;js.src=p+\"://platform.twitter.com/widgets.js\";fjs.parentNode.insertBefore(js,fjs);}}(document,\"script\",\"twitter-wjs\");</script>\\n\\n\\n                        </div>\\n                    </div>\\n                </div>\\n            </div>\\n        </div>\\n\\n    </body>\\n</html>\\n'"
       ]
      }
     ],
     "prompt_number": 33
    },
    {
     "cell_type": "code",
     "collapsed": false,
     "input": [
      "from paramiko import SSHClient\n",
      "from scp import SCPClient\n",
      "\n",
      "ssh = SSHClient()\n",
      "ssh.load_system_host_keys()\n",
      "ssh.connect('example.com')\n"
     ],
     "language": "python",
     "metadata": {},
     "outputs": []
    },
    {
     "cell_type": "code",
     "collapsed": false,
     "input": [
      "import envoy"
     ],
     "language": "python",
     "metadata": {},
     "outputs": [],
     "prompt_number": 99
    },
    {
     "cell_type": "code",
     "collapsed": false,
     "input": [
      "import clon"
     ],
     "language": "python",
     "metadata": {},
     "outputs": []
    }
   ],
   "metadata": {}
  }
 ]
}