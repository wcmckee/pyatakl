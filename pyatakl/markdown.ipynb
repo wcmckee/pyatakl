{
 "metadata": {
  "name": "",
  "signature": "sha256:54a4691f6dee2a1f4144cf19f1891f37a81ab4a1be1b7ac6f73697307050cfdd"
 },
 "nbformat": 3,
 "nbformat_minor": 0,
 "worksheets": [
  {
   "cells": [
    {
     "cell_type": "markdown",
     "metadata": {},
     "source": [
      "gm"
     ]
    },
    {
     "cell_type": "code",
     "collapsed": false,
     "input": [
      "#! /usr/bin/python\n",
      "\n",
      "import dominate # 'pip install dominate' must be run once before this\n",
      "from dominate.tags import *\n",
      "import re # Only needed because dominate doesn't let us set tab indentation\n",
      "import tempfile\n",
      "import webbrowser\n",
      "\n",
      "def generate_html(title, paragraphs):\n",
      "    page = dominate.document(title=title)\n",
      "    with page:\n",
      "        for paragraph in paragraphs:\n",
      "            p(paragraph)\n",
      "    return str(page)\n",
      "\n",
      "def read_paragraphs():\n",
      "    to_return = {'title': '', 'paragraphs': []}\n",
      "    to_return['title'] = raw_input(\"Enter a title:\\n\")\n",
      "    print \"Enter your paragraph.  Enter a blank line to finish.\"\n",
      "    for line in iter(raw_input, ''):\n",
      "        to_return['paragraphs'].append(line)\n",
      "    return to_return\n",
      "\n",
      "if __name__ == '__main__':\n",
      "    user_input = read_paragraphs()\n",
      "    html_output = generate_html(user_input['title'], user_input['paragraphs'])\n",
      "    with tempfile.NamedTemporaryFile(mode='w+t', suffix='.html', delete=False) as out:\n",
      "        # HACK: This is silly, but dominate doesn't provide a way to change the\n",
      "        # number of spaces used for a tab, but since it gives us exactly half\n",
      "        # as many as we want, we can double-up on spaces at start of line and\n",
      "        # get what we want\n",
      "        out.write(re.sub(r'^(\\s*)', r'\\1\\1', html_output, flags=re.MULTILINE))\n",
      "    webbrowser.open(out.name)"
     ],
     "language": "python",
     "metadata": {},
     "outputs": [
      {
       "name": "stdout",
       "output_type": "stream",
       "stream": "stdout",
       "text": [
        "Enter a title:\n",
        "test post\n"
       ]
      },
      {
       "output_type": "stream",
       "stream": "stdout",
       "text": [
        "Enter your paragraph.  Enter a blank line to finish.\n"
       ]
      },
      {
       "name": "stdout",
       "output_type": "stream",
       "stream": "stdout",
       "text": [
        "this is a test\n"
       ]
      },
      {
       "name": "stdout",
       "output_type": "stream",
       "stream": "stdout",
       "text": [
        "blahblah\n"
       ]
      },
      {
       "name": "stdout",
       "output_type": "stream",
       "stream": "stdout",
       "text": [
        "\n"
       ]
      }
     ],
     "prompt_number": 2
    },
    {
     "cell_type": "code",
     "collapsed": false,
     "input": [],
     "language": "python",
     "metadata": {},
     "outputs": []
    }
   ],
   "metadata": {}
  }
 ]
}